{
 "cells": [
  {
   "cell_type": "markdown",
   "metadata": {},
   "source": [
    "This is a webscraper for data from boxofficemojo\n",
    "get a dictionary of all the data we can get from the title page with \"get_data_by_id(<imdb id>)"
   ]
  },
  {
   "cell_type": "code",
   "execution_count": 1,
   "metadata": {},
   "outputs": [
    {
     "name": "stdout",
     "output_type": "stream",
     "text": [
      "Requirement already satisfied: beautifulsoup4 in c:\\users\\sam oberly\\appdata\\local\\programs\\python\\python310\\lib\\site-packages (4.12.2)"
     ]
    },
    {
     "name": "stderr",
     "output_type": "stream",
     "text": [
      "WARNING: Ignoring invalid distribution -nappy (c:\\users\\sam oberly\\appdata\\roaming\\python\\python310\\site-packages)\n",
      "WARNING: Ignoring invalid distribution -nappy (c:\\users\\sam oberly\\appdata\\roaming\\python\\python310\\site-packages)\n",
      "WARNING: Ignoring invalid distribution -nappy (c:\\users\\sam oberly\\appdata\\roaming\\python\\python310\\site-packages)\n",
      "WARNING: Ignoring invalid distribution -nappy (c:\\users\\sam oberly\\appdata\\roaming\\python\\python310\\site-packages)\n",
      "WARNING: Ignoring invalid distribution -nappy (c:\\users\\sam oberly\\appdata\\roaming\\python\\python310\\site-packages)\n",
      "WARNING: Ignoring invalid distribution -nappy (c:\\users\\sam oberly\\appdata\\roaming\\python\\python310\\site-packages)\n",
      "WARNING: There was an error checking the latest version of pip.\n"
     ]
    },
    {
     "name": "stdout",
     "output_type": "stream",
     "text": [
      "\n",
      "Requirement already satisfied: soupsieve>1.2 in c:\\users\\sam oberly\\appdata\\roaming\\python\\python310\\site-packages (from beautifulsoup4) (2.3.1)\n"
     ]
    }
   ],
   "source": [
    "!pip install beautifulsoup4"
   ]
  },
  {
   "cell_type": "code",
   "execution_count": 2,
   "metadata": {},
   "outputs": [],
   "source": [
    "from bs4 import BeautifulSoup\n",
    "import requests\n",
    "import html5lib\n",
    "import numpy as np\n",
    "import re"
   ]
  },
  {
   "cell_type": "code",
   "execution_count": 10,
   "metadata": {},
   "outputs": [],
   "source": [
    "#This gets the worldwide revenues\n",
    "def get_worldwide_rev(sp):\n",
    "    rev = {}\n",
    "    table = sp.find(\"div\", attrs={\"class\": \"a-section a-spacing-none mojo-performance-summary-table\"})\n",
    "    revenues = []\n",
    "    for row in table.findAll(\"span\", attrs={\"class\" : \"a-size-medium a-text-bold\"}):\n",
    "        money = row.findAll(\"span\", attrs={\"class\":\"money\"})\n",
    "        for m in money:\n",
    "            dol = m.get_text().split(\"$\")\n",
    "            dol = \"\".join(dol[1].split(\",\"))\n",
    "            revenues.append(int(dol))\n",
    "\n",
    "    type_of_rev = []\n",
    "    for t in table.findAll(\"span\", attrs={\"class\":\"a-size-small\"}):\n",
    "        for line in list(set(t.get_text().split(\" \"))):\n",
    "            if line.isalpha() : type_of_rev.append(line)\n",
    "\n",
    "    for i in range(len(revenues)):\n",
    "        rev[type_of_rev[i]] = revenues[i]\n",
    "    return rev\n"
   ]
  },
  {
   "cell_type": "code",
   "execution_count": 16,
   "metadata": {},
   "outputs": [],
   "source": [
    "#gets all data available in the page\n",
    "def get_data(sp):\n",
    "    table = sp.find(\"div\", attrs={\"class\": \"a-section a-spacing-none mojo-summary-values mojo-hidden-from-mobile\"})\n",
    "    avail_data = []\n",
    "    for row in table.findAll(\"div\", attrs={\"class\":\"a-section a-spacing-none\"}):\n",
    "        if \"IMDbPro\" not in row.find(\"span\").get_text() : avail_data.append(row.find(\"span\").get_text())\n",
    "\n",
    "    table = sp.find(\"div\", attrs={\"class\": \"a-section a-spacing-none mojo-summary-values mojo-hidden-from-mobile\"})\n",
    "\n",
    "    data = []\n",
    "    store_next = False\n",
    "    for t in table.findAll(\"span\"):\n",
    "        if store_next == True:\n",
    "            data.append(t.getText().strip())\n",
    "            store_next = False\n",
    "        if t.getText().strip() in avail_data:\n",
    "            store_next = True\n",
    "\n",
    "    formatted_data = []\n",
    "    for d in data:\n",
    "        a = \" \".join(d.split(\"\\n\"))\n",
    "        a = \" \".join(a.split(\" \"))\n",
    "        a = re.sub(' +', ' ', a)\n",
    "        a = a.strip()\n",
    "        if \"See full\" in a:\n",
    "            a = a.split(\"See full\")[0]\n",
    "            formatted_data.append(a.strip())\n",
    "        elif \"$\" in a:\n",
    "            dol = a.split(\"$\")\n",
    "            dol = \"\".join(dol[1].split(\",\"))\n",
    "            formatted_data.append(int(dol))\n",
    "        else:\n",
    "            formatted_data.append(a.strip())\n",
    "        \n",
    "    data_dict = {}\n",
    "    for i in range(len(avail_data)):\n",
    "        data_dict[avail_data[i]] = formatted_data[i]\n",
    "\n",
    "    return data_dict"
   ]
  },
  {
   "cell_type": "code",
   "execution_count": 14,
   "metadata": {},
   "outputs": [],
   "source": [
    "def get_data_by_id(id):\n",
    "    URL = f\"https://www.boxofficemojo.com/title/{id}/\"\n",
    "    page = requests.get(URL)\n",
    "    soup = BeautifulSoup(page.content, \"html5lib\")\n",
    "    revenue = get_worldwide_rev(soup)\n",
    "    data = get_data(soup)\n",
    "    data[\"Revenue\"] = revenue\n",
    "    return data\n"
   ]
  },
  {
   "cell_type": "code",
   "execution_count": 20,
   "metadata": {},
   "outputs": [
    {
     "name": "stdout",
     "output_type": "stream",
     "text": [
      "{'Domestic Distributor': 'Warner Bros.', 'Domestic Opening': 22550788, 'Earliest Release Date': 'October 5, 2001 (Domestic)', 'MPAA': 'R', 'Running Time': '2 hr 2 min', 'Genres': 'Action Crime Drama Thriller', 'Revenue': {'Domestic': 76631907, 'International': 28244326, 'Worldwide': 104876233}}\n"
     ]
    }
   ],
   "source": [
    "print(get_data_by_id('tt0161083'))"
   ]
  },
  {
   "cell_type": "code",
   "execution_count": 19,
   "metadata": {},
   "outputs": [
    {
     "name": "stdout",
     "output_type": "stream",
     "text": [
      "Complete\n"
     ]
    }
   ],
   "source": [
    "import pandas as pd\n",
    "\n",
    "# Load xlsx into df\n",
    "excel_file = \"english_nonadult_sample_movie_details.xlsx\"  \n",
    "df = pd.read_excel(excel_file)\n",
    "results = []\n",
    "id_values = []\n",
    "\n",
    "# Iterate through rows \n",
    "for index, row in df.iterrows():\n",
    "    # Check if the entry in column 'IMDB ID' has a value\n",
    "    if pd.notna(row['IMDB ID']):\n",
    "        movie_id = row['IMDB ID']  # Query by IMDB ID\n",
    "        data = get_data_by_id(movie_id)\n",
    "        results.append(data)\n",
    "        id_values.append(movie_id)\n",
    "\n",
    "# Create a new DataFrame from the results\n",
    "results_df = pd.DataFrame(results)\n",
    "\n",
    "# Insert the 'ID' column as the first column in the DataFrame\n",
    "results_df.insert(0, 'ID', id_values)\n",
    "\n",
    "# Specify the file path to save the results\n",
    "output_excel_file = \"BOM_Details.xlsx\"  \n",
    "\n",
    "# Save the results to an Excel file\n",
    "results_df.to_excel(output_excel_file, index=False)\n",
    "\n",
    "print(\"Complete\")\n"
   ]
  },
  {
   "cell_type": "code",
   "execution_count": null,
   "metadata": {},
   "outputs": [],
   "source": []
  }
 ],
 "metadata": {
  "kernelspec": {
   "display_name": "Python 3 (ipykernel)",
   "language": "python",
   "name": "python3"
  },
  "language_info": {
   "codemirror_mode": {
    "name": "ipython",
    "version": 3
   },
   "file_extension": ".py",
   "mimetype": "text/x-python",
   "name": "python",
   "nbconvert_exporter": "python",
   "pygments_lexer": "ipython3",
   "version": "3.10.9"
  }
 },
 "nbformat": 4,
 "nbformat_minor": 2
}
