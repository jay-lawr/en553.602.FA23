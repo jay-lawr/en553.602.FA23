{
 "cells": [
  {
   "cell_type": "code",
   "execution_count": 18,
   "id": "c40db016-c9a8-49e3-9079-043d2d6cf712",
   "metadata": {},
   "outputs": [],
   "source": [
    "import pandas as pd\n",
    "from datetime import datetime\n",
    "\n",
    "df = pd.read_csv(\"merged_data_with_revenues.csv\")\n",
    "release_dates = df[\"Release Date\"]\n",
    "\n",
    "release_years = []\n",
    "for year in release_dates:\n",
    "    date = datetime.strptime(year, '%m/%d/%y')\n",
    "    year = date.year\n",
    "    release_years.append(year)\n",
    "\n",
    "df['Release Year'] = release_years\n",
    "df.to_csv(\"merged_data_with_revenues_with_release_years.csv\")\n",
    "\n",
    "    "
   ]
  },
  {
   "cell_type": "code",
   "execution_count": null,
   "id": "f1099850-ced5-4378-ad7b-355e0cfbccba",
   "metadata": {},
   "outputs": [],
   "source": []
  }
 ],
 "metadata": {
  "kernelspec": {
   "display_name": "Python 3 (ipykernel)",
   "language": "python",
   "name": "python3"
  },
  "language_info": {
   "codemirror_mode": {
    "name": "ipython",
    "version": 3
   },
   "file_extension": ".py",
   "mimetype": "text/x-python",
   "name": "python",
   "nbconvert_exporter": "python",
   "pygments_lexer": "ipython3",
   "version": "3.10.9"
  }
 },
 "nbformat": 4,
 "nbformat_minor": 5
}
