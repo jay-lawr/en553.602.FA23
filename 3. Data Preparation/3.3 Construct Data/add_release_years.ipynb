{
 "cells": [
  {
   "cell_type": "code",
   "execution_count": 2,
   "id": "c40db016-c9a8-49e3-9079-043d2d6cf712",
   "metadata": {},
   "outputs": [],
   "source": [
    "import pandas as pd\n",
    "from datetime import datetime\n",
    "\n"
   ]
  },
  {
   "cell_type": "code",
   "execution_count": null,
   "id": "7aceb12c-ddfe-42d5-8f5a-60a1e88bd833",
   "metadata": {},
   "outputs": [],
   "source": [
    "df = pd.read_csv(\"merged_data_with_revenues.csv\")\n",
    "release_dates = df[\"Release Date\"]\n",
    "\n",
    "release_years = []\n",
    "for year in release_dates:\n",
    "    date = datetime.strptime(year, '%m/%d/%y')\n",
    "    year = date.year\n",
    "    release_years.append(year)\n",
    "\n",
    "df['Release Year'] = release_years\n",
    "df.to_csv(\"merged_data_with_revenues_with_release_years.csv\")"
   ]
  },
  {
   "cell_type": "markdown",
   "id": "0e7e0d40-ae37-4465-893d-7c46986741a7",
   "metadata": {},
   "source": [
    "# Lucas Update: Get release years for 2011-2012"
   ]
  },
  {
   "cell_type": "code",
   "execution_count": 4,
   "id": "024d0ea8-b1f6-4b16-8217-2f17c1030246",
   "metadata": {},
   "outputs": [],
   "source": [
    "df = pd.read_csv(\"2011-2012 Data/merged_2011_2012_data_with_revenues.csv\")\n",
    "release_dates = df[\"Release Date\"]\n",
    "\n",
    "release_years = []\n",
    "for year in release_dates:\n",
    "    date = datetime.strptime(year, '%m/%d/%y')\n",
    "    year = date.year\n",
    "    release_years.append(year)\n",
    "\n",
    "df['Release Year'] = release_years\n",
    "df.to_csv(\"merged_data_2011_2012_with_revenues_with_release_years.csv\")\n",
    "\n",
    "    "
   ]
  },
  {
   "cell_type": "code",
   "execution_count": null,
   "id": "112da829-6817-45eb-8a07-0e460da09a48",
   "metadata": {},
   "outputs": [],
   "source": [
    "# Lucas Update: Get Release Years for 2010"
   ]
  },
  {
   "cell_type": "code",
   "execution_count": 3,
   "id": "f16e643f-d8f9-4cbf-926e-3fac3ad9f8f8",
   "metadata": {},
   "outputs": [],
   "source": [
    "df = pd.read_csv(\"2010/merged_2010_data.csv\")\n",
    "release_dates = df[\"Release Date\"]\n",
    "\n",
    "release_years = []\n",
    "for year in release_dates:\n",
    "    date = datetime.strptime(year, '%m/%d/%y')\n",
    "    year = date.year\n",
    "    release_years.append(year)\n",
    "\n",
    "df['Release Year'] = release_years\n",
    "df.to_csv(\"merged_data_2010_with_release_years.csv\")"
   ]
  },
  {
   "cell_type": "code",
   "execution_count": null,
   "id": "8901f5cf-4cfe-4b37-a7ce-56469fc7faec",
   "metadata": {},
   "outputs": [],
   "source": []
  }
 ],
 "metadata": {
  "kernelspec": {
   "display_name": "Python 3 (ipykernel)",
   "language": "python",
   "name": "python3"
  },
  "language_info": {
   "codemirror_mode": {
    "name": "ipython",
    "version": 3
   },
   "file_extension": ".py",
   "mimetype": "text/x-python",
   "name": "python",
   "nbconvert_exporter": "python",
   "pygments_lexer": "ipython3",
   "version": "3.10.9"
  }
 },
 "nbformat": 4,
 "nbformat_minor": 5
}
