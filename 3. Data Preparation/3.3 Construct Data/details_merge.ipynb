{
 "cells": [
  {
   "cell_type": "code",
   "execution_count": 5,
   "metadata": {},
   "outputs": [],
   "source": [
    "import pandas as pd"
   ]
  },
  {
   "cell_type": "code",
   "execution_count": 3,
   "metadata": {},
   "outputs": [],
   "source": [
    "df_details = pd.read_csv(\"../3.1 Select Data/details_credits_merged.csv\")\n",
    "df_bom = pd.read_csv(\"../3.1 Select Data/BOM_full_data.csv\")"
   ]
  },
  {
   "cell_type": "code",
   "execution_count": 4,
   "metadata": {},
   "outputs": [],
   "source": [
    "df_bom.merge(df_details, left_on=\"imdb_ids\", right_on=\"IMDB ID\").to_csv(\"merged_data.csv\")\n"
   ]
  },
  {
   "cell_type": "markdown",
   "metadata": {},
   "source": [
    "# Lucas Update: Merge 2011-2012 Data"
   ]
  },
  {
   "cell_type": "code",
   "execution_count": 7,
   "metadata": {},
   "outputs": [],
   "source": [
    "df_details = pd.read_csv(\"Collecting 2011-2012 for feature engineering/BOM_2011_2012_data.csv\")\n",
    "df_bom = pd.read_csv(\"Collecting 2011-2012 for feature engineering/2011_2012_details_imdb_only.csv\")"
   ]
  },
  {
   "cell_type": "code",
   "execution_count": 9,
   "metadata": {},
   "outputs": [],
   "source": [
    "df_bom.merge(df_details, left_on=\"IMDB ID\", right_on=\"imdb_ids\").to_csv(\"merged_2011_2012_data.csv\")"
   ]
  },
  {
   "cell_type": "code",
   "execution_count": null,
   "metadata": {},
   "outputs": [],
   "source": []
  }
 ],
 "metadata": {
  "kernelspec": {
   "display_name": "Python 3 (ipykernel)",
   "language": "python",
   "name": "python3"
  },
  "language_info": {
   "codemirror_mode": {
    "name": "ipython",
    "version": 3
   },
   "file_extension": ".py",
   "mimetype": "text/x-python",
   "name": "python",
   "nbconvert_exporter": "python",
   "pygments_lexer": "ipython3",
   "version": "3.10.9"
  }
 },
 "nbformat": 4,
 "nbformat_minor": 4
}
