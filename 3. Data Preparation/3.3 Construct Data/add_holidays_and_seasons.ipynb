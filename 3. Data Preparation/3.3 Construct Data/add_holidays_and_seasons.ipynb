{
 "cells": [
  {
   "cell_type": "markdown",
   "metadata": {},
   "source": [
    "We are finding that June and July and sometimes May are consistently the best months for a theatrical release. December and to a lesser extend, November and January. Then February, March, and April are dead months. Lastly August, September, and October are ok."
   ]
  },
  {
   "cell_type": "markdown",
   "metadata": {},
   "source": [
    "First, I will take the \"Earliest Release Data\" column and parse out into \"country of earliest release\" and \"Earliest Release DateTime\"\n",
    "Then I will use the month of the date time object to split into 1 of 4 categories as discussed above.\n",
    "Then I will compare the datetime to the datetimes of federal holidays and give a 1 if near the date time of a federal holiday, 0 otherwise, were near is defined in parametes"
   ]
  },
  {
   "cell_type": "code",
   "execution_count": 2,
   "metadata": {},
   "outputs": [],
   "source": [
    "from datetime import datetime\n",
    "import pandas as pd\n"
   ]
  },
  {
   "cell_type": "code",
   "execution_count": 3,
   "metadata": {},
   "outputs": [],
   "source": [
    "test = \"January 31, 2014 (Spain)\""
   ]
  },
  {
   "cell_type": "code",
   "execution_count": 4,
   "metadata": {},
   "outputs": [],
   "source": [
    "def to_dt(release_date):\n",
    "    try:\n",
    "        date_l = release_date.split(\"(\")[0]\n",
    "        # Sample string representing a date\n",
    "        date_string = date_l.strip()\n",
    "\n",
    "        # Convert the string to a datetime object\n",
    "        datetime_object = datetime.strptime(date_string, '%B %d, %Y')\n",
    "        return datetime_object\n",
    "    except:\n",
    "        return pd.NaT"
   ]
  },
  {
   "cell_type": "code",
   "execution_count": 5,
   "metadata": {},
   "outputs": [],
   "source": [
    "df = pd.read_csv(\"./merged_data_mod_scores.csv\")\n",
    "df[\"Release Date Datetime\"] = df.apply(lambda x: to_dt(x[\"Earliest Release Date\"]), axis=1)"
   ]
  },
  {
   "cell_type": "code",
   "execution_count": 6,
   "metadata": {},
   "outputs": [],
   "source": [
    "def split_by_month(date):\n",
    "    try:\n",
    "        if date.month in {5,6,7}:\n",
    "            return \"MJJ_3\"\n",
    "        elif date.month in {8,9,10}:\n",
    "            return \"ASO_4\"\n",
    "        elif date.month in {11,12,1}:\n",
    "            return \"NDJ_1\"\n",
    "        elif date.month in {2,3,4}:\n",
    "            return \"FMA_2\"\n",
    "    except:\n",
    "        return pd.NA"
   ]
  },
  {
   "cell_type": "code",
   "execution_count": 7,
   "metadata": {},
   "outputs": [],
   "source": [
    "df[\"Season\"] = df.apply(lambda x: split_by_month(x[\"Release Date Datetime\"]), axis=1)"
   ]
  },
  {
   "cell_type": "code",
   "execution_count": 8,
   "metadata": {},
   "outputs": [
    {
     "data": {
      "text/plain": [
       "0       NDJ_1\n",
       "1       ASO_4\n",
       "2       NDJ_1\n",
       "3       FMA_2\n",
       "4       FMA_2\n",
       "        ...  \n",
       "9801    ASO_4\n",
       "9802    MJJ_3\n",
       "9803    ASO_4\n",
       "9804    ASO_4\n",
       "9805    ASO_4\n",
       "Name: Season, Length: 9806, dtype: object"
      ]
     },
     "execution_count": 8,
     "metadata": {},
     "output_type": "execute_result"
    }
   ],
   "source": [
    "df[\"Season\"]"
   ]
  },
  {
   "cell_type": "code",
   "execution_count": 9,
   "metadata": {},
   "outputs": [
    {
     "name": "stdout",
     "output_type": "stream",
     "text": [
      "{'country': US, 'expand': True, 'language': None, 'market': None, 'observed': True, 'subdiv': None, 'years': set()}\n",
      "True\n",
      "{datetime.date(2019, 1, 21): 'Martin Luther King Jr. Day', datetime.date(2019, 2, 18): \"Washington's Birthday\", datetime.date(2019, 10, 14): 'Columbus Day', datetime.date(2019, 1, 1): \"New Year's Day\", datetime.date(2019, 5, 27): 'Memorial Day', datetime.date(2019, 7, 4): 'Independence Day', datetime.date(2019, 9, 2): 'Labor Day', datetime.date(2019, 11, 11): 'Veterans Day', datetime.date(2019, 11, 28): 'Thanksgiving', datetime.date(2019, 12, 25): 'Christmas Day'}\n"
     ]
    }
   ],
   "source": [
    "from datetime import date \n",
    "import holidays \n",
    "  \n",
    "# Select country \n",
    "uk_holidays = holidays.UnitedStates() \n",
    "print(uk_holidays)\n",
    "  \n",
    "# If it is a holidays then it returns True else False\n",
    "print('01-01-2019' in uk_holidays) \n",
    " \n",
    "  \n",
    "# What holidays is it? \n",
    "\n",
    "print(uk_holidays)\n"
   ]
  },
  {
   "cell_type": "code",
   "execution_count": 10,
   "metadata": {},
   "outputs": [
    {
     "name": "stdout",
     "output_type": "stream",
     "text": [
      "False\n"
     ]
    }
   ],
   "source": [
    "from datetime import datetime, timedelta\n",
    "import holidays\n",
    "\n",
    "def is_near_holiday(input_date, country='US'):\n",
    "    \"\"\"\n",
    "    Check if a given date is within a week prior to or 5 days after a US holiday.\n",
    "\n",
    "    Parameters:\n",
    "    input_date (datetime): The date to check.\n",
    "    country (str): The country code for the holidays. Default is 'US'.\n",
    "\n",
    "    Returns:\n",
    "    bool: True if the date is near a holiday, False otherwise.\n",
    "    \"\"\"\n",
    "    us_holidays = holidays.CountryHoliday(country)\n",
    "\n",
    "    # Check a week before and 5 days after each holiday in the year of the input date\n",
    "    for date in us_holidays.keys():\n",
    "        if input_date >= date - timedelta(days=7) and input_date <= date + timedelta(days=5):\n",
    "            return True\n",
    "\n",
    "    return False\n",
    "\n",
    "# Example usage\n",
    "example_date = datetime(2023, 1, 1)  # New Year's Day in 2023\n",
    "print(is_near_holiday(example_date))\n"
   ]
  },
  {
   "cell_type": "code",
   "execution_count": 11,
   "metadata": {},
   "outputs": [],
   "source": [
    "df[\"Holiday\"] = df.apply(lambda x: is_near_holiday(x[\"Release Date Datetime\"]), axis=1)"
   ]
  },
  {
   "cell_type": "code",
   "execution_count": 14,
   "metadata": {},
   "outputs": [
    {
     "data": {
      "text/plain": [
       "0      2014-01-31\n",
       "1      2007-09-30\n",
       "2      2013-01-18\n",
       "3      2014-04-11\n",
       "4      2013-02-22\n",
       "          ...    \n",
       "9801   2010-08-27\n",
       "9802   2010-06-17\n",
       "9803   2010-09-03\n",
       "9804   2011-08-26\n",
       "9805   2010-08-12\n",
       "Name: Release Date Datetime, Length: 9806, dtype: datetime64[ns]"
      ]
     },
     "execution_count": 14,
     "metadata": {},
     "output_type": "execute_result"
    }
   ],
   "source": [
    "df[\"Release Date Datetime\"]"
   ]
  }
 ],
 "metadata": {
  "kernelspec": {
   "display_name": "Python 3",
   "language": "python",
   "name": "python3"
  },
  "language_info": {
   "codemirror_mode": {
    "name": "ipython",
    "version": 3
   },
   "file_extension": ".py",
   "mimetype": "text/x-python",
   "name": "python",
   "nbconvert_exporter": "python",
   "pygments_lexer": "ipython3",
   "version": "3.10.4"
  }
 },
 "nbformat": 4,
 "nbformat_minor": 2
}
