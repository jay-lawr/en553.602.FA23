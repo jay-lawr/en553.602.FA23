{
 "cells": [
  {
   "cell_type": "markdown",
   "id": "5f877e27",
   "metadata": {},
   "source": [
    "This code drops all rows with 'IMDB Revenue' == 0 or 'Runtime' < 60"
   ]
  },
  {
   "cell_type": "code",
   "execution_count": 12,
   "id": "25eea4fe",
   "metadata": {},
   "outputs": [],
   "source": [
    "import pandas as pd\n",
    "file_path = 'merged_data_mod_scores_US.csv'\n",
    "data = pd.read_csv(file_path)\n",
    "\n",
    "#drop rows with runtime < 60\n",
    "drop = data[data['Runtime'] < 60]\n",
    "modified = data.drop(drop.index)\n",
    "\n",
    "#drop rows with no IMDB domestic revenue\n",
    "drop = modified[modified['IMDB Domestic Revenue'] == 0]\n",
    "modified = modified.drop(drop.index)\n",
    "\n",
    "#drop rows without a US Release date\n",
    "modified = modified.dropna(subset=['US Release Date'], how = 'any')\n",
    "\n",
    "\n",
    "modified = modified.drop(columns=['Release Year', 'Raw Star Scores', 'Unweighted Star Score', 'Simple Weight Star Score', 'Log Weight Star Score', 'Exponential Weight Star Score', 'director_scores', 'production_company_scores'])"
   ]
  },
  {
   "cell_type": "code",
   "execution_count": 13,
   "id": "89a1469d",
   "metadata": {},
   "outputs": [],
   "source": [
    "export_path = 'merged_data_mod_scores_filtered_US.csv'\n",
    "modified.to_csv(export_path, index=False)"
   ]
  },
  {
   "cell_type": "code",
   "execution_count": null,
   "id": "85aac5a0",
   "metadata": {},
   "outputs": [],
   "source": []
  }
 ],
 "metadata": {
  "kernelspec": {
   "display_name": "Python 3 (ipykernel)",
   "language": "python",
   "name": "python3"
  },
  "language_info": {
   "codemirror_mode": {
    "name": "ipython",
    "version": 3
   },
   "file_extension": ".py",
   "mimetype": "text/x-python",
   "name": "python",
   "nbconvert_exporter": "python",
   "pygments_lexer": "ipython3",
   "version": "3.10.9"
  }
 },
 "nbformat": 4,
 "nbformat_minor": 5
}
