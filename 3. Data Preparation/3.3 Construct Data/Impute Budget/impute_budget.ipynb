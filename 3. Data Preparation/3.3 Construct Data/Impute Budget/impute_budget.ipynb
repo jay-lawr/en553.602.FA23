{
 "cells": [
  {
   "cell_type": "code",
   "execution_count": 19,
   "id": "1d19041e-be53-4234-872d-650e65ffaba5",
   "metadata": {},
   "outputs": [],
   "source": [
    "import pandas as pd\n",
    "from sklearn.impute import KNNImputer\n",
    "from sklearn.ensemble import RandomForestRegressor\n",
    "\n",
    "# Load the CSV data into a Pandas DataFrame\n",
    "df = pd.read_csv('../merged_data_with_revenues.csv')\n",
    "\n",
    "# Separate rows with non-null 'Budget_x' (your training set)\n",
    "train_data = df.dropna(subset=['Budget_x']).copy()  # Make a copy to avoid the warning\n",
    "\n",
    "# Create a test set by reserving a subset of 'Budget_x' for testing\n",
    "test_data = train_data.sample(frac=0.2, random_state=42).copy()  # Make a copy to avoid the warning\n",
    "\n",
    "# Set 'Budget_y' in the test set to NaN (since we are imputing it)\n",
    "test_data['Budget_y'] = None\n",
    "\n",
    "# Choose the features for the model (e.g., 'Budget_x')\n",
    "features = ['Runtime', 'Revenue_y', 'domestic_revenue', 'international_revenue', 'worldwide_revenue']\n",
    "\n",
    "# Create a K-nearest neighbors (KNN) imputer to replace missing values\n",
    "knn_imputer = KNNImputer(n_neighbors=5, weights='distance')\n",
    "\n",
    "# Impute missing values for the selected features for both train_data and test_data\n",
    "train_data[features] = knn_imputer.fit_transform(train_data[features])\n",
    "test_data[features] = knn_imputer.transform(test_data[features])\n",
    "\n",
    "# Prepare the training and test data\n",
    "X_train = train_data[features]\n",
    "y_train = train_data['Budget_y']\n",
    "X_test = test_data[features]\n",
    "\n",
    "# Create and train a Random Forest Regressor (you can choose a different model)\n",
    "model = RandomForestRegressor()\n",
    "model.fit(X_train, y_train)\n",
    "\n",
    "# Predict missing 'Budget_y' values\n",
    "predicted_budget_y = model.predict(X_test)\n",
    "\n",
    "# Assign the predictions back to the original DataFrame\n",
    "df.loc[test_data.index, 'Budget_y'] = predicted_budget_y\n",
    "\n",
    "# Save the DataFrame with imputed values\n",
    "df.to_csv('imputed_data.csv', index=False)"
   ]
  },
  {
   "cell_type": "markdown",
   "id": "5780df3f-42a1-43f8-ad96-a206a236f676",
   "metadata": {},
   "source": [
    "## Doesn't work all that well. Great!"
   ]
  }
 ],
 "metadata": {
  "kernelspec": {
   "display_name": "Python 3 (ipykernel)",
   "language": "python",
   "name": "python3"
  },
  "language_info": {
   "codemirror_mode": {
    "name": "ipython",
    "version": 3
   },
   "file_extension": ".py",
   "mimetype": "text/x-python",
   "name": "python",
   "nbconvert_exporter": "python",
   "pygments_lexer": "ipython3",
   "version": "3.9.7"
  }
 },
 "nbformat": 4,
 "nbformat_minor": 5
}
