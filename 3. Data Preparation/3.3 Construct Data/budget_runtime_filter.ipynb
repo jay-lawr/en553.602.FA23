{
 "cells": [
  {
   "cell_type": "markdown",
   "id": "5f877e27",
   "metadata": {},
   "source": [
    "This code drops all rows with 'TMDB Budget' == 0 or 'Runtime' < 60"
   ]
  },
  {
   "cell_type": "code",
   "execution_count": 4,
   "id": "25eea4fe",
   "metadata": {},
   "outputs": [
    {
     "name": "stdout",
     "output_type": "stream",
     "text": [
      "    Unnamed: 0 Running Time                                          Genres  \\\n",
      "2            2  1 hr 49 min             Action Crime Drama Mystery Thriller   \n",
      "6            6  1 hr 29 min  Action Adventure Comedy Horror Sci-Fi Thriller   \n",
      "8            8  1 hr 56 min                     Action Crime Drama Thriller   \n",
      "9            9  1 hr 32 min                               Documentary Music   \n",
      "14          14  1 hr 40 min                         Fantasy Horror Thriller   \n",
      "\n",
      "                          IMDB Title   MPAA      Domestic Distributor  \\\n",
      "2                 Broken City (2013)      R     Twentieth Century Fox   \n",
      "6                     Spiders (2013)  PG-13  Millennium Entertainment   \n",
      "8          Out of the Furnace (2013)      R          Relativity Media   \n",
      "9   One Direction: This Is Us (2013)     PG          TriStar Pictures   \n",
      "14                       Mama (2013)  PG-13        Universal Pictures   \n",
      "\n",
      "    Domestic Opening              Earliest Release Date  IMDB Budget  \\\n",
      "2          8268908.0  January 18, 2013 (Domestic, EMEA)     35000000   \n",
      "6                NaN        February 8, 2013 (Domestic)            0   \n",
      "8          5220288.0        December 4, 2013 (Domestic)     22000000   \n",
      "9         15815497.0             August 28, 2013 (EMEA)     10000000   \n",
      "14        28402310.0      January 17, 2013 (APAC, EMEA)     15000000   \n",
      "\n",
      "    TMDB Budget  ... Release Year Merged Budget Merged Revenue  \\\n",
      "2      56000000  ...         2013      35000000       19701164   \n",
      "6       7000000  ...         2013       7000000         257019   \n",
      "8      22000000  ...         2013      22000000       11330849   \n",
      "9      10000000  ...         2013      10000000       28873374   \n",
      "14     15000000  ...         2013      15000000       71628180   \n",
      "\n",
      "                                      Raw Star Scores Unweighted Star Score  \\\n",
      "2   [295, 158, 21, 0, 0, 0, 0, 0, 80, 0, 0, 0, 0, ...                   554   \n",
      "6   [0, 0, 0, 0, 0, 0, 0, 0, 0, 0, 0, 0, 0, 0, 0, ...                     0   \n",
      "8   [165, 39, 0, 0, 0, 0, 59, 0, 0, 0, 0, 0, 0, 0,...                   263   \n",
      "9     [0, 0, 0, 0, 0, 0, 0, 135, 0, 0, 0, 0, 0, 0, 0]                   135   \n",
      "14  [91, 0, 0, 0, 0, 0, 0, 0, 0, 0, 0, 0, 0, 0, 0, 0]                    91   \n",
      "\n",
      "   Simple Weight Star Score  Log Weight Star Score  \\\n",
      "2                     470.0             459.478850   \n",
      "6                       0.0               0.000000   \n",
      "8                     223.7             200.985775   \n",
      "9                      40.5               0.333804   \n",
      "14                     91.0              90.000188   \n",
      "\n",
      "    Exponential Weight Star Score director_scores  production_company_scores  \n",
      "2                      444.130435            67.0                      360.0  \n",
      "6                        0.000000             0.0                      262.0  \n",
      "8                      204.695122             0.0                     1896.0  \n",
      "9                       12.500000             0.0                      366.0  \n",
      "14                      91.000000             0.0                     1514.0  \n",
      "\n",
      "[5 rows x 36 columns]\n"
     ]
    }
   ],
   "source": [
    "import pandas as pd\n",
    "file_path = 'merged_data_mod_scores.csv'\n",
    "data = pd.read_csv(file_path)\n",
    "drop = data[(data['TMDB Budget'] == 0) | (data['Runtime'] < 60)]\n",
    "\n",
    "# Dropping the rows that meet the conditions\n",
    "modified = data.drop(drop.index)\n",
    "print(modified.head())"
   ]
  },
  {
   "cell_type": "code",
   "execution_count": 5,
   "id": "89a1469d",
   "metadata": {},
   "outputs": [],
   "source": [
    "export_path = 'merged_data_mod_scores_filtered.csv'\n",
    "modified.to_csv(export_path, index=False)"
   ]
  },
  {
   "cell_type": "code",
   "execution_count": null,
   "id": "85aac5a0",
   "metadata": {},
   "outputs": [],
   "source": []
  }
 ],
 "metadata": {
  "kernelspec": {
   "display_name": "Python 3 (ipykernel)",
   "language": "python",
   "name": "python3"
  },
  "language_info": {
   "codemirror_mode": {
    "name": "ipython",
    "version": 3
   },
   "file_extension": ".py",
   "mimetype": "text/x-python",
   "name": "python",
   "nbconvert_exporter": "python",
   "pygments_lexer": "ipython3",
   "version": "3.10.9"
  }
 },
 "nbformat": 4,
 "nbformat_minor": 5
}
