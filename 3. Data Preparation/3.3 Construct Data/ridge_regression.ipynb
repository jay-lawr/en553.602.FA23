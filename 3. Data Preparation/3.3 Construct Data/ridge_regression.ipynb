{
 "cells": [
  {
   "cell_type": "markdown",
   "id": "91c878ed",
   "metadata": {},
   "source": [
    ">This code is intended to perform ridge regression of budget, runtime, simple weighted star score, total director score, total production company score, and genre cluster. It is based on the ridge regression example from https://machinelearningmastery.com/ridge-regression-with-python/"
   ]
  },
  {
   "cell_type": "code",
   "execution_count": 9,
   "id": "f3f25b1e",
   "metadata": {},
   "outputs": [
    {
     "name": "stdout",
     "output_type": "stream",
     "text": [
      "(3595, 40)\n",
      "  Running Time                                          Genres  \\\n",
      "0  1 hr 22 min                               Documentary Sport   \n",
      "1  1 hr 49 min             Action Crime Drama Mystery Thriller   \n",
      "2  1 hr 30 min                                           Drama   \n",
      "3  1 hr 46 min                     Biography Drama History War   \n",
      "4  1 hr 29 min  Action Adventure Comedy Horror Sci-Fi Thriller   \n",
      "\n",
      "                IMDB Title   MPAA      Domestic Distributor  Domestic Opening  \\\n",
      "0     Into the Mind (2013)    NaN                       NaN               NaN   \n",
      "1       Broken City (2013)      R     Twentieth Century Fox         8268908.0   \n",
      "2   Redwood Highway (2013)  PG-13            Monterey Media              30.0   \n",
      "3  Bless Me, Ultima (2012)  PG-13      Arenas Entertainment          470109.0   \n",
      "4           Spiders (2013)  PG-13  Millennium Entertainment               NaN   \n",
      "\n",
      "               Earliest Release Date  IMDB Budget  TMDB Budget      Genre ID  \\\n",
      "0           January 31, 2014 (Spain)            0            0          [99]   \n",
      "1  January 18, 2013 (Domestic, EMEA)     35000000     56000000  [53, 80, 18]   \n",
      "2          April 11, 2014 (Domestic)            0            0          [18]   \n",
      "3       February 22, 2013 (Domestic)            0            0   [18, 10752]   \n",
      "4        February 8, 2013 (Domestic)            0      7000000     [878, 53]   \n",
      "\n",
      "   ... Unweighted Star Score Simple Weight Star Score Log Weight Star Score  \\\n",
      "0  ...                     0                      0.0               0.00000   \n",
      "1  ...                   554                    470.0             459.47885   \n",
      "2  ...                     0                      0.0               0.00000   \n",
      "3  ...                     0                      0.0               0.00000   \n",
      "4  ...                     0                      0.0               0.00000   \n",
      "\n",
      "  Exponential Weight Star Score  \\\n",
      "0                      0.000000   \n",
      "1                    444.130435   \n",
      "2                      0.000000   \n",
      "3                      0.000000   \n",
      "4                      0.000000   \n",
      "\n",
      "  Movie Contribution to Director and Production Scores  Total Director Score  \\\n",
      "0                                                  0                       0   \n",
      "1                                                  0                      68   \n",
      "2                                                  0                       0   \n",
      "3                                                  0                       0   \n",
      "4                                                  0                       0   \n",
      "\n",
      "   Avg Director Score Total Production Company Score  \\\n",
      "0                 0.0                              0   \n",
      "1                68.0                            557   \n",
      "2                 0.0                              0   \n",
      "3                 0.0                              0   \n",
      "4                 0.0                            292   \n",
      "\n",
      "   Avg Production Company Score Genre Cluster  \n",
      "0                      0.000000             3  \n",
      "1                     61.888889             0  \n",
      "2                      0.000000             1  \n",
      "3                      0.000000             2  \n",
      "4                    146.000000             0  \n",
      "\n",
      "[5 rows x 40 columns]\n"
     ]
    }
   ],
   "source": [
    "# load and summarize the dataset\n",
    "from numpy import mean\n",
    "from numpy import std\n",
    "from numpy import absolute\n",
    "from pandas import read_csv\n",
    "from pandas import read_csv\n",
    "from matplotlib import pyplot\n",
    "import pandas as pd\n",
    "from sklearn.model_selection import cross_val_score, RepeatedKFold, GridSearchCV\n",
    "from sklearn.linear_model import Ridge\n",
    "from sklearn.metrics import mean_absolute_error\n",
    "from sklearn.preprocessing import StandardScaler\n",
    "from sklearn.pipeline import Pipeline\n",
    "\n",
    "# load dataset\n",
    "filename = 'merged_US_allscores_similarity.csv'\n",
    "dataframe = read_csv(filename)\n",
    "# summarize shape\n",
    "print(dataframe.shape)\n",
    "# summarize first few lines\n",
    "print(dataframe.head())"
   ]
  },
  {
   "cell_type": "code",
   "execution_count": 14,
   "id": "cfe20eb0",
   "metadata": {},
   "outputs": [
    {
     "name": "stdout",
     "output_type": "stream",
     "text": [
      "Best MAE: 24105947.942\n",
      "Best Config: {'ridge__alpha': 1e-06}\n"
     ]
    }
   ],
   "source": [
    "# Assume 'feature_columns' is a list containing the names of the columns you want to include\n",
    "feature_columns = ['Total Production Company Score', 'Total Director Score', 'Simple Weight Star Score']\n",
    "\n",
    "# Select the specified features from the DataFrame\n",
    "selected_data = dataframe[feature_columns + ['Merged Revenue']]\n",
    "\n",
    "# Convert the DataFrame to a NumPy array\n",
    "data = selected_data.values\n",
    "\n",
    "# Separate the features (X) and target variable (y)\n",
    "X, y = data[:, :-1], data[:, -1]\n",
    "\n",
    "# Create a pipeline with Ridge regression and StandardScaler\n",
    "model = Pipeline([\n",
    "    ('scaler', StandardScaler()),\n",
    "    ('ridge', Ridge())\n",
    "])\n",
    "\n",
    "# Define the hyperparameter grid\n",
    "param_grid = {'ridge__alpha': [0.000001,0.00001,0.0001, 0.001, 0.01, 0.1, 1, 10, 100, 1000]}\n",
    "\n",
    "# Define the model evaluation method\n",
    "cv = RepeatedKFold(n_splits=10, n_repeats=3, random_state=1)\n",
    "\n",
    "# Create the GridSearchCV object\n",
    "grid_search = GridSearchCV(model, param_grid, scoring='neg_mean_absolute_error', cv=cv, n_jobs=-1)\n",
    "\n",
    "# Fit the grid search to the data\n",
    "grid_search.fit(X, y)\n",
    "\n",
    "# Print the best hyperparameters and corresponding MAE\n",
    "print('Best MAE: %.3f' % (-grid_search.best_score_))\n",
    "print('Best Config: %s' % grid_search.best_params_)\n"
   ]
  },
  {
   "cell_type": "code",
   "execution_count": 13,
   "id": "1f589816",
   "metadata": {},
   "outputs": [
    {
     "ename": "SyntaxError",
     "evalue": "invalid syntax (3170572521.py, line 1)",
     "output_type": "error",
     "traceback": [
      "\u001b[1;36m  Cell \u001b[1;32mIn[13], line 1\u001b[1;36m\u001b[0m\n\u001b[1;33m    Best MAE: 24105948.537\u001b[0m\n\u001b[1;37m         ^\u001b[0m\n\u001b[1;31mSyntaxError\u001b[0m\u001b[1;31m:\u001b[0m invalid syntax\n"
     ]
    }
   ],
   "source": [
    "Best MAE: 24105948.537"
   ]
  },
  {
   "cell_type": "code",
   "execution_count": null,
   "id": "0c040bf8",
   "metadata": {},
   "outputs": [],
   "source": []
  }
 ],
 "metadata": {
  "kernelspec": {
   "display_name": "Python 3 (ipykernel)",
   "language": "python",
   "name": "python3"
  },
  "language_info": {
   "codemirror_mode": {
    "name": "ipython",
    "version": 3
   },
   "file_extension": ".py",
   "mimetype": "text/x-python",
   "name": "python",
   "nbconvert_exporter": "python",
   "pygments_lexer": "ipython3",
   "version": "3.10.9"
  }
 },
 "nbformat": 4,
 "nbformat_minor": 5
}
