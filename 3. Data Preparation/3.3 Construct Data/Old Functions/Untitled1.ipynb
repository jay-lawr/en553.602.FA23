{
 "cells": [
  {
   "cell_type": "code",
   "execution_count": null,
   "id": "bad7c7f2-e677-4ace-a81d-a6907cf1ba32",
   "metadata": {},
   "outputs": [],
   "source": [
    "import pandas as pd\n",
    "import csv"
   ]
  },
  {
   "cell_type": "code",
   "execution_count": null,
   "id": "29895e5c-d767-4109-985a-7c62dcc5df48",
   "metadata": {},
   "outputs": [],
   "source": [
    "# Initialize csv file paths\n",
    "csv_file_path1= 'merged_data_mod_dir_score.csv'\n",
    "# Create DataFrames from both CSV files\n",
    "df1 = pd.read_csv(csv_file_path)\n",
    "# Initialize csv file paths\n",
    "csv_file_path2= 'merged_data_mod_prod_score.csv'\n",
    "# Create DataFrames from both CSV files\n",
    "df2 = pd.read_csv(csv_file_path)\n",
    "# Initialize csv file paths\n",
    "csv_file_path3= 'merged_data_mod_scores.csv'\n",
    "# Create DataFrames from both CSV files\n",
    "df3 = pd.read_csv(csv_file_path)"
   ]
  },
  {
   "cell_type": "code",
   "execution_count": null,
   "id": "805a0460-1215-474f-8282-edbc971149aa",
   "metadata": {},
   "outputs": [],
   "source": [
    "df_final = df3.copy(deep = True)\n"
   ]
  }
 ],
 "metadata": {
  "kernelspec": {
   "display_name": "Python 3 (ipykernel)",
   "language": "python",
   "name": "python3"
  },
  "language_info": {
   "codemirror_mode": {
    "name": "ipython",
    "version": 3
   },
   "file_extension": ".py",
   "mimetype": "text/x-python",
   "name": "python",
   "nbconvert_exporter": "python",
   "pygments_lexer": "ipython3",
   "version": "3.10.9"
  }
 },
 "nbformat": 4,
 "nbformat_minor": 5
}
