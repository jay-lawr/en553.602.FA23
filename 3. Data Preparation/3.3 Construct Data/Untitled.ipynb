{
 "cells": [
  {
   "cell_type": "code",
   "execution_count": 1,
   "id": "b2d396a3-b4ef-43cc-8305-e46a7f62a725",
   "metadata": {},
   "outputs": [],
   "source": [
    "import pandas as pd"
   ]
  },
  {
   "cell_type": "code",
   "execution_count": 3,
   "id": "b7e1491d-d8dd-4696-a44c-d687e353ac68",
   "metadata": {},
   "outputs": [],
   "source": [
    "main = pd.read_csv(\"clean_merged_data.csv\")\n",
    "new_data = pd.read_csv(\"2011-2012 Data/clean_merged_2011_2012_data.csv\")\n",
    "\n",
    "pd.concat([main, new_data]).to_csv(\"clean_merged_data_with_2011_2012.csv\")"
   ]
  },
  {
   "cell_type": "code",
   "execution_count": null,
   "id": "d0215418-e470-4c21-abde-864cd45d43a5",
   "metadata": {},
   "outputs": [],
   "source": []
  }
 ],
 "metadata": {
  "kernelspec": {
   "display_name": "Python 3 (ipykernel)",
   "language": "python",
   "name": "python3"
  },
  "language_info": {
   "codemirror_mode": {
    "name": "ipython",
    "version": 3
   },
   "file_extension": ".py",
   "mimetype": "text/x-python",
   "name": "python",
   "nbconvert_exporter": "python",
   "pygments_lexer": "ipython3",
   "version": "3.10.9"
  }
 },
 "nbformat": 4,
 "nbformat_minor": 5
}
