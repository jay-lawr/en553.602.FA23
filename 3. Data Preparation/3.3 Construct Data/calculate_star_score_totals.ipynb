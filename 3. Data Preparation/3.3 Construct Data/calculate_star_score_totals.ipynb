{
 "cells": [
  {
   "cell_type": "markdown",
   "id": "bf2e9ed6-d478-41de-8d81-6152f4eb656c",
   "metadata": {},
   "source": [
    "# This code turns the vector of raw star scores into summed star score values based on a) raw total, b) a logarithmic function based on billing order, and c) an expontential function based on billing order"
   ]
  },
  {
   "cell_type": "code",
   "execution_count": null,
   "id": "6bbf5e38-6bdf-4ed6-81ff-9cdca7f727a3",
   "metadata": {},
   "outputs": [],
   "source": [
    "from tmdbv3api import TMDb\n",
    "from tmdbv3api import Movie\n",
    "from tmdbv3api.exceptions import TMDbException\n",
    "import random\n",
    "import pandas as pd\n",
    "import csv\n",
    "import numpy as np\n",
    "import ast\n",
    "from math import exp\n",
    "from datetime import datetime\n",
    "tmdb=TMDb()\n",
    "tmdb.api_key='9cf68f4c97c8f0cc6bb9646da389a808'"
   ]
  },
  {
   "cell_type": "code",
   "execution_count": null,
   "id": "80e4e609-dd1a-4bd1-ba4f-bef7058d7b1a",
   "metadata": {},
   "outputs": [],
   "source": [
    "#Calculates the weight for an individual star score based on billing order using a simple percent drop off system"
   ]
  },
  {
   "cell_type": "code",
   "execution_count": 10,
   "id": "b707ef43-112b-49cf-aece-6ff0c69b73b0",
   "metadata": {},
   "outputs": [],
   "source": [
    "def calculate_star_score_with_weights_simple_version(billing_order,star_score):\n",
    "    if billing_order > 10:\n",
    "        return 0\n",
    "    else:\n",
    "        mod = 1 - (billing_order-1) * .1\n",
    "        star_score_mod = mod*star_score\n",
    "        return star_score_mod"
   ]
  },
  {
   "cell_type": "code",
   "execution_count": null,
   "id": "52157820-fbda-4f43-9c85-3d7bfb7b7485",
   "metadata": {},
   "outputs": [],
   "source": [
    "#Calculates the weight for an individual star score based on billing order using a logarithmic weighting system"
   ]
  },
  {
   "cell_type": "code",
   "execution_count": 12,
   "id": "f3560745-0e19-4ba8-85b1-381a95350793",
   "metadata": {},
   "outputs": [],
   "source": [
    "def calculate_star_score_with_weights_log_version(billing_order,star_score):\n",
    "    # Define the shape parameters\n",
    "    X_0 = 4\n",
    "    k = 1.5\n",
    "    Z = k * (billing_order - X_0)\n",
    "    # Calculate the star score using the logistic function (can be modified)\n",
    "    mod = 1 - 1 / (1 + np.exp(-Z))\n",
    "    star_score_mod= star_score*mod\n",
    "    return star_score_mod"
   ]
  },
  {
   "cell_type": "code",
   "execution_count": null,
   "id": "9e46d896-bd5c-4721-99d0-8d1c3b6467fe",
   "metadata": {},
   "outputs": [],
   "source": [
    "#Calculates the weight for an individual star score based on billing order using an exponential weighting system"
   ]
  },
  {
   "cell_type": "code",
   "execution_count": null,
   "id": "27f69d64-48e6-4158-b28a-a7eb9883f894",
   "metadata": {},
   "outputs": [],
   "source": [
    "def calculate_star_score_with_weights_exponential_version(billing_order,star_score):\n",
    "    # Define the shape parameters\n",
    "    exp = 2\n",
    "    k = 0.2\n",
    "    Z = k * (billing_order - X_0)\n",
    "    # Calculate the star score using the logistic function (can be modified)\n",
    "    mod = 1 / (1 + (k)(billing_order-1)^(exp))\n",
    "    star_score_mod=star_score*mod\n",
    "    return star_score_mod"
   ]
  },
  {
   "cell_type": "code",
   "execution_count": null,
   "id": "2fa41880-3e64-466d-bd59-f0e66fd532a6",
   "metadata": {},
   "outputs": [],
   "source": [
    "def calculate_total_star_score_no_weights(star_scores):\n",
    "    star_score_total = 0\n",
    "    for index, star_score in enumerate(star_scores):\n",
    "        billing_order = index + 1  # Index starts from 0 but the equation needs it to start from 1\n",
    "        if star_score is not None:\n",
    "            star_score_mod = calculate_star_scores(billing_order, star_score)  # Apply the above function to the star score\n",
    "            star_scores_mod.append(star_score_mod)\n",
    "        else:\n",
    "            star_scores_mod.append(None)  # If no star rating is available for the cast, set to none\n",
    "\n",
    "    star_scores.append(star_scores_mod)  # Append that row array to a singular entry in the corresponding row in df2"
   ]
  },
  {
   "cell_type": "code",
   "execution_count": null,
   "id": "a50dda97-596d-4986-92e9-91b42379172a",
   "metadata": {},
   "outputs": [],
   "source": [
    "def calculate_total_star_score_simple_weights(star_scores):\n",
    "\n"
   ]
  },
  {
   "cell_type": "code",
   "execution_count": null,
   "id": "5d1c807f-e38b-4e45-95a3-3b2878cb0369",
   "metadata": {},
   "outputs": [],
   "source": [
    "def calculate_total_star_score_log_weights(star_scores):\n",
    "\n"
   ]
  },
  {
   "cell_type": "code",
   "execution_count": null,
   "id": "7df73de7-fa65-49b2-94b8-5bacc3995425",
   "metadata": {},
   "outputs": [],
   "source": [
    "def calculate_total_star_score_exp_weights(star_scores):\n",
    "\n"
   ]
  },
  {
   "cell_type": "code",
   "execution_count": null,
   "id": "7ac0a794-91b8-4f35-973e-d23746a16227",
   "metadata": {},
   "outputs": [],
   "source": [
    "# Initialize csv file paths\n",
    "csv_file_path ='merged_data_with_2010_data_with_star_score.csv'  \n",
    "# Create DataFrames from both CSV files\n",
    "df = pd.read_csv(csv_file_path)"
   ]
  },
  {
   "cell_type": "code",
   "execution_count": null,
   "id": "4a653ad2-7183-49cf-89ee-b2d7d79f5434",
   "metadata": {},
   "outputs": [],
   "source": [
    "star_scores = df['Raw Star Scores']\n",
    "#get various star scores for different functions\n",
    "star_score__no_weight = calculate_total_star_score_no_weights(star_scores)\n",
    "star_score_simple_weight = calculate_total_star_score_simple_weights(star_scores)\n",
    "star_score_log_weight = calculate_total_star_score_log_weights(star_scores)\n",
    "star_score_exp_weight = calculate_total_star_score_exp_weights(star_scores)\n",
    "\n",
    "\n",
    "\n"
   ]
  }
 ],
 "metadata": {
  "kernelspec": {
   "display_name": "Python 3 (ipykernel)",
   "language": "python",
   "name": "python3"
  },
  "language_info": {
   "codemirror_mode": {
    "name": "ipython",
    "version": 3
   },
   "file_extension": ".py",
   "mimetype": "text/x-python",
   "name": "python",
   "nbconvert_exporter": "python",
   "pygments_lexer": "ipython3",
   "version": "3.10.9"
  }
 },
 "nbformat": 4,
 "nbformat_minor": 5
}
