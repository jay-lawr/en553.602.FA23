{
 "cells": [
  {
   "cell_type": "code",
   "execution_count": 1,
   "metadata": {},
   "outputs": [],
   "source": [
    "import pandas as pd"
   ]
  },
  {
   "cell_type": "code",
   "execution_count": 4,
   "metadata": {},
   "outputs": [],
   "source": [
    "df = pd.read_csv(\"final_unsplit_data.csv\")"
   ]
  },
  {
   "cell_type": "code",
   "execution_count": 6,
   "metadata": {},
   "outputs": [
    {
     "name": "stdout",
     "output_type": "stream",
     "text": [
      "Unnamed: 0\n",
      "Genres\n",
      "IMDB Title\n",
      "MPAA\n",
      "Domestic Distributor\n",
      "Domestic Opening\n",
      "Earliest Release Date\n",
      "IMDB Budget\n",
      "TMDB Budget\n",
      "Genre ID\n",
      "Genre Name\n",
      "IMDB ID\n",
      "Production Company ID\n",
      "Production Company Name\n",
      "Release Date\n",
      "TMDB Revenue\n",
      "Runtime\n",
      "TMDB Title\n",
      "TMDB ID\n",
      "cast_ids\n",
      "order\n",
      "director_ids\n",
      "IMDB Domestic Revenue\n",
      "international_revenue\n",
      "worldwide_revenue\n",
      "Merged Budget\n",
      "Merged Revenue\n",
      "US Release Date\n",
      "Release Year\n",
      "Raw Star Scores\n",
      "Unweighted Star Score\n",
      "Simple Weight Star Score\n",
      "Log Weight Star Score\n",
      "Exponential Weight Star Score\n",
      "Movie Contribution to Director and Production Scores\n",
      "Total Director Score\n",
      "Avg Director Score\n",
      "Total Production Company Score\n",
      "Avg Production Company Score\n",
      "Genre Cluster\n",
      "MPAA_TMDB\n",
      "Domestic Distributor ID\n",
      "Domestic Distributor Score\n",
      "Merged_MPAA\n",
      "G\n",
      "NC-17\n",
      "NR\n",
      "PG\n",
      "PG-13\n",
      "R\n",
      "Season\n",
      "Holiday\n",
      "Adj Merged Budget\n",
      "Adj Merged Revenue\n",
      "Has Star Score\n",
      "Has Director Score\n",
      "Has Production Company Score\n",
      "Has Domestic Distributor Score\n",
      "Unweighted Star Score_normalized\n",
      "Simple Weight Star Score_normalized\n",
      "Log Weight Star Score_normalized\n",
      "Exponential Weight Star Score_normalized\n",
      "Total Director Score_normalized\n",
      "Avg Director Score_normalized\n",
      "Total Production Company Score_normalized\n",
      "Avg Production Company Score_normalized\n",
      "Domestic Distributor Score_normalized\n"
     ]
    }
   ],
   "source": [
    "for col in df.columns:\n",
    "    print(col)"
   ]
  },
  {
   "cell_type": "code",
   "execution_count": 11,
   "metadata": {},
   "outputs": [],
   "source": [
    "\n",
    "one_hot_encoded_data = pd.get_dummies(df, columns = ['Season']) "
   ]
  },
  {
   "cell_type": "code",
   "execution_count": 12,
   "metadata": {},
   "outputs": [
    {
     "name": "stdout",
     "output_type": "stream",
     "text": [
      "Unnamed: 0\n",
      "Genres\n",
      "IMDB Title\n",
      "MPAA\n",
      "Domestic Distributor\n",
      "Domestic Opening\n",
      "Earliest Release Date\n",
      "IMDB Budget\n",
      "TMDB Budget\n",
      "Genre ID\n",
      "Genre Name\n",
      "IMDB ID\n",
      "Production Company ID\n",
      "Production Company Name\n",
      "Release Date\n",
      "TMDB Revenue\n",
      "Runtime\n",
      "TMDB Title\n",
      "TMDB ID\n",
      "cast_ids\n",
      "order\n",
      "director_ids\n",
      "IMDB Domestic Revenue\n",
      "international_revenue\n",
      "worldwide_revenue\n",
      "Merged Budget\n",
      "Merged Revenue\n",
      "US Release Date\n",
      "Release Year\n",
      "Raw Star Scores\n",
      "Unweighted Star Score\n",
      "Simple Weight Star Score\n",
      "Log Weight Star Score\n",
      "Exponential Weight Star Score\n",
      "Movie Contribution to Director and Production Scores\n",
      "Total Director Score\n",
      "Avg Director Score\n",
      "Total Production Company Score\n",
      "Avg Production Company Score\n",
      "Genre Cluster\n",
      "MPAA_TMDB\n",
      "Domestic Distributor ID\n",
      "Domestic Distributor Score\n",
      "Merged_MPAA\n",
      "G\n",
      "NC-17\n",
      "NR\n",
      "PG\n",
      "PG-13\n",
      "R\n",
      "Holiday\n",
      "Adj Merged Budget\n",
      "Adj Merged Revenue\n",
      "Has Star Score\n",
      "Has Director Score\n",
      "Has Production Company Score\n",
      "Has Domestic Distributor Score\n",
      "Unweighted Star Score_normalized\n",
      "Simple Weight Star Score_normalized\n",
      "Log Weight Star Score_normalized\n",
      "Exponential Weight Star Score_normalized\n",
      "Total Director Score_normalized\n",
      "Avg Director Score_normalized\n",
      "Total Production Company Score_normalized\n",
      "Avg Production Company Score_normalized\n",
      "Domestic Distributor Score_normalized\n",
      "Season_ASO_4\n",
      "Season_FMA_2\n",
      "Season_MJJ_3\n",
      "Season_NDJ_1\n"
     ]
    }
   ],
   "source": [
    "for col in one_hot_encoded_data.columns:\n",
    "    print(col)"
   ]
  },
  {
   "cell_type": "code",
   "execution_count": 10,
   "metadata": {},
   "outputs": [],
   "source": [
    "one_hot_encoded_data.to_csv(\"final_unsplit_data.csv\")"
   ]
  }
 ],
 "metadata": {
  "kernelspec": {
   "display_name": "Python 3",
   "language": "python",
   "name": "python3"
  },
  "language_info": {
   "codemirror_mode": {
    "name": "ipython",
    "version": 3
   },
   "file_extension": ".py",
   "mimetype": "text/x-python",
   "name": "python",
   "nbconvert_exporter": "python",
   "pygments_lexer": "ipython3",
   "version": "3.10.4"
  }
 },
 "nbformat": 4,
 "nbformat_minor": 2
}
