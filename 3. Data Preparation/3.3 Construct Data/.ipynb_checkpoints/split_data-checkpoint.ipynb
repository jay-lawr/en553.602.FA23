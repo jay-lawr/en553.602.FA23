{
 "cells": [
  {
   "cell_type": "code",
   "execution_count": 2,
   "id": "ae95bcb4-0434-4915-b416-83acb9a6b639",
   "metadata": {},
   "outputs": [],
   "source": [
    "from tmdbv3api import TMDb\n",
    "from tmdbv3api import Movie\n",
    "from tmdbv3api.exceptions import TMDbException\n",
    "import random\n",
    "import pandas as pd\n",
    "import csv\n",
    "import numpy as np\n",
    "from math import exp\n",
    "import ast\n",
    "tmdb=TMDb()\n",
    "tmdb.api_key='9cf68f4c97c8f0cc6bb9646da389a808'"
   ]
  },
  {
   "cell_type": "code",
   "execution_count": 3,
   "id": "ac31909c-82a9-4f74-a638-7fb6fe1dc141",
   "metadata": {},
   "outputs": [],
   "source": [
    "# Initialize csv file paths\n",
    "csv_file_path= 'final_unsplit_data.csv'\n",
    "# Create DataFrames from both CSV files\n",
    "df = pd.read_csv(csv_file_path)\n",
    "df = df[df['Genre Name'] != '[]']"
   ]
  },
  {
   "cell_type": "code",
   "execution_count": 4,
   "id": "4aa9debf-5d7a-4385-a554-01eb03deed1c",
   "metadata": {},
   "outputs": [],
   "source": [
    "df_full_model = df.copy(deep = True)"
   ]
  },
  {
   "cell_type": "code",
   "execution_count": 5,
   "id": "e10bd792-a7ce-4466-8550-dbbf1e52c662",
   "metadata": {},
   "outputs": [],
   "source": [
    "df_test = df[(df['Release Year'] == 2022) | (df['Release Year'] == 2023)]"
   ]
  },
  {
   "cell_type": "code",
   "execution_count": 6,
   "id": "0654c0d1-6f5a-4ac3-b7d5-26a75e28261e",
   "metadata": {},
   "outputs": [],
   "source": [
    "df_train = df[df['Release Year'] < 2022]"
   ]
  },
  {
   "cell_type": "code",
   "execution_count": 8,
   "id": "ab03ae2c-41c8-4358-81ff-659d5be3154e",
   "metadata": {},
   "outputs": [],
   "source": [
    "df_full_model.to_csv(\"Final Datasets/final_full_dataset_with_categorical.csv\")\n",
    "df_train.to_csv(\"Final Datasets/final_train_dataset_with_categorical.csv\")\n",
    "df_test.to_csv(\"Final Datasets/final_test_dataset_with_categorical.csv\")"
   ]
  },
  {
   "cell_type": "raw",
   "id": "b0bfc402-4d95-4aa7-a707-9b8bdd0b7bf8",
   "metadata": {},
   "source": []
  },
  {
   "cell_type": "code",
   "execution_count": null,
   "id": "8d395875-f5c1-4d45-9cae-29b21c30e05a",
   "metadata": {},
   "outputs": [],
   "source": []
  }
 ],
 "metadata": {
  "kernelspec": {
   "display_name": "Python 3 (ipykernel)",
   "language": "python",
   "name": "python3"
  },
  "language_info": {
   "codemirror_mode": {
    "name": "ipython",
    "version": 3
   },
   "file_extension": ".py",
   "mimetype": "text/x-python",
   "name": "python",
   "nbconvert_exporter": "python",
   "pygments_lexer": "ipython3",
   "version": "3.9.7"
  }
 },
 "nbformat": 4,
 "nbformat_minor": 5
}
