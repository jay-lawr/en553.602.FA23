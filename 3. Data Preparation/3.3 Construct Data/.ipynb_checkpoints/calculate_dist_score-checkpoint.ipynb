{
 "cells": [
  {
   "cell_type": "code",
   "execution_count": 2,
   "id": "48130d42-5c0e-4224-b5bd-d22afd98e1f7",
   "metadata": {},
   "outputs": [],
   "source": [
    "from tmdbv3api import TMDb\n",
    "from tmdbv3api import Movie\n",
    "from tmdbv3api.exceptions import TMDbException\n",
    "import random\n",
    "import pandas as pd\n",
    "import csv\n",
    "import numpy as np\n",
    "from math import exp\n",
    "import ast\n",
    "tmdb=TMDb()\n",
    "tmdb.api_key='9cf68f4c97c8f0cc6bb9646da389a808'"
   ]
  },
  {
   "cell_type": "code",
   "execution_count": 3,
   "id": "36f5bb65-ec94-4270-9b1b-25830913ecb2",
   "metadata": {},
   "outputs": [],
   "source": [
    "# Initialize csv file paths\n",
    "csv_file_path= 'merged_US_allscores_similarity.csv'\n",
    "# Create DataFrames from both CSV files\n",
    "df = pd.read_csv(csv_file_path)\n"
   ]
  },
  {
   "cell_type": "code",
   "execution_count": null,
   "id": "6c171c15-0035-4c1a-957d-5e346cd39c2a",
   "metadata": {},
   "outputs": [],
   "source": [
    "# df['Movie Contribution to Director and Production Scores'] = 0\n",
    "\n",
    "#Calculates the contribution of a movie to a star score based on whether or not it was a top 100 domestic grossing movie of that year\n",
    "\n",
    "# release_years = range(2010, 2024)\n",
    "#iterates through the years\n",
    "# for year in release_years:\n",
    "#    df_year = df[df[\"Release Year\"] == year]\n",
    "#    print(df_year.head())\n",
    "#   #sorts by revenue (descending)\n",
    "#   df_year = df_year.sort_values(by=['Merged Revenue'], ascending=False)\n",
    "#   #iterate through top 100 movies, give them points based on the ranking (100 to the top grossing, 99 to the 2nd top, ..., 1 to the 100th)\n",
    "#   for i in range(0,100):\n",
    "#       tmdb_id_to_update = df_year['IMDB ID'].iloc[i]\n",
    "        #record the contribution in the dataframe\n",
    "#       df.loc[df['IMDB ID'] == tmdb_id_to_update, 'Movie Contribution to Director and Production Scores'] = 100 - i"
   ]
  },
  {
   "cell_type": "code",
   "execution_count": 6,
   "id": "c693af49-719a-4b91-935e-952cc41c94d9",
   "metadata": {},
   "outputs": [
    {
     "name": "stdout",
     "output_type": "stream",
     "text": [
      "   star_2010  star_2011  star_2012  star_2013  star_2014  star_2015  \\\n",
      "0          0          0          0          0          0          0   \n",
      "1          0          0          0          0          0          0   \n",
      "2          0          0          0          0          0          0   \n",
      "3          0          0          0          0          0          0   \n",
      "4          0          0          0          0          0          0   \n",
      "\n",
      "   star_2016  star_2017  star_2018  star_2019  star_2020  star_2021  \\\n",
      "0          0          0          0          0          0          0   \n",
      "1          0          0          0          0          0          0   \n",
      "2          0          0          0          0          0          0   \n",
      "3          0          0          0          0          0          0   \n",
      "4          0          0          0          0          0          0   \n",
      "\n",
      "   star_2022  star_2023  ids  \n",
      "0          0          0    0  \n",
      "1          0          0    1  \n",
      "2          0          0    2  \n",
      "3          0          0    3  \n",
      "4          0          0    4  \n"
     ]
    }
   ],
   "source": [
    "# Create a DataFrame with unique production company IDs\n",
    "unique_dist_ids = list(set(df['Domestic Distributor ID']))\n",
    "\n",
    "# Create a list of years from 2011 to 2023\n",
    "years = [str(year) for year in range(2010, 2024)]\n",
    "\n",
    "# Initialize the data with zeros\n",
    "data = {f'star_{year}': [0] * len(unique_dist_ids) for year in years}\n",
    "data['ids'] = unique_dist_ids\n",
    "\n",
    "# Create the 'output_df' DataFrame\n",
    "dist_df = pd.DataFrame(data)\n",
    "\n",
    "# Print the first few rows of the 'output_df' DataFrame for debugging\n",
    "print(dist_df.head())"
   ]
  },
  {
   "cell_type": "code",
   "execution_count": 8,
   "id": "2244e41d-b698-45ee-ba66-371d8f62dd15",
   "metadata": {},
   "outputs": [],
   "source": [
    "import pandas as pd\n",
    "\n",
    "# Assuming df is your DataFrame\n",
    "for index, row in df.iterrows():\n",
    "    dist_ids = row['Domestic Distributor ID']\n",
    "    \n",
    "    # Rest of your code...\n",
    "    # Iterate through each dist_id in the dist_ids list\n",
    "    for dist_id in [dist_ids]:\n",
    "        # Your existing code...\n",
    "        release_year = row['Release Year']\n",
    "        score_contribution = row['Movie Contribution to Director and Production Scores']\n",
    "        # Iterate through each dist_id in the dist_ids array\n",
    "        dist_df_row = dist_df[dist_df['ids'] == dist_id]\n",
    "        if not dist_df_row.empty:\n",
    "            dist_score = dist_df_row[f'star_{release_year}'].values[0]\n",
    "            # Add the contribution from the movie to the total star score for that company for that year\n",
    "            if not pd.isna(score_contribution):\n",
    "                dist_score += score_contribution\n",
    "            # Assign the updated production company score to the corresponding 'star_yyyy' column\n",
    "            dist_df.loc[dist_df['ids'] == dist_id, f'star_{release_year}'] = dist_score\n",
    "\n",
    "# Sum the star scores for the previous three years (beginning in 2012)\n",
    "output_dists = dist_df.copy(deep=True)\n",
    "\n",
    "for dist_id in dist_df['ids']:\n",
    "    for column in dist_df.columns:\n",
    "        if column.startswith(\"star_\"):\n",
    "            release_year = int(column.split(\"_\")[1])\n",
    "            if release_year > 2011:\n",
    "                previous_year = release_year - 1\n",
    "                year_before_previous = release_year - 2\n",
    "                dist_df_row = dist_df[dist_df['ids'] == dist_id]\n",
    "                if not dist_df_row.empty:\n",
    "                    dist_score = dist_df_row[column].values[0]\n",
    "                    # Calculate score from the previous year\n",
    "                    previous_year_score = dist_df_row[f'star_{previous_year}'].values[0]\n",
    "                    dist_score += previous_year_score\n",
    "                    # Calculate score from the year before the previous year\n",
    "                    year_before_previous_score = dist_df_row[f'star_{year_before_previous}'].values[0]\n",
    "                    dist_score += year_before_previous_score\n",
    "                    # Assign the updated director score to the corresponding 'star_year' column\n",
    "                    output_dists.loc[output_dists['ids'] == dist_id, column] = dist_score\n"
   ]
  },
  {
   "cell_type": "code",
   "execution_count": 9,
   "id": "dbdeac7c",
   "metadata": {},
   "outputs": [
    {
     "name": "stdout",
     "output_type": "stream",
     "text": [
      "   star_2010  star_2011  star_2012  star_2013  star_2014  star_2015  \\\n",
      "0          0          0          0         63        160        201   \n",
      "1          0          0          0        594       1695       2433   \n",
      "2          0          0          0          0          0          0   \n",
      "3          0          0          0          0          0          0   \n",
      "4          0          0          0          0          0          0   \n",
      "\n",
      "   star_2016  star_2017  star_2018  star_2019  star_2020  star_2021  \\\n",
      "0        220        209        168         86        554        656   \n",
      "1       2699       2322       2046       1560        915        453   \n",
      "2          0          0          0          0          0          0   \n",
      "3          0          0          0          0          0          0   \n",
      "4          0          0          0          0          0          0   \n",
      "\n",
      "   star_2022  star_2023  ids  \n",
      "0        690        153    0  \n",
      "1         79          0    1  \n",
      "2          0          0    2  \n",
      "3          0          0    3  \n",
      "4          0          0    4  \n"
     ]
    }
   ],
   "source": [
    "print(output_dists.head())"
   ]
  },
  {
   "cell_type": "code",
   "execution_count": null,
   "id": "09e15e4f",
   "metadata": {},
   "outputs": [],
   "source": []
  },
  {
   "cell_type": "code",
   "execution_count": 11,
   "id": "1d2b62bb-d1d5-45cd-94ce-6341f1e860b1",
   "metadata": {},
   "outputs": [],
   "source": [
    "output_dists.to_csv('domestic_dist_df.csv', index=False)"
   ]
  },
  {
   "cell_type": "code",
   "execution_count": null,
   "id": "b14d5574-dc1f-4995-a2b1-6571b7d1241a",
   "metadata": {},
   "outputs": [],
   "source": []
  },
  {
   "cell_type": "code",
   "execution_count": 17,
   "id": "ea37d718-1fd8-4abe-9c39-2e1f887fdb5d",
   "metadata": {},
   "outputs": [
    {
     "name": "stdout",
     "output_type": "stream",
     "text": [
      "  Running Time                                          Genres  \\\n",
      "0  1 hr 22 min                               Documentary Sport   \n",
      "1  1 hr 49 min             Action Crime Drama Mystery Thriller   \n",
      "2  1 hr 30 min                                           Drama   \n",
      "3  1 hr 46 min                     Biography Drama History War   \n",
      "4  1 hr 29 min  Action Adventure Comedy Horror Sci-Fi Thriller   \n",
      "\n",
      "                IMDB Title   MPAA      Domestic Distributor  Domestic Opening  \\\n",
      "0     Into the Mind (2013)    NaN                     Empty               NaN   \n",
      "1       Broken City (2013)      R     Twentieth Century Fox         8268908.0   \n",
      "2   Redwood Highway (2013)  PG-13            Monterey Media              30.0   \n",
      "3  Bless Me, Ultima (2012)  PG-13      Arenas Entertainment          470109.0   \n",
      "4           Spiders (2013)  PG-13  Millennium Entertainment               NaN   \n",
      "\n",
      "               Earliest Release Date  IMDB Budget  TMDB Budget      Genre ID  \\\n",
      "0           January 31, 2014 (Spain)            0            0          [99]   \n",
      "1  January 18, 2013 (Domestic, EMEA)     35000000     56000000  [53, 80, 18]   \n",
      "2          April 11, 2014 (Domestic)            0            0          [18]   \n",
      "3       February 22, 2013 (Domestic)            0            0   [18, 10752]   \n",
      "4        February 8, 2013 (Domestic)            0      7000000     [878, 53]   \n",
      "\n",
      "   ... Log Weight Star Score Exponential Weight Star Score  \\\n",
      "0  ...               0.00000                      0.000000   \n",
      "1  ...             459.47885                    444.130435   \n",
      "2  ...               0.00000                      0.000000   \n",
      "3  ...               0.00000                      0.000000   \n",
      "4  ...               0.00000                      0.000000   \n",
      "\n",
      "  Movie Contribution to Director and Production Scores Total Director Score  \\\n",
      "0                                                  0                      0   \n",
      "1                                                  0                     68   \n",
      "2                                                  0                      0   \n",
      "3                                                  0                      0   \n",
      "4                                                  0                      0   \n",
      "\n",
      "  Avg Director Score  Total Production Company Score  \\\n",
      "0                0.0                               0   \n",
      "1               68.0                             557   \n",
      "2                0.0                               0   \n",
      "3                0.0                               0   \n",
      "4                0.0                             292   \n",
      "\n",
      "   Avg Production Company Score Genre Cluster  Domestic Distributor ID  \\\n",
      "0                      0.000000             3                        0   \n",
      "1                     61.888889             0                        1   \n",
      "2                      0.000000             1                        2   \n",
      "3                      0.000000             2                        3   \n",
      "4                    146.000000             0                        4   \n",
      "\n",
      "  Domestic Distributor Score  \n",
      "0                          0  \n",
      "1                          0  \n",
      "2                          0  \n",
      "3                          0  \n",
      "4                          0  \n",
      "\n",
      "[5 rows x 42 columns]\n"
     ]
    }
   ],
   "source": [
    "# Assuming df is your DataFrame\n",
    "df_output = df.copy()  # Copy the original DataFrame\n",
    "df_output = df_output[df_output['Release Year'] > 2012]\n",
    "df_output['Domestic Distributor Score'] = 0  # create an empty star scores column\n",
    "\n",
    "for index, row in df_output.iterrows():\n",
    "    row_dist_info = row['Domestic Distributor ID']  # Extract prod_ids array\n",
    "    if isinstance(row_dist_info, int) and row_dist_info != 0:\n",
    "        row_dist_info = [row_dist_info]\n",
    "    else:\n",
    "        row_dist_info = []  # Set to an empty list if not an integer or if it's 0\n",
    "    # computes the sum of production company scores\n",
    "    for dist_id in row_dist_info:\n",
    "        release_date = row['Release Year']\n",
    "        previous_year = release_date - 1\n",
    "        dist_info_row = output_dists[output_dists['ids'] == dist_id]  # Get the row containing the queried prod id\n",
    "        star_column_name = f'star_{previous_year}'  # get the star score column for the previous year\n",
    "        star_score = dist_info_row[star_column_name].values[0]  # Use the previous year as the star score\n",
    "        if star_score is not None:\n",
    "            df_output.loc[df['IMDB ID'] == row['IMDB ID'], 'Domestic Distributor Score'] += star_score\n",
    "\n",
    "# Save to csv\n",
    "print(df_output.head())\n"
   ]
  },
  {
   "cell_type": "code",
   "execution_count": 18,
   "id": "3ddf5f07",
   "metadata": {},
   "outputs": [],
   "source": [
    "df_output.to_csv(csv_file_path, index=False)"
   ]
  },
  {
   "cell_type": "code",
   "execution_count": null,
   "id": "c128faa6-52ab-4d1d-84e5-91f397669bab",
   "metadata": {},
   "outputs": [],
   "source": []
  },
  {
   "cell_type": "code",
   "execution_count": null,
   "id": "d9b6f481-710f-4a30-8334-5d8909e8a707",
   "metadata": {},
   "outputs": [],
   "source": []
  },
  {
   "cell_type": "code",
   "execution_count": null,
   "id": "e788ae3b-193e-4486-9aa0-8b68c4616878",
   "metadata": {},
   "outputs": [],
   "source": []
  }
 ],
 "metadata": {
  "kernelspec": {
   "display_name": "Python 3 (ipykernel)",
   "language": "python",
   "name": "python3"
  },
  "language_info": {
   "codemirror_mode": {
    "name": "ipython",
    "version": 3
   },
   "file_extension": ".py",
   "mimetype": "text/x-python",
   "name": "python",
   "nbconvert_exporter": "python",
   "pygments_lexer": "ipython3",
   "version": "3.10.9"
  }
 },
 "nbformat": 4,
 "nbformat_minor": 5
}
