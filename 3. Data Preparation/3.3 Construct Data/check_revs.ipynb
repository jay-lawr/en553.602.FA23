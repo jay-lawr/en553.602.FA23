{
 "cells": [
  {
   "cell_type": "code",
   "execution_count": 45,
   "metadata": {},
   "outputs": [],
   "source": [
    "import pandas as pd\n",
    "import ast"
   ]
  },
  {
   "cell_type": "code",
   "execution_count": 46,
   "metadata": {},
   "outputs": [],
   "source": [
    "df = pd.read_csv(\"merged_data.csv\")"
   ]
  },
  {
   "cell_type": "code",
   "execution_count": 47,
   "metadata": {},
   "outputs": [
    {
     "data": {
      "text/plain": [
       "0                                                       {}\n",
       "1                                                       {}\n",
       "2                                                       {}\n",
       "3                                                       {}\n",
       "4                                                       {}\n",
       "                               ...                        \n",
       "35069            {'Domestic': 5206, 'International': 5206}\n",
       "35070                                                   {}\n",
       "35071                                                   {}\n",
       "35072    {'Domestic': 248343, 'International': 36381, '...\n",
       "35073                                                   {}\n",
       "Name: Revenue_x, Length: 35074, dtype: object"
      ]
     },
     "execution_count": 47,
     "metadata": {},
     "output_type": "execute_result"
    }
   ],
   "source": [
    "df.Revenue_x"
   ]
  },
  {
   "cell_type": "code",
   "execution_count": 48,
   "metadata": {},
   "outputs": [],
   "source": [
    "def extract_domestic_revenue(string):\n",
    "    try:\n",
    "        revenue_dict = ast.literal_eval(string)\n",
    "        return revenue_dict.get('Domestic', None)\n",
    "    except (ValueError, SyntaxError):\n",
    "        return None\n",
    "def extract_international_revenue(string):\n",
    "    try:\n",
    "        revenue_dict = ast.literal_eval(string)\n",
    "        return revenue_dict.get('International', None)\n",
    "    except (ValueError, SyntaxError):\n",
    "        return None\n",
    "def extract_worldwide_revenue(string):\n",
    "    try:\n",
    "        revenue_dict = ast.literal_eval(string)\n",
    "        return revenue_dict.get('Worldwide', None)\n",
    "    except (ValueError, SyntaxError):\n",
    "        return None\n",
    "\n",
    "# Create a new column for domestic revenue\n",
    "df['domestic_revenue'] = df['Revenue_x'].apply(extract_domestic_revenue)\n",
    "df[\"international_revenue\"] =  df['Revenue_x'].apply(extract_international_revenue)\n",
    "df[\"worldwide_revenue\"] =  df['Revenue_x'].apply(extract_worldwide_revenue)\n",
    "\n",
    "df = df.drop('Revenue_x', axis=1)\n",
    "df.to_csv(\"merged_data_with_revenues.csv\")"
   ]
  }
 ],
 "metadata": {
  "kernelspec": {
   "display_name": "Python 3",
   "language": "python",
   "name": "python3"
  },
  "language_info": {
   "codemirror_mode": {
    "name": "ipython",
    "version": 3
   },
   "file_extension": ".py",
   "mimetype": "text/x-python",
   "name": "python",
   "nbconvert_exporter": "python",
   "pygments_lexer": "ipython3",
   "version": "3.10.4"
  }
 },
 "nbformat": 4,
 "nbformat_minor": 2
}
