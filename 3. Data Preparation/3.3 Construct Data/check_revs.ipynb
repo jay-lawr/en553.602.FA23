{
 "cells": [
  {
   "cell_type": "code",
   "execution_count": 1,
   "metadata": {},
   "outputs": [],
   "source": [
    "import pandas as pd"
   ]
  },
  {
   "cell_type": "code",
   "execution_count": 18,
   "metadata": {},
   "outputs": [],
   "source": [
    "df = pd.read_csv(\"merged_data.csv\")"
   ]
  },
  {
   "cell_type": "code",
   "execution_count": 19,
   "metadata": {},
   "outputs": [
    {
     "data": {
      "text/plain": [
       "0                                                       {}\n",
       "1                                                       {}\n",
       "2                                                       {}\n",
       "3                                                       {}\n",
       "4                                                       {}\n",
       "                               ...                        \n",
       "35069            {'Domestic': 5206, 'International': 5206}\n",
       "35070                                                   {}\n",
       "35071                                                   {}\n",
       "35072    {'Domestic': 248343, 'International': 36381, '...\n",
       "35073                                                   {}\n",
       "Name: Revenue_x, Length: 35074, dtype: object"
      ]
     },
     "execution_count": 19,
     "metadata": {},
     "output_type": "execute_result"
    }
   ],
   "source": [
    "df.Revenue_x"
   ]
  },
  {
   "cell_type": "code",
   "execution_count": 21,
   "metadata": {},
   "outputs": [
    {
     "ename": "AttributeError",
     "evalue": "'str' object has no attribute 'str'",
     "output_type": "error",
     "traceback": [
      "\u001b[1;31m---------------------------------------------------------------------------\u001b[0m",
      "\u001b[1;31mAttributeError\u001b[0m                            Traceback (most recent call last)",
      "\u001b[1;32m~\\AppData\\Local\\Temp\\ipykernel_3048\\2444246623.py\u001b[0m in \u001b[0;36m<cell line: 2>\u001b[1;34m()\u001b[0m\n\u001b[0;32m      1\u001b[0m \u001b[0mpatternD\u001b[0m \u001b[1;33m=\u001b[0m \u001b[1;34mr'Domestic: (\\d+)'\u001b[0m\u001b[1;33m\u001b[0m\u001b[1;33m\u001b[0m\u001b[0m\n\u001b[0;32m      2\u001b[0m \u001b[1;32mfor\u001b[0m \u001b[0mdom\u001b[0m \u001b[1;32min\u001b[0m \u001b[0mdf\u001b[0m\u001b[1;33m.\u001b[0m\u001b[0mRevenue_x\u001b[0m\u001b[1;33m:\u001b[0m\u001b[1;33m\u001b[0m\u001b[1;33m\u001b[0m\u001b[0m\n\u001b[1;32m----> 3\u001b[1;33m     \u001b[0mprint\u001b[0m\u001b[1;33m(\u001b[0m\u001b[0mdom\u001b[0m\u001b[1;33m.\u001b[0m\u001b[0mstr\u001b[0m\u001b[1;33m.\u001b[0m\u001b[0mextract\u001b[0m\u001b[1;33m(\u001b[0m\u001b[0mpatternD\u001b[0m\u001b[1;33m,\u001b[0m \u001b[0mexpand\u001b[0m\u001b[1;33m=\u001b[0m\u001b[1;32mFalse\u001b[0m\u001b[1;33m)\u001b[0m\u001b[1;33m)\u001b[0m\u001b[1;33m\u001b[0m\u001b[1;33m\u001b[0m\u001b[0m\n\u001b[0m",
      "\u001b[1;31mAttributeError\u001b[0m: 'str' object has no attribute 'str'"
     ]
    }
   ],
   "source": [
    "patternD = r'Domestic: (\\d+)'\n",
    "for dom in df.Revenue_x:\n",
    "    print(dom.extract(patternD, expand=False))"
   ]
  },
  {
   "cell_type": "code",
   "execution_count": 17,
   "metadata": {},
   "outputs": [
    {
     "name": "stdout",
     "output_type": "stream",
     "text": [
      "       Unnamed: 0.2  Unnamed: 0.1  Unnamed: 0 Running Time  \\\n",
      "0                 0         36430       36430  1 hr 33 min   \n",
      "1                 1         37987       37987  1 hr 20 min   \n",
      "2                 2         41414       41414   1 hr 6 min   \n",
      "3                 3         41415       41415        5 min   \n",
      "4                 4         41416       41416        4 min   \n",
      "...             ...           ...         ...          ...   \n",
      "35069         35069         76842       76842  1 hr 36 min   \n",
      "35070         35070         76843       76843  1 hr 35 min   \n",
      "35071         35071         76844       76844        4 min   \n",
      "35072         35072         76845       76845  1 hr 31 min   \n",
      "35073         35073         76846       76846          NaN   \n",
      "\n",
      "                                               Genres  \\\n",
      "0                                        Comedy Crime   \n",
      "1                              Drama Mystery Thriller   \n",
      "2                  Documentary Fantasy History Sci-Fi   \n",
      "3                Animation Comedy Family Sci-Fi Short   \n",
      "4      Adventure Animation Comedy Family Sci-Fi Short   \n",
      "...                                               ...   \n",
      "35069                                           Drama   \n",
      "35070                         Action Mystery Thriller   \n",
      "35071                                           Short   \n",
      "35072                                           Drama   \n",
      "35073                                     Documentary   \n",
      "\n",
      "                                                 Title_x MPAA  \\\n",
      "0                               For Money or Love (2020)  NaN   \n",
      "1                                      Blind Turn (2012)  NaN   \n",
      "2                                   Alien Highway (2013)  NaN   \n",
      "3                           Panic in the Mailroom (2013)  NaN   \n",
      "4                                 Training Wheels (2013)  NaN   \n",
      "...                                                  ...  ...   \n",
      "35069            The Integrity of Joseph Chambers (2022)  NaN   \n",
      "35070                                     Egregor (2021)  NaN   \n",
      "35071                          To My Dying Mother (2023)  NaN   \n",
      "35072                                     Fremont (2023)  NaN   \n",
      "35073  We Were Famous, You Don't Remember: The Embarr...  NaN   \n",
      "\n",
      "      Domestic Distributor  Domestic Opening       Earliest Release Date  ...  \\\n",
      "0                      NaN               NaN                         NaN  ...   \n",
      "1                      NaN               NaN                         NaN  ...   \n",
      "2                      NaN               NaN                         NaN  ...   \n",
      "3                      NaN               NaN                         NaN  ...   \n",
      "4                      NaN               NaN                         NaN  ...   \n",
      "...                    ...               ...                         ...  ...   \n",
      "35069                  NaN               NaN  July 6, 2023 (Netherlands)  ...   \n",
      "35070                  NaN               NaN                         NaN  ...   \n",
      "35071                  NaN               NaN                         NaN  ...   \n",
      "35072      Music Box Films           21033.0  August 25, 2023 (Domestic)  ...   \n",
      "35073                  NaN               NaN                         NaN  ...   \n",
      "\n",
      "       Revenue_y Runtime                                            Title_y  \\\n",
      "0            0.0    93.0                                  For Money or Love   \n",
      "1            0.0    76.0                                         Blind Turn   \n",
      "2            0.0    66.0                                      Alien Highway   \n",
      "3            0.0     5.0                              Panic in the Mailroom   \n",
      "4            0.0     4.0                           Minions: Training Wheels   \n",
      "...          ...     ...                                                ...   \n",
      "35069        0.0    96.0                   The Integrity of Joseph Chambers   \n",
      "35070        0.0    87.0                                      The New Order   \n",
      "35071        0.0     4.0                                 To My Dying Mother   \n",
      "35072   258668.0    92.0                                            Fremont   \n",
      "35073        0.0    96.0  We Were Famous, You Don't Remember: The Embarr...   \n",
      "\n",
      "       movie_id                                           cast_ids  \\\n",
      "0        852297  [3164775, 1569736, 3164777, 3164778, 3164779, ...   \n",
      "1         75594  [96624, 575673, 238354, 575674, 575675, 575676...   \n",
      "2        458775                                                 []   \n",
      "3        229405                                     [124747, 4495]   \n",
      "4        229408  [124747, 17743, 122851, 124750, 1265060, 12650...   \n",
      "...         ...                                                ...   \n",
      "35069    950161  [59671, 22123, 53259, 47296, 2176925, 1922620,...   \n",
      "35070    458662  [1776261, 1309702, 1083418, 7107, 2309944, 150...   \n",
      "35071   1179586                                                 []   \n",
      "35072   1048522  [3821130, 206905, 1224999, 2435268, 3578195, 3...   \n",
      "35073   1015765  [3673401, 3673402, 3673403, 1983746, 1386006, ...   \n",
      "\n",
      "                                                   order  \\\n",
      "0                                     [0, 1, 2, 3, 4, 5]   \n",
      "1                 [0, 1, 2, 3, 4, 5, 6, 7, 8, 9, 10, 11]   \n",
      "2                                                     []   \n",
      "3                                                 [0, 1]   \n",
      "4                                  [0, 1, 2, 3, 4, 5, 6]   \n",
      "...                                                  ...   \n",
      "35069                           [0, 1, 2, 3, 4, 5, 6, 7]   \n",
      "35070                        [0, 1, 2, 3, 4, 5, 6, 7, 8]   \n",
      "35071                                                 []   \n",
      "35072  [0, 1, 2, 3, 4, 5, 6, 7, 8, 9, 10, 11, 12, 13,...   \n",
      "35073                           [0, 1, 2, 3, 4, 5, 6, 7]   \n",
      "\n",
      "                      director_ids domestic_revenue international_revenue  \\\n",
      "0                        [3164783]              NaN                   NaN   \n",
      "1                        [2670890]              NaN                   NaN   \n",
      "2      [1098980, 1822162, 1822163]              NaN                   NaN   \n",
      "3                [118713, 1218549]              NaN                   NaN   \n",
      "4               [1265058, 1265059]              NaN                   NaN   \n",
      "...                            ...              ...                   ...   \n",
      "35069                    [1141753]              NaN                   NaN   \n",
      "35070                    [2712188]              NaN                   NaN   \n",
      "35071                    [3364732]              NaN                   NaN   \n",
      "35072                    [1086529]              NaN                   NaN   \n",
      "35073                           []              NaN                   NaN   \n",
      "\n",
      "      total_revenue  \n",
      "0               NaN  \n",
      "1               NaN  \n",
      "2               NaN  \n",
      "3               NaN  \n",
      "4               NaN  \n",
      "...             ...  \n",
      "35069           NaN  \n",
      "35070           NaN  \n",
      "35071           NaN  \n",
      "35072           NaN  \n",
      "35073           NaN  \n",
      "\n",
      "[35074 rows x 30 columns]\n"
     ]
    }
   ],
   "source": [
    "# Define a regular expression pattern to extract the domestic revenue\n",
    "patternD = r'Domestic: (\\d+)'\n",
    "patternI = r'International: (\\d+)'\n",
    "patternT = r'Total: (\\d+)'\n",
    "\n",
    "\n",
    "# Use str.extract to create a new column for domestic revenue\n",
    "df['domestic_revenue'] = df['Revenue_x'].str.extract(patternD, expand=False).astype(float)\n",
    "df['international_revenue'] = df['Revenue_x'].str.extract(patternI, expand=False).astype(float) \n",
    "df['total_revenue'] = df['Revenue_x'].str.extract(patternT, expand=False).astype(float) \n",
    "\n",
    "# Drop the original 'Revenue_x' column\n",
    "df = df.drop('Revenue_x', axis=1)\n",
    "\n",
    "# Display the resulting DataFrame\n",
    "print(df)"
   ]
  },
  {
   "cell_type": "code",
   "execution_count": 5,
   "metadata": {},
   "outputs": [
    {
     "data": {
      "text/plain": [
       "0             0.0\n",
       "1             0.0\n",
       "2             0.0\n",
       "3             0.0\n",
       "4             0.0\n",
       "           ...   \n",
       "35069         0.0\n",
       "35070         0.0\n",
       "35071         0.0\n",
       "35072    258668.0\n",
       "35073         0.0\n",
       "Name: Revenue_y, Length: 35074, dtype: float64"
      ]
     },
     "execution_count": 5,
     "metadata": {},
     "output_type": "execute_result"
    }
   ],
   "source": [
    "df.Revenue_y"
   ]
  }
 ],
 "metadata": {
  "kernelspec": {
   "display_name": "Python 3",
   "language": "python",
   "name": "python3"
  },
  "language_info": {
   "codemirror_mode": {
    "name": "ipython",
    "version": 3
   },
   "file_extension": ".py",
   "mimetype": "text/x-python",
   "name": "python",
   "nbconvert_exporter": "python",
   "pygments_lexer": "ipython3",
   "version": "3.10.4"
  }
 },
 "nbformat": 4,
 "nbformat_minor": 2
}
