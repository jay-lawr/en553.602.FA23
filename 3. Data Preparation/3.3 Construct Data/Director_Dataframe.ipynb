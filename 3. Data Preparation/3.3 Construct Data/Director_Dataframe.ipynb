{
 "cells": [
  {
   "cell_type": "markdown",
   "id": "242027d0",
   "metadata": {},
   "source": [
    ">This code is responsible for constructing a dataframe for director scores based on revenue in movies directed and previous 2 years' director score"
   ]
  },
  {
   "cell_type": "code",
   "execution_count": 1,
   "id": "d32f49d9",
   "metadata": {},
   "outputs": [
    {
     "name": "stdout",
     "output_type": "stream",
     "text": [
      "Requirement already satisfied: tmdbv3api in c:\\users\\xylop\\anaconda3\\lib\\site-packages (1.9.0)\n",
      "Requirement already satisfied: requests in c:\\users\\xylop\\anaconda3\\lib\\site-packages (from tmdbv3api) (2.28.1)\n",
      "Requirement already satisfied: certifi>=2017.4.17 in c:\\users\\xylop\\anaconda3\\lib\\site-packages (from requests->tmdbv3api) (2022.12.7)\n",
      "Requirement already satisfied: urllib3<1.27,>=1.21.1 in c:\\users\\xylop\\anaconda3\\lib\\site-packages (from requests->tmdbv3api) (1.26.14)\n",
      "Requirement already satisfied: charset-normalizer<3,>=2 in c:\\users\\xylop\\anaconda3\\lib\\site-packages (from requests->tmdbv3api) (2.0.4)\n",
      "Requirement already satisfied: idna<4,>=2.5 in c:\\users\\xylop\\anaconda3\\lib\\site-packages (from requests->tmdbv3api) (3.4)\n"
     ]
    }
   ],
   "source": [
    "!pip install tmdbv3api"
   ]
  },
  {
   "cell_type": "code",
   "execution_count": 5,
   "id": "3ee59cdc",
   "metadata": {},
   "outputs": [],
   "source": [
    "from tmdbv3api import TMDb\n",
    "from tmdbv3api import Movie\n",
    "from tmdbv3api.exceptions import TMDbException\n",
    "import random\n",
    "import pandas as pd\n",
    "import csv\n",
    "import numpy as np\n",
    "from math import exp\n",
    "import ast\n",
    "tmdb=TMDb()\n",
    "tmdb.api_key='9cf68f4c97c8f0cc6bb9646da389a808'"
   ]
  },
  {
   "cell_type": "code",
   "execution_count": 3,
   "id": "b89be05d",
   "metadata": {},
   "outputs": [],
   "source": [
    "# Initialize csv file paths\n",
    "csv_file_path1='merged_data_mod_star_score.csv'   \n",
    "# Create DataFrames from both CSV files\n",
    "df1 = pd.read_csv(csv_file_path1)"
   ]
  },
  {
   "cell_type": "markdown",
   "id": "bbe833d4",
   "metadata": {},
   "source": [
    ">This next cell constructs the director dataframe of all unique director ids. For now, the star_score value is 0. "
   ]
  },
  {
   "cell_type": "code",
   "execution_count": 18,
   "id": "e14b28f7",
   "metadata": {},
   "outputs": [
    {
     "name": "stdout",
     "output_type": "stream",
     "text": [
      "       ids  star_2011  star_2012  star_2013  star_2014  star_2015  star_2016  \\\n",
      "0   229378          0          0          0          0          0          0   \n",
      "1  1179651          0          0          0          0          0          0   \n",
      "2   229380          0          0          0          0          0          0   \n",
      "3        7          0          0          0          0          0          0   \n",
      "4        8          0          0          0          0          0          0   \n",
      "\n",
      "   star_2017  star_2018  star_2019  star_2020  star_2021  star_2022  star_2023  \n",
      "0          0          0          0          0          0          0          0  \n",
      "1          0          0          0          0          0          0          0  \n",
      "2          0          0          0          0          0          0          0  \n",
      "3          0          0          0          0          0          0          0  \n",
      "4          0          0          0          0          0          0          0  \n"
     ]
    }
   ],
   "source": [
    "import pandas as pd\n",
    "import ast  # Import the ast module\n",
    "import numpy as np\n",
    "\n",
    "# Create a DataFrame with unique director IDs\n",
    "director_ids = []\n",
    "\n",
    "for index, row in df1.iterrows():\n",
    "    director_ids_str = row['director_ids']\n",
    "    \n",
    "    # Check for NaN values and skip them\n",
    "    if pd.isna(director_ids_str):\n",
    "        continue\n",
    "\n",
    "    # Safely evaluate the content of 'director_ids' if it's not NaN\n",
    "    director_ids += ast.literal_eval(director_ids_str)\n",
    "\n",
    "unique_director_ids = list(set(director_ids))\n",
    "\n",
    "# Create a list of years from 2011 to 2023\n",
    "years = [str(year) for year in range(2011, 2024)]\n",
    "\n",
    "# Initialize the data with zeros\n",
    "data = {f'star_{year}': [0] * len(unique_director_ids) for year in years}\n",
    "data['ids'] = unique_director_ids\n",
    "\n",
    "# Create the 'output_df' DataFrame\n",
    "df2 = pd.DataFrame(data)\n",
    "\n",
    "# Reorder columns with 'ids' as the first column\n",
    "df2 = output_df[['ids'] + [col for col in output_df.columns if col != 'ids']]\n",
    "\n",
    "# Print the first few rows of the 'output_df' DataFrame for debugging\n",
    "print(df2.head())"
   ]
  },
  {
   "cell_type": "code",
   "execution_count": 40,
   "id": "74c6f45e",
   "metadata": {},
   "outputs": [],
   "source": [
    "# Iterate through df1 to calculate director scores\n",
    "for index, row in df1.iterrows():\n",
    "    director_ids_str = row['director_ids']\n",
    "\n",
    "    # Check for NaN values and skip them\n",
    "    if pd.isna(director_ids_str):\n",
    "        continue\n",
    "\n",
    "    # Safely evaluate the content of 'director_ids' if it's not NaN\n",
    "    director_ids = ast.literal_eval(director_ids_str)\n",
    "    release_year = row['Release Year']\n",
    "    merged_revenue = row['Merged Revenue']\n",
    "\n",
    "    # Iterate through each director_id in the director_ids array\n",
    "    for director_id in director_ids:\n",
    "        # Find the corresponding row in df2\n",
    "        df2_row = df2[df2['ids'] == director_id]\n",
    "\n",
    "        if not df2_row.empty:\n",
    "            director_score = df2_row[f'star_{release_year}'].values[0]\n",
    "\n",
    "            # Calculate points for every million dollars in USD in directed movies\n",
    "            if merged_revenue is not np.nan:\n",
    "                director_score += (merged_revenue / 1000000) * 10\n",
    "\n",
    "            # Assign the updated director score to the corresponding 'star_yyyy' column\n",
    "            df2.loc[df2['ids'] == director_id, f'star_{release_year}'] = director_score\n",
    "            \n",
    "for director_id in df2['ids']:\n",
    "    for column in df2.columns:\n",
    "        if column.startswith(\"star_\"):\n",
    "            release_year = int(column.split(\"_\")[1])\n",
    "            if release_year > 2011:\n",
    "                previous_year = release_year - 1\n",
    "                year_before_previous = release_year - 2\n",
    "                df2_row = df2[df2['ids'] == director_id]\n",
    "\n",
    "                if not df2_row.empty:\n",
    "                    director_score = df2_row[column].values[0]\n",
    "\n",
    "                    # Calculate score from the previous year\n",
    "                    previous_year_score = df2_row[f'star_{previous_year}'].values[0]\n",
    "                    director_score += 0.7 * previous_year_score\n",
    "\n",
    "                    # Calculate score from the year before the previous year\n",
    "                    if release_year > 2012:\n",
    "                        year_before_previous_score = df2_row[f'star_{year_before_previous}'].values[0]\n",
    "                        director_score += 0.49 * year_before_previous_score\n",
    "\n",
    "                    # Assign the updated director score to the corresponding 'star_yyyy' column\n",
    "                    df2.loc[df2['ids'] == director_id, column] = director_score"
   ]
  },
  {
   "cell_type": "code",
   "execution_count": 41,
   "id": "c7eb45cf",
   "metadata": {},
   "outputs": [],
   "source": [
    "# Create an output dataframe\n",
    "df_output = df2\n",
    "# Save to csv\n",
    "df_output.to_csv('director_df.csv', index=False)"
   ]
  },
  {
   "cell_type": "code",
   "execution_count": 50,
   "id": "198872ab",
   "metadata": {},
   "outputs": [
    {
     "name": "stdout",
     "output_type": "stream",
     "text": [
      "   Unnamed: 0 Running Time                               Genres  \\\n",
      "0           0  1 hr 22 min                    Documentary Sport   \n",
      "1           1        8 min                        History Short   \n",
      "2           2  1 hr 49 min  Action Crime Drama Mystery Thriller   \n",
      "3           3  1 hr 30 min                                Drama   \n",
      "4           4  1 hr 46 min          Biography Drama History War   \n",
      "\n",
      "                      IMDB Title   MPAA   Domestic Distributor  \\\n",
      "0           Into the Mind (2013)    NaN                    NaN   \n",
      "1  In Search of Lost Time (2013)    NaN                    NaN   \n",
      "2             Broken City (2013)      R  Twentieth Century Fox   \n",
      "3         Redwood Highway (2013)  PG-13         Monterey Media   \n",
      "4        Bless Me, Ultima (2012)  PG-13   Arenas Entertainment   \n",
      "\n",
      "   Domestic Opening              Earliest Release Date  IMDB Budget  \\\n",
      "0               NaN           January 31, 2014 (Spain)            0   \n",
      "1               NaN   September 30, 2007 (South Korea)            0   \n",
      "2         8268908.0  January 18, 2013 (Domestic, EMEA)     35000000   \n",
      "3              30.0          April 11, 2014 (Domestic)            0   \n",
      "4          470109.0       February 22, 2013 (Domestic)            0   \n",
      "\n",
      "   TMDB Budget  ...                                              order  \\\n",
      "0            0  ...                        [0, 1, 2, 3, 4, 5, 6, 7, 8]   \n",
      "1            0  ...                                                 []   \n",
      "2     56000000  ...  [0, 1, 2, 3, 4, 5, 6, 7, 8, 9, 10, 11, 12, 13,...   \n",
      "3            0  ...                 [0, 1, 2, 3, 4, 5, 6, 7, 8, 9, 10]   \n",
      "4            0  ...         [0, 1, 2, 3, 4, 5, 6, 7, 8, 9, 10, 11, 12]   \n",
      "\n",
      "       director_ids IMDB Domestic Revenue international_revenue  \\\n",
      "0  [112813, 590724]                  2241                2241.0   \n",
      "1         [3384263]                    37                  37.0   \n",
      "2           [11448]              19701164            15036035.0   \n",
      "3          [133426]                134049              134049.0   \n",
      "4           [21712]               1561962             1561962.0   \n",
      "\n",
      "  worldwide_revenue Release Year  \\\n",
      "0               NaN         2013   \n",
      "1               NaN         2013   \n",
      "2        34737199.0         2013   \n",
      "3               NaN         2013   \n",
      "4               NaN         2013   \n",
      "\n",
      "                                         star_scores  Merged Budget  \\\n",
      "0      [0.0, 0.0, 0.0, 0.0, 0.0, 0.0, 0.0, 0.0, 0.0]         100000   \n",
      "1                                                 []         100000   \n",
      "2  [309.5610869566243, 79.06365252626196, 57.2302...       35000000   \n",
      "3  [0.0, 0.0, 0.0, 0.0, 0.0, 0.0, 0.0, 0.0, 0.0, ...         100000   \n",
      "4  [0.0, 0.0, 0.0, 0.0, 0.0, 0.0, 0.0, 0.0, 0.0, ...         100000   \n",
      "\n",
      "  Merged Revenue       director_scores  \n",
      "0           2241    [0.15687, 0.15687]  \n",
      "1             37             [0.00259]  \n",
      "2       19701164          [1379.08148]  \n",
      "3         134049             [9.38343]  \n",
      "4        1561962  [109.33734000000001]  \n",
      "\n",
      "[5 rows x 31 columns]\n"
     ]
    }
   ],
   "source": [
    "star_scores = []  # Create a list to collect director scores\n",
    "for index, row in df1.iterrows():\n",
    "    row_dir_info = row['director_ids']  # Extract director_ids array\n",
    "    if not pd.isna(row_dir_info):  # Check for NaN\n",
    "        row_dir_info = ast.literal_eval(row_dir_info)\n",
    "    else:\n",
    "        row_dir_info = []  # Set to an empty list if NaN\n",
    "    star_scores_row = []\n",
    "    for director_id in row_dir_info:\n",
    "        release_date = row['Release Year']\n",
    "        star_column_name = f'star_{release_date}'  # Create the corresponding column name\n",
    "        dir_info_row = df2[df2['ids'] == director_id]  # Get the row containing the queried director id\n",
    "        while star_column_name not in dir_info_row and release_date > df1['Release Year'].min():\n",
    "            release_date -= 1\n",
    "            star_column_name = f'star_{release_date}'  # Try the previous year\n",
    "        star_score = dir_info_row[star_column_name].values[0] if star_column_name in dir_info_row else None  # Use the current year if the previous isn't available\n",
    "        star_scores_row.append(star_score)\n",
    "    star_scores.append(star_scores_row)\n",
    "\n",
    "# Create an output dataframe\n",
    "df_output_1 = df1.copy()  # Copy the original DataFrame\n",
    "df_output_1['director_scores'] = star_scores  # Add the 'star_scores' column\n",
    "\n",
    "# Save to csv\n",
    "print(df_output_1.head())\n",
    "df_output_1.to_csv('merged_data_mod_star_score.csv', index=False)\n"
   ]
  },
  {
   "cell_type": "code",
   "execution_count": null,
   "id": "6b880c2a",
   "metadata": {},
   "outputs": [],
   "source": []
  }
 ],
 "metadata": {
  "kernelspec": {
   "display_name": "Python 3 (ipykernel)",
   "language": "python",
   "name": "python3"
  },
  "language_info": {
   "codemirror_mode": {
    "name": "ipython",
    "version": 3
   },
   "file_extension": ".py",
   "mimetype": "text/x-python",
   "name": "python",
   "nbconvert_exporter": "python",
   "pygments_lexer": "ipython3",
   "version": "3.10.9"
  }
 },
 "nbformat": 4,
 "nbformat_minor": 5
}
