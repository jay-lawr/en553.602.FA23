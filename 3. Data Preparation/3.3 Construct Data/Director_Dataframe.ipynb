{
 "cells": [
  {
   "cell_type": "markdown",
   "id": "57b26118",
   "metadata": {},
   "source": [
    ">This code is responsible for constructing a dataframe for director scores based on revenue in movies directed and previous 2 years' director score"
   ]
  },
  {
   "cell_type": "code",
   "execution_count": 1,
   "id": "aa0f1b5a",
   "metadata": {},
   "outputs": [
    {
     "name": "stdout",
     "output_type": "stream",
     "text": [
      "Requirement already satisfied: tmdbv3api in c:\\users\\xylop\\anaconda3\\lib\\site-packages (1.9.0)\n",
      "Requirement already satisfied: requests in c:\\users\\xylop\\anaconda3\\lib\\site-packages (from tmdbv3api) (2.28.1)\n",
      "Requirement already satisfied: certifi>=2017.4.17 in c:\\users\\xylop\\anaconda3\\lib\\site-packages (from requests->tmdbv3api) (2022.12.7)\n",
      "Requirement already satisfied: urllib3<1.27,>=1.21.1 in c:\\users\\xylop\\anaconda3\\lib\\site-packages (from requests->tmdbv3api) (1.26.14)\n",
      "Requirement already satisfied: charset-normalizer<3,>=2 in c:\\users\\xylop\\anaconda3\\lib\\site-packages (from requests->tmdbv3api) (2.0.4)\n",
      "Requirement already satisfied: idna<4,>=2.5 in c:\\users\\xylop\\anaconda3\\lib\\site-packages (from requests->tmdbv3api) (3.4)\n"
     ]
    }
   ],
   "source": [
    "!pip install tmdbv3api"
   ]
  },
  {
   "cell_type": "code",
   "execution_count": 5,
   "id": "15b8db98",
   "metadata": {},
   "outputs": [],
   "source": [
    "from tmdbv3api import TMDb\n",
    "from tmdbv3api import Movie\n",
    "from tmdbv3api.exceptions import TMDbException\n",
    "import random\n",
    "import pandas as pd\n",
    "import csv\n",
    "import numpy as np\n",
    "from math import exp\n",
    "import ast\n",
    "tmdb=TMDb()\n",
    "tmdb.api_key='9cf68f4c97c8f0cc6bb9646da389a808'"
   ]
  },
  {
   "cell_type": "code",
   "execution_count": 3,
   "id": "57df852e",
   "metadata": {},
   "outputs": [],
   "source": [
    "# Initialize csv file paths\n",
    "csv_file_path1='merged_data_mod_star_score.csv'   \n",
    "# Create DataFrames from both CSV files\n",
    "df1 = pd.read_csv(csv_file_path1)"
   ]
  },
  {
   "cell_type": "markdown",
   "id": "e65db3be",
   "metadata": {},
   "source": [
    ">This next cell constructs the director dataframe of all unique director ids. For now, the star_score value is 0. "
   ]
  },
  {
   "cell_type": "code",
   "execution_count": 18,
   "id": "ffb51714",
   "metadata": {},
   "outputs": [
    {
     "name": "stdout",
     "output_type": "stream",
     "text": [
      "       ids  star_2011  star_2012  star_2013  star_2014  star_2015  star_2016  \\\n",
      "0   229378          0          0          0          0          0          0   \n",
      "1  1179651          0          0          0          0          0          0   \n",
      "2   229380          0          0          0          0          0          0   \n",
      "3        7          0          0          0          0          0          0   \n",
      "4        8          0          0          0          0          0          0   \n",
      "\n",
      "   star_2017  star_2018  star_2019  star_2020  star_2021  star_2022  star_2023  \n",
      "0          0          0          0          0          0          0          0  \n",
      "1          0          0          0          0          0          0          0  \n",
      "2          0          0          0          0          0          0          0  \n",
      "3          0          0          0          0          0          0          0  \n",
      "4          0          0          0          0          0          0          0  \n"
     ]
    }
   ],
   "source": [
    "import pandas as pd\n",
    "import ast  # Import the ast module\n",
    "import numpy as np\n",
    "\n",
    "# Create a DataFrame with unique director IDs\n",
    "director_ids = []\n",
    "\n",
    "for index, row in df1.iterrows():\n",
    "    director_ids_str = row['director_ids']\n",
    "    \n",
    "    # Check for NaN values and skip them\n",
    "    if pd.isna(director_ids_str):\n",
    "        continue\n",
    "\n",
    "    # Safely evaluate the content of 'director_ids' if it's not NaN\n",
    "    director_ids += ast.literal_eval(director_ids_str)\n",
    "\n",
    "unique_director_ids = list(set(director_ids))\n",
    "\n",
    "# Create a list of years from 2011 to 2023\n",
    "years = [str(year) for year in range(2011, 2024)]\n",
    "\n",
    "# Initialize the data with zeros\n",
    "data = {f'star_{year}': [0] * len(unique_director_ids) for year in years}\n",
    "data['ids'] = unique_director_ids\n",
    "\n",
    "# Create the 'output_df' DataFrame\n",
    "df2 = pd.DataFrame(data)\n",
    "\n",
    "# Reorder columns with 'ids' as the first column\n",
    "df2 = output_df[['ids'] + [col for col in output_df.columns if col != 'ids']]\n",
    "\n",
    "# Print the first few rows of the 'output_df' DataFrame for debugging\n",
    "print(df2.head())\n"
   ]
  },
  {
   "cell_type": "code",
   "execution_count": 40,
   "id": "9ebe5348",
   "metadata": {},
   "outputs": [],
   "source": [
    "# Iterate through df1 to calculate director scores\n",
    "for index, row in df1.iterrows():\n",
    "    director_ids_str = row['director_ids']\n",
    "\n",
    "    # Check for NaN values and skip them\n",
    "    if pd.isna(director_ids_str):\n",
    "        continue\n",
    "\n",
    "    # Safely evaluate the content of 'director_ids' if it's not NaN\n",
    "    director_ids = ast.literal_eval(director_ids_str)\n",
    "    release_year = row['Release Year']\n",
    "    merged_revenue = row['Merged Revenue']\n",
    "\n",
    "    # Iterate through each director_id in the director_ids array\n",
    "    for director_id in director_ids:\n",
    "        # Find the corresponding row in df2\n",
    "        df2_row = df2[df2['ids'] == director_id]\n",
    "\n",
    "        if not df2_row.empty:\n",
    "            director_score = df2_row[f'star_{release_year}'].values[0]\n",
    "\n",
    "            # Calculate points for every million dollars in USD in directed movies\n",
    "            if merged_revenue is not np.nan:\n",
    "                director_score += (merged_revenue / 1000000) * 10\n",
    "\n",
    "            # Assign the updated director score to the corresponding 'star_yyyy' column\n",
    "            df2.loc[df2['ids'] == director_id, f'star_{release_year}'] = director_score\n",
    "            \n",
    "for director_id in df2['ids']:\n",
    "    for column in df2.columns:\n",
    "        if column.startswith(\"star_\"):\n",
    "            release_year = int(column.split(\"_\")[1])\n",
    "            if release_year > 2011:\n",
    "                previous_year = release_year - 1\n",
    "                year_before_previous = release_year - 2\n",
    "                df2_row = df2[df2['ids'] == director_id]\n",
    "\n",
    "                if not df2_row.empty:\n",
    "                    director_score = df2_row[column].values[0]\n",
    "\n",
    "                    # Calculate score from the previous year\n",
    "                    previous_year_score = df2_row[f'star_{previous_year}'].values[0]\n",
    "                    director_score += 0.7 * previous_year_score\n",
    "\n",
    "                    # Calculate score from the year before the previous year\n",
    "                    if release_year > 2012:\n",
    "                        year_before_previous_score = df2_row[f'star_{year_before_previous}'].values[0]\n",
    "                        director_score += 0.49 * year_before_previous_score\n",
    "\n",
    "                    # Assign the updated director score to the corresponding 'star_yyyy' column\n",
    "                    df2.loc[df2['ids'] == director_id, column] = director_score"
   ]
  },
  {
   "cell_type": "code",
   "execution_count": 41,
   "id": "a6f9afb0",
   "metadata": {},
   "outputs": [],
   "source": [
    "# Create an output dataframe\n",
    "df_output = df2\n",
    "# Save to csv\n",
    "df_output.to_csv('director_df.csv', index=False)"
   ]
  },
  {
   "cell_type": "code",
   "execution_count": null,
   "id": "3c86798c",
   "metadata": {},
   "outputs": [],
   "source": []
  }
 ],
 "metadata": {
  "kernelspec": {
   "display_name": "Python 3 (ipykernel)",
   "language": "python",
   "name": "python3"
  },
  "language_info": {
   "codemirror_mode": {
    "name": "ipython",
    "version": 3
   },
   "file_extension": ".py",
   "mimetype": "text/x-python",
   "name": "python",
   "nbconvert_exporter": "python",
   "pygments_lexer": "ipython3",
   "version": "3.10.9"
  }
 },
 "nbformat": 4,
 "nbformat_minor": 5
}
