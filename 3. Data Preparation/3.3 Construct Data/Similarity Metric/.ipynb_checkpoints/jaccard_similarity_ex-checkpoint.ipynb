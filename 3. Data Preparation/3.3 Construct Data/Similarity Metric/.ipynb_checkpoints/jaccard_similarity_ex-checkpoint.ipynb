{
 "cells": [
  {
   "cell_type": "code",
   "execution_count": 8,
   "id": "f32720ce-1733-4df5-8c8c-46c172e3a5c9",
   "metadata": {},
   "outputs": [
    {
     "ename": "ZeroDivisionError",
     "evalue": "division by zero",
     "output_type": "error",
     "traceback": [
      "\u001b[0;31m---------------------------------------------------------------------------\u001b[0m",
      "\u001b[0;31mZeroDivisionError\u001b[0m                         Traceback (most recent call last)",
      "\u001b[0;32m/var/folders/1q/k2xgb1v932q1w8pv8d5thbq80000gn/T/ipykernel_66231/1531169667.py\u001b[0m in \u001b[0;36m<module>\u001b[0;34m\u001b[0m\n\u001b[1;32m     26\u001b[0m             \u001b[0;32mif\u001b[0m \u001b[0mcast2\u001b[0m\u001b[0;34m:\u001b[0m\u001b[0;34m\u001b[0m\u001b[0;34m\u001b[0m\u001b[0m\n\u001b[1;32m     27\u001b[0m                 \u001b[0;31m# Calculate Jaccard similarity\u001b[0m\u001b[0;34m\u001b[0m\u001b[0;34m\u001b[0m\u001b[0m\n\u001b[0;32m---> 28\u001b[0;31m                 \u001b[0msimilarity\u001b[0m \u001b[0;34m=\u001b[0m \u001b[0mcalculate_jaccard_similarity\u001b[0m\u001b[0;34m(\u001b[0m\u001b[0mcast1\u001b[0m\u001b[0;34m,\u001b[0m \u001b[0mcast2\u001b[0m\u001b[0;34m)\u001b[0m\u001b[0;34m\u001b[0m\u001b[0;34m\u001b[0m\u001b[0m\n\u001b[0m\u001b[1;32m     29\u001b[0m \u001b[0;34m\u001b[0m\u001b[0m\n\u001b[1;32m     30\u001b[0m                 results.append({\n",
      "\u001b[0;32m/var/folders/1q/k2xgb1v932q1w8pv8d5thbq80000gn/T/ipykernel_66231/1531169667.py\u001b[0m in \u001b[0;36mcalculate_jaccard_similarity\u001b[0;34m(list1, list2)\u001b[0m\n\u001b[1;32m     11\u001b[0m     \u001b[0mintersection\u001b[0m \u001b[0;34m=\u001b[0m \u001b[0mlen\u001b[0m\u001b[0;34m(\u001b[0m\u001b[0mset1\u001b[0m\u001b[0;34m.\u001b[0m\u001b[0mintersection\u001b[0m\u001b[0;34m(\u001b[0m\u001b[0mset2\u001b[0m\u001b[0;34m)\u001b[0m\u001b[0;34m)\u001b[0m\u001b[0;34m\u001b[0m\u001b[0;34m\u001b[0m\u001b[0m\n\u001b[1;32m     12\u001b[0m     \u001b[0munion\u001b[0m \u001b[0;34m=\u001b[0m \u001b[0mlen\u001b[0m\u001b[0;34m(\u001b[0m\u001b[0mset1\u001b[0m\u001b[0;34m.\u001b[0m\u001b[0munion\u001b[0m\u001b[0;34m(\u001b[0m\u001b[0mset2\u001b[0m\u001b[0;34m)\u001b[0m\u001b[0;34m)\u001b[0m\u001b[0;34m\u001b[0m\u001b[0;34m\u001b[0m\u001b[0m\n\u001b[0;32m---> 13\u001b[0;31m     \u001b[0;32mreturn\u001b[0m \u001b[0mintersection\u001b[0m \u001b[0;34m/\u001b[0m \u001b[0munion\u001b[0m\u001b[0;34m\u001b[0m\u001b[0;34m\u001b[0m\u001b[0m\n\u001b[0m\u001b[1;32m     14\u001b[0m \u001b[0;34m\u001b[0m\u001b[0m\n\u001b[1;32m     15\u001b[0m \u001b[0mresults\u001b[0m \u001b[0;34m=\u001b[0m \u001b[0;34m[\u001b[0m\u001b[0;34m]\u001b[0m\u001b[0;34m\u001b[0m\u001b[0;34m\u001b[0m\u001b[0m\n",
      "\u001b[0;31mZeroDivisionError\u001b[0m: division by zero"
     ]
    }
   ],
   "source": [
    "import pandas as pd\n",
    "import ast\n",
    "\n",
    "# Load the CSV file into a Pandas DataFrame\n",
    "df = pd.read_csv('../merged_data_with_revenues.csv')\n",
    "\n",
    "# Define a function to calculate Jaccard similarity for two lists of IDs\n",
    "def calculate_jaccard_similarity(list1, list2):\n",
    "    set1 = set(ast.literal_eval(list1))\n",
    "    set2 = set(ast.literal_eval(list2))\n",
    "    intersection = len(set1.intersection(set2))\n",
    "    union = len(set1.union(set2))\n",
    "    return intersection / union\n",
    "\n",
    "results = []\n",
    "\n",
    "for i in range(len(df)):\n",
    "    cast1 = df.iloc[i]['cast_ids']\n",
    "    \n",
    "    # Check if the cast list is not empty\n",
    "    if cast1:\n",
    "        for j in range(i + 1, len(df)):\n",
    "            cast2 = df.iloc[j]['cast_ids']\n",
    "            \n",
    "            # Check if the cast list is not empty\n",
    "            if cast2:\n",
    "                # Calculate Jaccard similarity\n",
    "                similarity = calculate_jaccard_similarity(cast1, cast2)\n",
    "                \n",
    "                results.append({\n",
    "                    'Movie1': df.iloc[i]['imdb_ids'],\n",
    "                    'Movie2': df.iloc[j]['imdb_ids'],\n",
    "                    'Jaccard_Similarity': similarity\n",
    "                })\n",
    "\n",
    "# Convert the results to a new DataFrame\n",
    "similarity_df = pd.DataFrame(results)\n",
    "\n",
    "# Save the results to a CSV file\n",
    "similarity_df.to_csv('movie_similarity_results.csv', index=False)"
   ]
  },
  {
   "cell_type": "code",
   "execution_count": null,
   "id": "cd377a07-5b9a-478d-adb1-0b38b65129f0",
   "metadata": {},
   "outputs": [],
   "source": []
  }
 ],
 "metadata": {
  "kernelspec": {
   "display_name": "Python 3 (ipykernel)",
   "language": "python",
   "name": "python3"
  },
  "language_info": {
   "codemirror_mode": {
    "name": "ipython",
    "version": 3
   },
   "file_extension": ".py",
   "mimetype": "text/x-python",
   "name": "python",
   "nbconvert_exporter": "python",
   "pygments_lexer": "ipython3",
   "version": "3.9.7"
  }
 },
 "nbformat": 4,
 "nbformat_minor": 5
}
