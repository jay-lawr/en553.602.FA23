{
 "cells": [
  {
   "cell_type": "code",
   "execution_count": 11,
   "id": "f32720ce-1733-4df5-8c8c-46c172e3a5c9",
   "metadata": {},
   "outputs": [],
   "source": [
    "import pandas as pd\n",
    "import ast\n",
    "\n",
    "# Load the CSV file into a Pandas DataFrame\n",
    "df = pd.read_csv('merged_data_small_subset.csv')\n",
    "\n",
    "# Define a function to calculate Jaccard similarity for two lists of IDs\n",
    "def calculate_jaccard_similarity(list1, list2):\n",
    "    set1 = set(ast.literal_eval(list1))\n",
    "    set2 = set(ast.literal_eval(list2))\n",
    "    intersection = len(set1.intersection(set2))\n",
    "    union = len(set1.union(set2))\n",
    "    return intersection / union\n",
    "\n",
    "results = []\n",
    "\n",
    "for i in range(len(df)):\n",
    "    cast1 = df.iloc[i]['cast_ids']\n",
    "    \n",
    "    # Check if the cast list is not an empty list ([]) and not NaN\n",
    "    if cast1 != '[]' and not pd.isna(cast1):\n",
    "        for j in range(i + 1, len(df)):\n",
    "            cast2 = df.iloc[j]['cast_ids']\n",
    "            \n",
    "            # Check if the cast list is not an empty list ([]) and not NaN\n",
    "            if cast2 != '[]' and not pd.isna(cast2):\n",
    "                # Calculate Jaccard similarity\n",
    "                similarity = calculate_jaccard_similarity(cast1, cast2)\n",
    "                \n",
    "                results.append({\n",
    "                    'Movie1': df.iloc[i]['imdb_ids'],\n",
    "                    'Movie2': df.iloc[j]['imdb_ids'],\n",
    "                    'Jaccard_Similarity': similarity\n",
    "                })\n",
    "\n",
    "# Convert the results to a new DataFrame\n",
    "similarity_df = pd.DataFrame(results)\n",
    "\n",
    "# Save the results to a CSV file\n",
    "similarity_df.to_csv('movie_similarity_results.csv', index=False)\n"
   ]
  },
  {
   "cell_type": "code",
   "execution_count": null,
   "id": "cd377a07-5b9a-478d-adb1-0b38b65129f0",
   "metadata": {},
   "outputs": [],
   "source": []
  }
 ],
 "metadata": {
  "kernelspec": {
   "display_name": "Python 3 (ipykernel)",
   "language": "python",
   "name": "python3"
  },
  "language_info": {
   "codemirror_mode": {
    "name": "ipython",
    "version": 3
   },
   "file_extension": ".py",
   "mimetype": "text/x-python",
   "name": "python",
   "nbconvert_exporter": "python",
   "pygments_lexer": "ipython3",
   "version": "3.9.7"
  }
 },
 "nbformat": 4,
 "nbformat_minor": 5
}
