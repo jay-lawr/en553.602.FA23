{
 "cells": [
  {
   "cell_type": "code",
   "execution_count": null,
   "id": "b4e886e5-3ac4-4f87-b4b3-5bda781eba2d",
   "metadata": {},
   "outputs": [],
   "source": [
    "from tmdbv3api import TMDb\n",
    "from tmdbv3api import Movie\n",
    "from tmdbv3api.exceptions import TMDbException\n",
    "import random\n",
    "import pandas as pd\n",
    "import csv\n",
    "import numpy as np\n",
    "from math import exp\n",
    "import ast\n",
    "tmdb=TMDb()\n",
    "tmdb.api_key='9cf68f4c97c8f0cc6bb9646da389a808'"
   ]
  },
  {
   "cell_type": "code",
   "execution_count": null,
   "id": "fd03ba37-dbc2-46d3-9560-3032268adcef",
   "metadata": {},
   "outputs": [],
   "source": [
    "# Initialize csv file paths\n",
    "csv_file_path= 'merged_data_mod_scores_filtered_US_release_year_star_scores_prod_scores_dir_scores.csv'\n",
    "# Create DataFrames from both CSV files\n",
    "df = pd.read_csv(csv_file_path)"
   ]
  },
  {
   "cell_type": "code",
   "execution_count": null,
   "id": "7e080a5f-4227-4cf2-945e-aea6df11b913",
   "metadata": {},
   "outputs": [],
   "source": [
    "#This function encodes MPAA "
   ]
  }
 ],
 "metadata": {
  "kernelspec": {
   "display_name": "Python 3 (ipykernel)",
   "language": "python",
   "name": "python3"
  },
  "language_info": {
   "codemirror_mode": {
    "name": "ipython",
    "version": 3
   },
   "file_extension": ".py",
   "mimetype": "text/x-python",
   "name": "python",
   "nbconvert_exporter": "python",
   "pygments_lexer": "ipython3",
   "version": "3.10.9"
  }
 },
 "nbformat": 4,
 "nbformat_minor": 5
}
