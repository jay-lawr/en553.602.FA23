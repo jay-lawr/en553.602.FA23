{
 "cells": [
  {
   "cell_type": "code",
   "execution_count": 1,
   "id": "b4e886e5-3ac4-4f87-b4b3-5bda781eba2d",
   "metadata": {},
   "outputs": [],
   "source": [
    "from tmdbv3api import TMDb\n",
    "from tmdbv3api import Movie\n",
    "from tmdbv3api.exceptions import TMDbException\n",
    "import random\n",
    "import pandas as pd\n",
    "import csv\n",
    "import numpy as np\n",
    "from math import exp\n",
    "import ast\n",
    "tmdb=TMDb()\n",
    "tmdb.api_key='9cf68f4c97c8f0cc6bb9646da389a808'"
   ]
  },
  {
   "cell_type": "code",
   "execution_count": 2,
   "id": "fd03ba37-dbc2-46d3-9560-3032268adcef",
   "metadata": {},
   "outputs": [],
   "source": [
    "# Initialize csv file paths\n",
    "csv_file_path= 'data_with_mpaa.csv'\n",
    "# Create DataFrames from both CSV files\n",
    "df = pd.read_csv(csv_file_path)"
   ]
  },
  {
   "cell_type": "markdown",
   "id": "d3cb6fc0-97d9-438e-9b6b-9c4f7f05d872",
   "metadata": {},
   "source": [
    "#This function merges MPAA data from TMDB and Box Office Mojo, then one hot encodes the merged data. When Data from both sources is avaliable, preference is given to data from Box Office Mojo for the merge. "
   ]
  },
  {
   "cell_type": "code",
   "execution_count": 4,
   "id": "c4eb7c37-40f3-413e-888b-942290e86093",
   "metadata": {},
   "outputs": [
    {
     "name": "stdout",
     "output_type": "stream",
     "text": [
      "[nan 'R' 'PG-13' 'PG' 'G' 'NR' 'R ' 'NC-17']\n",
      "[nan 'R' 'PG-13' 'PG' 'Unrated' 'G' 'NC-17' 'Not Rated']\n"
     ]
    }
   ],
   "source": [
    "#Checks how the ratings are labeled to rename them before the merge\n",
    "tmdb_ratings = df['MPAA_TMDB'].unique()\n",
    "bom_ratings = df['MPAA'].unique()\n",
    "print(tmdb_ratings)\n",
    "print(bom_ratings)\n",
    "\n",
    "\n"
   ]
  },
  {
   "cell_type": "code",
   "execution_count": 5,
   "id": "1e927070-eee9-4432-97dc-95fd09ab8cfb",
   "metadata": {},
   "outputs": [],
   "source": [
    "#Replace 'R ' with 'R' to clean the MPAA ratings from TMDB before the merge\n",
    "df['MPAA_TMDB'].replace({'R ': 'R'}, inplace=True)\n",
    "# Replace 'Unrated' or 'Not Rated' with 'NR' in MPAA befoore the merge\n",
    "df['MPAA'].replace({'Unrated': 'NR', 'Not Rated': 'NR'}, inplace=True)\n"
   ]
  },
  {
   "cell_type": "code",
   "execution_count": 6,
   "id": "88ce7d29-278d-4df3-90f3-81410b463b25",
   "metadata": {},
   "outputs": [],
   "source": [
    "# Merge the two columns giving preference to Column 2\n",
    "df['Merged_MPAA'] = df['MPAA'].fillna(df['MPAA_TMDB'])\n",
    "df['Merged_MPAA'] = df['Merged_MPAA'].fillna('NR')\n",
    "\n",
    "#Identify unique rating strings\n",
    "ratings = df['Merged_MPAA'].unique()\n",
    "\n",
    "#One-hot encode the unique strings\n",
    "one_hot_encoded = pd.get_dummies(df['Merged_MPAA'], columns=ratings)\n",
    "\n",
    "#Join the one-hot encoded columns with the original DataFrame\n",
    "df_output = pd.concat([df, one_hot_encoded], axis=1)"
   ]
  },
  {
   "cell_type": "code",
   "execution_count": 7,
   "id": "d551c238-4af6-45e0-a7ff-9b87e3655a8e",
   "metadata": {},
   "outputs": [],
   "source": [
    "df_output.to_csv('data_with_encoded_mpaa.csv', index = False)"
   ]
  },
  {
   "cell_type": "code",
   "execution_count": null,
   "id": "3f57768b-e922-430d-bdff-6b3a8b3db2b8",
   "metadata": {},
   "outputs": [],
   "source": []
  }
 ],
 "metadata": {
  "kernelspec": {
   "display_name": "Python 3 (ipykernel)",
   "language": "python",
   "name": "python3"
  },
  "language_info": {
   "codemirror_mode": {
    "name": "ipython",
    "version": 3
   },
   "file_extension": ".py",
   "mimetype": "text/x-python",
   "name": "python",
   "nbconvert_exporter": "python",
   "pygments_lexer": "ipython3",
   "version": "3.10.9"
  }
 },
 "nbformat": 4,
 "nbformat_minor": 5
}
