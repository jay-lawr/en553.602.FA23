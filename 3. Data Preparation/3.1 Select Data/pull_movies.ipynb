{
 "cells": [
  {
   "cell_type": "code",
   "execution_count": 4,
   "metadata": {},
   "outputs": [],
   "source": [
    "import sys\n",
    " \n",
    "# adding Folder_2 to the system path\n",
    "sys.path.insert(0, '../../2. Data Understanding/2.1 Collect Initial Data/Box Office Mojo Scrape/')"
   ]
  },
  {
   "cell_type": "code",
   "execution_count": 5,
   "metadata": {},
   "outputs": [],
   "source": [
    "import boxofficemojoscrape as box\n",
    "import pandas as pd"
   ]
  },
  {
   "cell_type": "code",
   "execution_count": 15,
   "metadata": {},
   "outputs": [
    {
     "ename": "NameError",
     "evalue": "name 'pd' is not defined",
     "output_type": "error",
     "traceback": [
      "\u001b[0;31m---------------------------------------------------------------------------\u001b[0m",
      "\u001b[0;31mNameError\u001b[0m                                 Traceback (most recent call last)",
      "Cell \u001b[0;32mIn[15], line 1\u001b[0m\n\u001b[0;32m----> 1\u001b[0m df \u001b[38;5;241m=\u001b[39m \u001b[43mpd\u001b[49m\u001b[38;5;241m.\u001b[39mread_csv(\u001b[38;5;124m\"\u001b[39m\u001b[38;5;124m../2. Data Understanding/2.1 Collect Initial Data/IMDB IDs/imdb_ids.csv\u001b[39m\u001b[38;5;124m\"\u001b[39m)\n",
      "\u001b[0;31mNameError\u001b[0m: name 'pd' is not defined"
     ]
    }
   ],
   "source": [
    "df = pd.read_csv(\"../2. Data Understanding/2.1 Collect Initial Data/IMDB IDs/imdb_ids.csv\")"
   ]
  },
  {
   "cell_type": "code",
   "execution_count": null,
   "metadata": {},
   "outputs": [],
   "source": [
    "results = []\n",
    "imdb_ids_that_failed = []\n",
    "counter = 1\n",
    "for id in df.imdb_id:\n",
    "    print(counter)\n",
    "    try:\n",
    "        data = box.get_data_by_id(id)\n",
    "        results.append(data)\n",
    "    except:\n",
    "        imdb_ids_that_failed.append(id)\n",
    "    counter += 1\n",
    "\n",
    "results_df = pd.DataFrame(results)\n",
    "results_df.to_csv(\"BOM_full_data.csv\")\n",
    "\n",
    "failed_df = pd.DataFrame(imdb_ids_that_failed)\n",
    "failed_df.to_csv(\"Failed_IDs.csv\")"
   ]
  },
  {
   "cell_type": "markdown",
   "metadata": {},
   "source": [
    "# Lucas Update: Pull 2011-2012 Data for Feature Engineering"
   ]
  },
  {
   "cell_type": "code",
   "execution_count": 3,
   "metadata": {},
   "outputs": [],
   "source": [
    "df = pd.read_csv(\"Collecting 2011-2012 for feature engineering/2011_2012_details_imdb_only.csv\")"
   ]
  },
  {
   "cell_type": "code",
   "execution_count": null,
   "metadata": {},
   "outputs": [],
   "source": [
    "results = []\n",
    "imdb_ids_that_failed = []\n",
    "counter = 1\n",
    "for id in df[\"IMDB ID\"]:\n",
    "    print(id)\n",
    "    try:\n",
    "        data = box.get_data_by_id(id)\n",
    "        results.append(data)\n",
    "    except:\n",
    "        imdb_ids_that_failed.append(id)\n",
    "    counter += 1\n",
    "\n",
    "results_df = pd.DataFrame(results)\n",
    "results_df.to_csv(\"BOM_2011_2012_data.csv\")\n",
    "\n",
    "failed_df = pd.DataFrame(imdb_ids_that_failed)\n",
    "failed_df.to_csv(\"2011_2012_Failed_IDs.csv\")"
   ]
  },
  {
   "cell_type": "code",
   "execution_count": 9,
   "metadata": {},
   "outputs": [],
   "source": [
    "df = pd.read_csv(\"./2010/2010_details.csv\")"
   ]
  },
  {
   "cell_type": "code",
   "execution_count": null,
   "metadata": {},
   "outputs": [],
   "source": [
    "results = []\n",
    "imdb_ids_that_failed = []\n",
    "counter = 1\n",
    "for id in df[\"IMDB ID\"]:\n",
    "    print(id)\n",
    "    try:\n",
    "        data = box.get_data_by_id(id)\n",
    "        results.append(data)\n",
    "    except:\n",
    "        imdb_ids_that_failed.append(id)\n",
    "    counter += 1\n",
    "\n",
    "results_df = pd.DataFrame(results)\n",
    "results_df.to_csv(\"BOM_2010_data.csv\")\n",
    "\n",
    "failed_df = pd.DataFrame(imdb_ids_that_failed)\n",
    "failed_df.to_csv(\"2010_Failed_IDs.csv\")"
   ]
  },
  {
   "cell_type": "code",
   "execution_count": null,
   "metadata": {},
   "outputs": [],
   "source": []
  },
  {
   "cell_type": "code",
   "execution_count": null,
   "metadata": {},
   "outputs": [],
   "source": []
  }
 ],
 "metadata": {
  "kernelspec": {
   "display_name": "Python 3 (ipykernel)",
   "language": "python",
   "name": "python3"
  },
  "language_info": {
   "codemirror_mode": {
    "name": "ipython",
    "version": 3
   },
   "file_extension": ".py",
   "mimetype": "text/x-python",
   "name": "python",
   "nbconvert_exporter": "python",
   "pygments_lexer": "ipython3",
   "version": "3.10.9"
  }
 },
 "nbformat": 4,
 "nbformat_minor": 4
}
