{
 "cells": [
  {
   "cell_type": "code",
   "execution_count": null,
   "id": "8971ec07-2b94-40b7-86cb-521d281a6422",
   "metadata": {},
   "outputs": [],
   "source": [
    "# Merges 2010 with 2011-2012 Data"
   ]
  },
  {
   "cell_type": "code",
   "execution_count": 5,
   "id": "a2074625-76b0-4e68-ba8f-1d0cf74bb012",
   "metadata": {},
   "outputs": [],
   "source": [
    "import pandas as pd\n",
    "import csv\n",
    "# Initialize csv file paths\n",
    "csv_file_path1 = 'clean_merged_2011_2012_data.csv'\n",
    "csv_file_path2 = '../2010/clean_merged_2010_data.csv'\n",
    "\n",
    "# Create DataFrames from both CSV files\n",
    "df1 = pd.read_csv(csv_file_path1)\n",
    "df2 = pd.read_csv(csv_file_path2)\n",
    "\n",
    "pd.concat([df1, df2]).to_csv(\"clean_2010_2012_merged.csv\")"
   ]
  },
  {
   "cell_type": "code",
   "execution_count": 7,
   "id": "4cc66f13-f84b-42c2-938f-b99755d4ce76",
   "metadata": {},
   "outputs": [],
   "source": [
    "csv_file_path1 = 'clean_2010_2012_merged.csv'\n",
    "csv_file_path2 = '2010_2012_movie_credits.csv'\n",
    "\n",
    "# Create DataFrames from both CSV files\n",
    "df1 = pd.read_csv(csv_file_path1)\n",
    "df2 = pd.read_csv(csv_file_path2)\n",
    "\n",
    "df1.merge(df2, left_on=\"TMDB ID\", right_on=\"movie_id\").to_csv(\"clean_2010_2012_data_with_credits.csv\")"
   ]
  },
  {
   "cell_type": "code",
   "execution_count": null,
   "id": "d0abdcf4-15cf-4008-b7c3-fccd0ff7d5a7",
   "metadata": {},
   "outputs": [],
   "source": []
  }
 ],
 "metadata": {
  "kernelspec": {
   "display_name": "Python 3 (ipykernel)",
   "language": "python",
   "name": "python3"
  },
  "language_info": {
   "codemirror_mode": {
    "name": "ipython",
    "version": 3
   },
   "file_extension": ".py",
   "mimetype": "text/x-python",
   "name": "python",
   "nbconvert_exporter": "python",
   "pygments_lexer": "ipython3",
   "version": "3.10.9"
  }
 },
 "nbformat": 4,
 "nbformat_minor": 5
}
