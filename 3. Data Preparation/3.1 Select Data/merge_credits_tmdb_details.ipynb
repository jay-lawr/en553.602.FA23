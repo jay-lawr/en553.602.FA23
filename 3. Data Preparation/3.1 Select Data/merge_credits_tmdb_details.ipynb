{
 "cells": [
  {
   "cell_type": "markdown",
   "id": "54c5a63a",
   "metadata": {},
   "source": [
    "This code is designed to merge the credits dataframe and the tmdb details dataframe into a dataframe called merged_movie_details_credits.csv"
   ]
  },
  {
   "cell_type": "code",
   "execution_count": 1,
   "id": "e88163e4",
   "metadata": {},
   "outputs": [
    {
     "name": "stdout",
     "output_type": "stream",
     "text": [
      "Requirement already satisfied: tmdbv3api in c:\\users\\xylop\\anaconda3\\lib\\site-packages (1.9.0)\n",
      "Requirement already satisfied: requests in c:\\users\\xylop\\anaconda3\\lib\\site-packages (from tmdbv3api) (2.28.1)\n",
      "Requirement already satisfied: charset-normalizer<3,>=2 in c:\\users\\xylop\\anaconda3\\lib\\site-packages (from requests->tmdbv3api) (2.0.4)\n",
      "Requirement already satisfied: certifi>=2017.4.17 in c:\\users\\xylop\\anaconda3\\lib\\site-packages (from requests->tmdbv3api) (2022.12.7)\n",
      "Requirement already satisfied: idna<4,>=2.5 in c:\\users\\xylop\\anaconda3\\lib\\site-packages (from requests->tmdbv3api) (3.4)\n",
      "Requirement already satisfied: urllib3<1.27,>=1.21.1 in c:\\users\\xylop\\anaconda3\\lib\\site-packages (from requests->tmdbv3api) (1.26.14)\n"
     ]
    }
   ],
   "source": [
    "!pip install tmdbv3api"
   ]
  },
  {
   "cell_type": "code",
   "execution_count": 2,
   "id": "4979ed9c",
   "metadata": {},
   "outputs": [],
   "source": [
    "from tmdbv3api import TMDb\n",
    "from tmdbv3api import Movie\n",
    "from tmdbv3api.exceptions import TMDbException\n",
    "import random\n",
    "import pandas as pd\n",
    "import csv\n",
    "tmdb=TMDb()\n",
    "tmdb.api_key='9cf68f4c97c8f0cc6bb9646da389a808'"
   ]
  },
  {
   "cell_type": "markdown",
   "id": "f5fc8308",
   "metadata": {},
   "source": [
    ">The next cell will merge the two input files if their tmdb id's match"
   ]
  },
  {
   "cell_type": "code",
   "execution_count": 1,
   "id": "e9a0a146",
   "metadata": {},
   "outputs": [
    {
     "name": "stdout",
     "output_type": "stream",
     "text": [
      "Operation Complete\n"
     ]
    }
   ],
   "source": [
    "import pandas as pd\n",
    "import csv\n",
    "\n",
    "# Initialize csv file paths\n",
    "csv_file_path1 = 'tmdb_movie_details.csv' \n",
    "csv_file_path2 = 'tmdb_movie_credits.csv'  \n",
    "\n",
    "# Create DataFrames from both CSV files\n",
    "df1 = pd.read_csv(csv_file_path1)\n",
    "df2 = pd.read_csv(csv_file_path2)\n",
    "\n",
    "# Merge the two DataFrames by matching rows based on TMDB ID\n",
    "merged_df = pd.merge(df1, df2, left_on='ID', right_on='movie_id', how='inner')\n",
    "merged_df.dropna(subset=['IMDB ID'], inplace=True)\n",
    "\n",
    "# Save the merged data to a new csv\n",
    "file_name = 'details_credits_merged.csv'\n",
    "merged_df.to_csv(file_name, index=False)\n",
    "print(f\"Operation Complete\")"
   ]
  },
  {
   "cell_type": "code",
   "execution_count": null,
   "id": "d312ba38",
   "metadata": {},
   "outputs": [],
   "source": []
  }
 ],
 "metadata": {
  "kernelspec": {
   "display_name": "Python 3 (ipykernel)",
   "language": "python",
   "name": "python3"
  },
  "language_info": {
   "codemirror_mode": {
    "name": "ipython",
    "version": 3
   },
   "file_extension": ".py",
   "mimetype": "text/x-python",
   "name": "python",
   "nbconvert_exporter": "python",
   "pygments_lexer": "ipython3",
   "version": "3.10.9"
  }
 },
 "nbformat": 4,
 "nbformat_minor": 5
}
