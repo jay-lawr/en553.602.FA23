{
 "cells": [
  {
   "cell_type": "markdown",
   "id": "54c5a63a",
   "metadata": {},
   "source": [
    "This code is designed to merge the credits dataframe and the tmdb details dataframe into a dataframe called merged_movie_details_credits.csv"
   ]
  },
  {
   "cell_type": "code",
   "execution_count": 1,
   "id": "e88163e4",
   "metadata": {},
   "outputs": [
    {
     "name": "stdout",
     "output_type": "stream",
     "text": [
      "Requirement already satisfied: tmdbv3api in c:\\users\\xylop\\anaconda3\\lib\\site-packages (1.9.0)\n",
      "Requirement already satisfied: requests in c:\\users\\xylop\\anaconda3\\lib\\site-packages (from tmdbv3api) (2.28.1)\n",
      "Requirement already satisfied: charset-normalizer<3,>=2 in c:\\users\\xylop\\anaconda3\\lib\\site-packages (from requests->tmdbv3api) (2.0.4)\n",
      "Requirement already satisfied: certifi>=2017.4.17 in c:\\users\\xylop\\anaconda3\\lib\\site-packages (from requests->tmdbv3api) (2022.12.7)\n",
      "Requirement already satisfied: idna<4,>=2.5 in c:\\users\\xylop\\anaconda3\\lib\\site-packages (from requests->tmdbv3api) (3.4)\n",
      "Requirement already satisfied: urllib3<1.27,>=1.21.1 in c:\\users\\xylop\\anaconda3\\lib\\site-packages (from requests->tmdbv3api) (1.26.14)\n"
     ]
    }
   ],
   "source": [
    "!pip install tmdbv3api"
   ]
  },
  {
   "cell_type": "code",
   "execution_count": 2,
   "id": "4979ed9c",
   "metadata": {},
   "outputs": [],
   "source": [
    "from tmdbv3api import TMDb\n",
    "from tmdbv3api import Movie\n",
    "from tmdbv3api.exceptions import TMDbException\n",
    "import random\n",
    "import pandas as pd\n",
    "import csv\n",
    "tmdb=TMDb()\n",
    "tmdb.api_key='9cf68f4c97c8f0cc6bb9646da389a808'"
   ]
  },
  {
   "cell_type": "markdown",
   "id": "f5fc8308",
   "metadata": {},
   "source": [
    ">The next cell will merge the two input files if their tmdb id's match"
   ]
  },
  {
   "cell_type": "code",
   "execution_count": 1,
   "id": "e9a0a146",
   "metadata": {},
   "outputs": [
    {
     "name": "stdout",
     "output_type": "stream",
     "text": [
      "Operation Complete\n"
     ]
    }
   ],
   "source": [
    "import pandas as pd\n",
    "import csv\n",
    "\n",
    "# Initialize csv file paths\n",
    "csv_file_path1 = 'tmdb_movie_details.csv' \n",
    "csv_file_path2 = 'tmdb_movie_credits.csv'  \n",
    "\n",
    "# Create DataFrames from both CSV files\n",
    "df1 = pd.read_csv(csv_file_path1)\n",
    "df2 = pd.read_csv(csv_file_path2)\n",
    "\n",
    "# Merge the two DataFrames by matching rows based on TMDB ID\n",
    "merged_df = pd.merge(df1, df2, left_on='ID', right_on='movie_id', how='inner')\n",
    "merged_df.dropna(subset=['IMDB ID'], inplace=True)\n",
    "\n",
    "# Save the merged data to a new csv\n",
    "file_name = 'details_credits_merged.csv'\n",
    "merged_df.to_csv(file_name, index=False)\n",
    "print(f\"Operation Complete\")"
   ]
  },
  {
   "cell_type": "code",
   "execution_count": null,
   "id": "d312ba38",
   "metadata": {},
   "outputs": [],
   "source": [
    "# Merge 2010 BOM and TMDB data"
   ]
  },
  {
   "cell_type": "code",
   "execution_count": 4,
   "id": "5fd6b3c6-544e-4866-91d0-dee1b47528bf",
   "metadata": {},
   "outputs": [
    {
     "name": "stdout",
     "output_type": "stream",
     "text": [
      "Operation Complete\n"
     ]
    }
   ],
   "source": [
    "# Initialize csv file paths\n",
    "csv_file_path1 = './2010/2010_details.csv' \n",
    "csv_file_path2 = './2010/BOM_2010_data.csv'  \n",
    "\n",
    "# Create DataFrames from both CSV files\n",
    "df1 = pd.read_csv(csv_file_path1)\n",
    "df2 = pd.read_csv(csv_file_path2)\n",
    "\n",
    "# Merge the two DataFrames by matching rows based on TMDB ID\n",
    "merged_df = pd.merge(df1, df2, left_on='IMDB ID', right_on='IMDB ID', how='inner')\n",
    "merged_df.dropna(subset=['IMDB ID'], inplace=True)\n",
    "\n",
    "# Save the merged data to a new csv\n",
    "file_name = '2010_details_credits_merged.csv'\n",
    "merged_df.to_csv(file_name, index=False)\n",
    "print(f\"Operation Complete\")"
   ]
  },
  {
   "cell_type": "markdown",
   "id": "ed8a7f82-e54b-4eac-8acb-f5fea57e0920",
   "metadata": {},
   "source": [
    "# Lucas Update: Add credits data for 2010-2012"
   ]
  },
  {
   "cell_type": "code",
   "execution_count": 4,
   "id": "cac2adc1-f6d7-4cc0-9235-e65087544c98",
   "metadata": {},
   "outputs": [
    {
     "name": "stdout",
     "output_type": "stream",
     "text": [
      "Operation Complete\n"
     ]
    }
   ],
   "source": [
    "import pandas as pd\n",
    "import csv\n",
    "\n",
    "# Initialize csv file paths\n",
    "csv_file_path1 = '2011-2012 Data/clean_2010_2012_data_with_credits.csv'\n",
    "csv_file_path2 = '../3.3 Construct Data/merged_data_mod_star_score'\n",
    "\n",
    "# Create DataFrames from both CSV files\n",
    "df1 = pd.read_csv(csv_file_path1)\n",
    "df2 = pd.read_csv(csv_file_path2)\n",
    "\n",
    "# Merge the two DataFrames by matching rows based on TMDB ID\n",
    "merged_df = pd.merge(df1, df2, left_on='TMDB ID', right_on='TMDB ID', how='inner')\n",
    "\n",
    "# Save the merged data to a new csv\n",
    "file_name = 'clean_2010_with_credits.csv'\n",
    "merged_df.to_csv(file_name, index=False)\n",
    "print(f\"Operation Complete\")"
   ]
  },
  {
   "cell_type": "code",
   "execution_count": null,
   "id": "2a097ea2-ae20-437a-bc02-732d3b95b687",
   "metadata": {},
   "outputs": [],
   "source": [
    "# Merge 2010-2012 data with main dataset"
   ]
  },
  {
   "cell_type": "code",
   "execution_count": 6,
   "id": "cef58de5-034a-4ff1-8dd3-28c33ab9a3e8",
   "metadata": {},
   "outputs": [
    {
     "name": "stdout",
     "output_type": "stream",
     "text": [
      "Empty DataFrame\n",
      "Columns: [TMDB ID, TMDB Budget, Genre ID, Genre Name, IMDB ID, Production Company ID, Production Company Name, Release Date, TMDB Revenue, Runtime, TMDB Title, MPAA, Running Time, Genres, IMDB Title, Domestic Distributor, Domestic Opening, Earliest Release Date, IMDB Budget, IMDB Domestic Revenue, international_revenue, worldwide_revenue, Release Year, Merged Budget, Merged Revenue, movie_id, cast_ids, order, director_ids]\n",
      "Index: []\n",
      "\n",
      "[0 rows x 29 columns]\n",
      "Operation Complete\n"
     ]
    }
   ],
   "source": [
    "\n",
    "import pandas as pd\n",
    "import csv\n",
    "# Initialize csv file paths\n",
    "csv_file_path1 = '2011-2012 Data/clean_merged_2010_2012_data.csv'\n",
    "csv_file_path2 = '../../2. Data Understanding/2.1 Collect Initial Data/TMDB Credits/tmdb_movie_credits_2000_2023_english_nonadult_full.csv'\n",
    "\n",
    "# Create DataFrames from both CSV files\n",
    "df1 = pd.read_csv(csv_file_path1)\n",
    "df2 = pd.read_csv(csv_file_path2)\n",
    "\n",
    "# Merge the two DataFrames by matching rows based on TMDB ID\n",
    "merged_df = pd.merge(df1, df2, left_on='TMDB ID', right_on='movie_id', how='inner')\n",
    "print(merged_df.head())\n",
    "\n",
    "# Save the merged data to a new csv\n",
    "file_name = 'clean_2011_2012_with_credits.csv'\n",
    "merged_df.to_csv(file_name, index=False)\n",
    "print(f\"Operation Complete\")"
   ]
  },
  {
   "cell_type": "code",
   "execution_count": null,
   "id": "9be5da28-8dcf-4c73-8bcc-8081c943073f",
   "metadata": {},
   "outputs": [],
   "source": []
  }
 ],
 "metadata": {
  "kernelspec": {
   "display_name": "Python 3 (ipykernel)",
   "language": "python",
   "name": "python3"
  },
  "language_info": {
   "codemirror_mode": {
    "name": "ipython",
    "version": 3
   },
   "file_extension": ".py",
   "mimetype": "text/x-python",
   "name": "python",
   "nbconvert_exporter": "python",
   "pygments_lexer": "ipython3",
   "version": "3.10.9"
  }
 },
 "nbformat": 4,
 "nbformat_minor": 5
}
