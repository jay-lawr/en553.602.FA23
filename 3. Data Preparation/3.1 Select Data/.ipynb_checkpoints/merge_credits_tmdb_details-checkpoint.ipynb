{
 "cells": [
  {
   "cell_type": "markdown",
   "id": "ed38639b",
   "metadata": {},
   "source": [
    "This code is designed to merge the credits dataframe and the tmdb details dataframe into a dataframe called merged_movie_details_credits.csv"
   ]
  },
  {
   "cell_type": "code",
   "execution_count": 1,
   "id": "e88163e4",
   "metadata": {},
   "outputs": [
    {
     "name": "stdout",
     "output_type": "stream",
     "text": [
      "Requirement already satisfied: tmdbv3api in c:\\users\\xylop\\anaconda3\\lib\\site-packages (1.9.0)\n",
      "Requirement already satisfied: requests in c:\\users\\xylop\\anaconda3\\lib\\site-packages (from tmdbv3api) (2.28.1)\n",
      "Requirement already satisfied: charset-normalizer<3,>=2 in c:\\users\\xylop\\anaconda3\\lib\\site-packages (from requests->tmdbv3api) (2.0.4)\n",
      "Requirement already satisfied: certifi>=2017.4.17 in c:\\users\\xylop\\anaconda3\\lib\\site-packages (from requests->tmdbv3api) (2022.12.7)\n",
      "Requirement already satisfied: idna<4,>=2.5 in c:\\users\\xylop\\anaconda3\\lib\\site-packages (from requests->tmdbv3api) (3.4)\n",
      "Requirement already satisfied: urllib3<1.27,>=1.21.1 in c:\\users\\xylop\\anaconda3\\lib\\site-packages (from requests->tmdbv3api) (1.26.14)\n"
     ]
    }
   ],
   "source": [
    "!pip install tmdbv3api"
   ]
  },
  {
   "cell_type": "code",
   "execution_count": 2,
   "id": "4979ed9c",
   "metadata": {},
   "outputs": [],
   "source": [
    "from tmdbv3api import TMDb\n",
    "from tmdbv3api import Movie\n",
    "from tmdbv3api.exceptions import TMDbException\n",
    "import random\n",
    "import pandas as pd\n",
    "import csv\n",
    "tmdb=TMDb()\n",
    "tmdb.api_key='9cf68f4c97c8f0cc6bb9646da389a808'"
   ]
  },
  {
   "cell_type": "markdown",
   "id": "fc7755b7",
   "metadata": {},
   "source": [
    ">The next cell will merge the two input files if their tmdb id's match"
   ]
  },
  {
   "cell_type": "code",
   "execution_count": 4,
   "id": "0344f3c8",
   "metadata": {},
   "outputs": [
    {
     "name": "stdout",
     "output_type": "stream",
     "text": [
      "Operation Complete\n"
     ]
    }
   ],
   "source": [
    "from tmdbv3api import TMDb, Movie\n",
    "import pandas as pd\n",
    "import csv\n",
    "\n",
    "# Initialize\n",
    "tmdb = TMDb()\n",
    "tmdb.language = 'en'\n",
    "movie = Movie()\n",
    "num_movies = 0\n",
    "i = 1\n",
    "csv_file_path1 = 'movie_details_english_nonadult_corrected.csv' \n",
    "csv_file_path2 = 'movie_credits_english_nonadult_full.csv'  \n",
    "\n",
    "# Create DataFrames from both CSV files\n",
    "df1 = pd.read_csv(csv_file_path1)\n",
    "df2 = pd.read_csv(csv_file_path2)\n",
    "\n",
    "# Merge the two DataFrames by matching TMDB ID\n",
    "merged_df = pd.merge(df1, df2, left_on='ID', right_on='movie_id', how='inner')\n",
    "merged_df.dropna(subset=['IMDB ID'], inplace=True)\n",
    "\n",
    "# Save the merged data to a new csv\n",
    "file_name = 'merged_movie_details_credits.csv'\n",
    "merged_df.to_csv(file_name, index=False)\n",
    "print(f\"Operation Complete\")\n"
   ]
  },
  {
   "cell_type": "code",
   "execution_count": null,
   "id": "c7200099",
   "metadata": {},
   "outputs": [],
   "source": []
  }
 ],
 "metadata": {
  "kernelspec": {
   "display_name": "Python 3 (ipykernel)",
   "language": "python",
   "name": "python3"
  },
  "language_info": {
   "codemirror_mode": {
    "name": "ipython",
    "version": 3
   },
   "file_extension": ".py",
   "mimetype": "text/x-python",
   "name": "python",
   "nbconvert_exporter": "python",
   "pygments_lexer": "ipython3",
   "version": "3.10.9"
  }
 },
 "nbformat": 4,
 "nbformat_minor": 5
}
