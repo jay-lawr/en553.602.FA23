{
 "cells": [
  {
   "cell_type": "code",
   "execution_count": 6,
   "id": "65d43346-1ae0-40f5-b4f8-0e631f193586",
   "metadata": {},
   "outputs": [],
   "source": [
    "import pandas as pd"
   ]
  },
  {
   "cell_type": "code",
   "execution_count": 10,
   "id": "e12dccf5-0922-4378-8b1c-19e514acf5d2",
   "metadata": {},
   "outputs": [],
   "source": [
    "main = pd.read_csv(\"../../../3. Data Preparation/3.3 Construct Data/merged_data_mod_star_score.csv\")\n",
    "missing = pd.read_csv(\"MISSING_merged_data_mod_star_score.csv\")\n",
    "\n",
    "pd.concat([main, missing]).to_csv(\"merged_data_star_score_missing_added.csv\")"
   ]
  },
  {
   "cell_type": "code",
   "execution_count": null,
   "id": "0bd2acb0-a634-4486-92ac-116fd15f8b0d",
   "metadata": {},
   "outputs": [],
   "source": []
  },
  {
   "cell_type": "code",
   "execution_count": null,
   "id": "9ecf7510-75cf-47ab-91b5-27771711a37f",
   "metadata": {},
   "outputs": [],
   "source": []
  }
 ],
 "metadata": {
  "kernelspec": {
   "display_name": "Python 3 (ipykernel)",
   "language": "python",
   "name": "python3"
  },
  "language_info": {
   "codemirror_mode": {
    "name": "ipython",
    "version": 3
   },
   "file_extension": ".py",
   "mimetype": "text/x-python",
   "name": "python",
   "nbconvert_exporter": "python",
   "pygments_lexer": "ipython3",
   "version": "3.10.9"
  }
 },
 "nbformat": 4,
 "nbformat_minor": 5
}
