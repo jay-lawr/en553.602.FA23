{
 "cells": [
  {
   "cell_type": "code",
   "execution_count": 14,
   "id": "57fa573d-8d0c-4901-b160-ad668aaea993",
   "metadata": {},
   "outputs": [
    {
     "name": "stdout",
     "output_type": "stream",
     "text": [
      "                                         Error Messages\n",
      "0     Error processing movie ID 931034:('Connection ...\n",
      "1     Error processing movie ID 963802:HTTPSConnecti...\n",
      "2     Error processing movie ID 931036:HTTPSConnecti...\n",
      "3     Error processing movie ID 963804:HTTPSConnecti...\n",
      "4     Error processing movie ID 996572:HTTPSConnecti...\n",
      "...                                                 ...\n",
      "1332  Error processing movie ID 966454:HTTPSConnecti...\n",
      "1333  Error processing movie ID 1097539:HTTPSConnect...\n",
      "1334  Error processing movie ID 999237:HTTPSConnecti...\n",
      "1335  Error processing movie ID 966470:HTTPSConnecti...\n",
      "1336  Error processing movie ID 999239:HTTPSConnecti...\n",
      "\n",
      "[1337 rows x 1 columns]\n"
     ]
    }
   ],
   "source": [
    "import re\n",
    "\n",
    "df = pd.read_excel('Error Messages.xlsx')\n",
    "print(df)\n",
    "\n",
    "df['TMDB ID'] = df['Error Messages'].str.extract(r'Error processing movie ID (\\d+)')\n",
    "file_name = 'Missing IDs.csv'\n",
    "df['TMDB ID'].to_csv(file_name,index=False)"
   ]
  },
  {
   "cell_type": "code",
   "execution_count": null,
   "id": "b86354b1-3068-4681-be5e-698c9e5019df",
   "metadata": {},
   "outputs": [],
   "source": []
  }
 ],
 "metadata": {
  "kernelspec": {
   "display_name": "Python 3 (ipykernel)",
   "language": "python",
   "name": "python3"
  },
  "language_info": {
   "codemirror_mode": {
    "name": "ipython",
    "version": 3
   },
   "file_extension": ".py",
   "mimetype": "text/x-python",
   "name": "python",
   "nbconvert_exporter": "python",
   "pygments_lexer": "ipython3",
   "version": "3.10.9"
  }
 },
 "nbformat": 4,
 "nbformat_minor": 5
}
