{
 "cells": [
  {
   "cell_type": "code",
   "execution_count": 2,
   "id": "491fd51f-07dd-4fc2-9bd0-a9ecef9bc7e0",
   "metadata": {},
   "outputs": [],
   "source": [
    "import pandas as pd\n",
    "from datetime import datetime\n",
    "\n",
    "df = pd.read_csv(\"MISSING_merged_data_with_revenue.csv\")\n",
    "release_dates = df[\"Release Date\"]\n",
    "\n",
    "release_years = []\n",
    "for year in release_dates:\n",
    "    date = datetime.strptime(year, '%m/%d/%y')\n",
    "    year = date.year\n",
    "    release_years.append(year)\n",
    "\n",
    "df['Release Year'] = release_years\n",
    "df.to_csv(\"MISSING_merged_data_with_revenues_with_release_years.csv\")\n",
    "\n",
    "    "
   ]
  },
  {
   "cell_type": "code",
   "execution_count": null,
   "id": "ae5c5fa2-d7a4-47cf-b829-572ccb2510ac",
   "metadata": {},
   "outputs": [],
   "source": []
  }
 ],
 "metadata": {
  "kernelspec": {
   "display_name": "Python 3 (ipykernel)",
   "language": "python",
   "name": "python3"
  },
  "language_info": {
   "codemirror_mode": {
    "name": "ipython",
    "version": 3
   },
   "file_extension": ".py",
   "mimetype": "text/x-python",
   "name": "python",
   "nbconvert_exporter": "python",
   "pygments_lexer": "ipython3",
   "version": "3.10.9"
  }
 },
 "nbformat": 4,
 "nbformat_minor": 5
}
