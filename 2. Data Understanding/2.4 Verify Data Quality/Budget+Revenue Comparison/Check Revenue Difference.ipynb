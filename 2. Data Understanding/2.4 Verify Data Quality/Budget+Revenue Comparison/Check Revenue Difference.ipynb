{
 "cells": [
  {
   "cell_type": "code",
   "execution_count": 2,
   "id": "c9dd28de-12b0-4c50-b5dd-d3590682abaa",
   "metadata": {},
   "outputs": [],
   "source": [
    "import pandas as pd"
   ]
  },
  {
   "cell_type": "code",
   "execution_count": 25,
   "id": "883b8831-2f78-489e-9929-d4e8c35a1fc0",
   "metadata": {},
   "outputs": [
    {
     "name": "stdout",
     "output_type": "stream",
     "text": [
      "<bound method NDFrame.head of           Budget_y     Budget_x  Difference\n",
      "8       56000000.0   35000000.0 -21000000.0\n",
      "100     22000000.0   22000000.0         0.0\n",
      "119     10000000.0   10000000.0         0.0\n",
      "183     15000000.0   15000000.0         0.0\n",
      "213     25000000.0   30000000.0   5000000.0\n",
      "...            ...          ...         ...\n",
      "30264   10000000.0   10000000.0         0.0\n",
      "31016  185000000.0  185000000.0         0.0\n",
      "31754   20000000.0   20000000.0         0.0\n",
      "32092   17000000.0   16000000.0  -1000000.0\n",
      "34763  291000000.0  291000000.0         0.0\n",
      "\n",
      "[779 rows x 3 columns]>\n",
      "-68998.73940949937\n",
      "<bound method NDFrame.head of           Revenue_y  domestic_revenue   Difference\n",
      "8      3.473720e+07        19701164.0  -15036035.0\n",
      "51     1.553826e+06         1561962.0       8136.0\n",
      "82     2.570190e+05          257019.0          0.0\n",
      "100    1.540000e+07        11330849.0   -4069151.0\n",
      "119    6.850000e+07        28873374.0  -39626626.0\n",
      "...             ...               ...          ...\n",
      "35151  4.785157e+06         1658790.0   -3126367.0\n",
      "35178  2.030000e+08        93657117.0 -109342883.0\n",
      "35193  1.001978e+09       376851080.0 -625127000.0\n",
      "35228  1.465513e+06         1465513.0          0.0\n",
      "35238  3.055600e+04           30556.0          0.0\n",
      "\n",
      "[2524 rows x 3 columns]>\n",
      "-54296117.0003962\n"
     ]
    },
    {
     "name": "stderr",
     "output_type": "stream",
     "text": [
      "/var/folders/vb/2qlhpmcx7d59wbfxp2qr42b40000gn/T/ipykernel_99070/1535835055.py:5: SettingWithCopyWarning: \n",
      "A value is trying to be set on a copy of a slice from a DataFrame.\n",
      "Try using .loc[row_indexer,col_indexer] = value instead\n",
      "\n",
      "See the caveats in the documentation: https://pandas.pydata.org/pandas-docs/stable/user_guide/indexing.html#returning-a-view-versus-a-copy\n",
      "  both_nonzero_budgets[\"Difference\"] = both_nonzero_budgets[\"Budget_x\"] - both_nonzero_budgets[\"Budget_y\"]\n",
      "/var/folders/vb/2qlhpmcx7d59wbfxp2qr42b40000gn/T/ipykernel_99070/1535835055.py:12: SettingWithCopyWarning: \n",
      "A value is trying to be set on a copy of a slice from a DataFrame.\n",
      "Try using .loc[row_indexer,col_indexer] = value instead\n",
      "\n",
      "See the caveats in the documentation: https://pandas.pydata.org/pandas-docs/stable/user_guide/indexing.html#returning-a-view-versus-a-copy\n",
      "  both_nonzero_revenues[\"Difference\"] = both_nonzero_revenues[\"domestic_revenue\"] - both_nonzero_revenues[\"Revenue_y\"]\n"
     ]
    }
   ],
   "source": [
    "df = pd.read_csv(\"../../../3. Data Preparation/3.3 Construct Data/merged_data_star_score_missing_added.csv\")\n",
    "df[\"Budget_x\"].fillna(0,inplace=True)\n",
    "budgets = df[[\"Budget_y\",\"Budget_x\"]]\n",
    "both_nonzero_budgets = budgets[(budgets[\"Budget_y\"] > 0) & (budgets[\"Budget_x\"] > 0)]\n",
    "both_nonzero_budgets[\"Difference\"] = both_nonzero_budgets[\"Budget_x\"] - both_nonzero_budgets[\"Budget_y\"]\n",
    "print(both_nonzero_budgets.head)\n",
    "print(pd.Series.mean(both_nonzero_budgets[\"Difference\"]))\n",
    "\n",
    "df[\"domestic_revenue\"].fillna(0,inplace=True)\n",
    "revenues = df[[\"Revenue_y\", \"domestic_revenue\"]]\n",
    "both_nonzero_revenues = revenues[(revenues[\"Revenue_y\"] > 0) & (revenues[\"domestic_revenue\"] > 0)]\n",
    "both_nonzero_revenues[\"Difference\"] = both_nonzero_revenues[\"domestic_revenue\"] - both_nonzero_revenues[\"Revenue_y\"]\n",
    "print(both_nonzero_revenues.head)\n",
    "print(pd.Series.mean(both_nonzero_revenues[\"Difference\"]))\n",
    "\n",
    "\n",
    "\n"
   ]
  },
  {
   "cell_type": "code",
   "execution_count": null,
   "id": "05031f67-fe72-4ad7-a854-62c78a049898",
   "metadata": {},
   "outputs": [],
   "source": [
    "\n",
    "release_years = []\n",
    "for year in release_dates:\n",
    "    date = datetime.strptime(year, '%m/%d/%y')\n",
    "    year = date.year\n",
    "    release_years.append(year)\n",
    "\n",
    "df['Release Year'] = release_years\n",
    "df.to_csv(\"merged_data_with_revenues_with_release_years.csv\")\n",
    "\n",
    "    "
   ]
  }
 ],
 "metadata": {
  "kernelspec": {
   "display_name": "Python 3 (ipykernel)",
   "language": "python",
   "name": "python3"
  },
  "language_info": {
   "codemirror_mode": {
    "name": "ipython",
    "version": 3
   },
   "file_extension": ".py",
   "mimetype": "text/x-python",
   "name": "python",
   "nbconvert_exporter": "python",
   "pygments_lexer": "ipython3",
   "version": "3.10.9"
  }
 },
 "nbformat": 4,
 "nbformat_minor": 5
}
