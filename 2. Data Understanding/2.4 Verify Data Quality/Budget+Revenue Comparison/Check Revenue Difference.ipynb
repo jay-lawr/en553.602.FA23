{
 "cells": [
  {
   "cell_type": "code",
   "execution_count": 4,
   "id": "c9dd28de-12b0-4c50-b5dd-d3590682abaa",
   "metadata": {},
   "outputs": [],
   "source": [
    "import pandas as pd"
   ]
  },
  {
   "cell_type": "code",
   "execution_count": 12,
   "id": "883b8831-2f78-489e-9929-d4e8c35a1fc0",
   "metadata": {},
   "outputs": [
    {
     "name": "stdout",
     "output_type": "stream",
     "text": [
      "1.8464964981158887\n"
     ]
    },
    {
     "name": "stderr",
     "output_type": "stream",
     "text": [
      "/var/folders/vb/2qlhpmcx7d59wbfxp2qr42b40000gn/T/ipykernel_71569/2189763632.py:6: SettingWithCopyWarning: \n",
      "A value is trying to be set on a copy of a slice from a DataFrame.\n",
      "Try using .loc[row_indexer,col_indexer] = value instead\n",
      "\n",
      "See the caveats in the documentation: https://pandas.pydata.org/pandas-docs/stable/user_guide/indexing.html#returning-a-view-versus-a-copy\n",
      "  both_nonzero_budgets[\"Difference\"] = both_nonzero_budgets[\"TMDB Budget\"] - both_nonzero_budgets[\"IMDB Budget\"]\n",
      "/var/folders/vb/2qlhpmcx7d59wbfxp2qr42b40000gn/T/ipykernel_71569/2189763632.py:7: SettingWithCopyWarning: \n",
      "A value is trying to be set on a copy of a slice from a DataFrame.\n",
      "Try using .loc[row_indexer,col_indexer] = value instead\n",
      "\n",
      "See the caveats in the documentation: https://pandas.pydata.org/pandas-docs/stable/user_guide/indexing.html#returning-a-view-versus-a-copy\n",
      "  both_nonzero_budgets[\"Squared Difference\"] = both_nonzero_budgets[\"Difference\"]\n"
     ]
    }
   ],
   "source": [
    "df = pd.read_csv('../../../3. Data Preparation/3.3 Construct Data/merged_data_mod_scores.csv', encoding='unicode_escape')\n",
    "df[\"TMDB Budget\"].fillna(0,inplace=True)\n",
    "df[\"IMDB Budget\"].fillna(0,inplace=True)\n",
    "budgets = df[[\"TMDB Budget\",\"IMDB Budget\"]]\n",
    "both_nonzero_budgets = budgets[(budgets[\"TMDB Budget\"] > 0) & (budgets[\"IMDB Budget\"] > 0)]\n",
    "both_nonzero_budgets[\"Difference\"] = both_nonzero_budgets[\"TMDB Budget\"] - both_nonzero_budgets[\"IMDB Budget\"]\n",
    "both_nonzero_budgets[\"Squared Difference\"] = both_nonzero_budgets[\"Difference\"]\n",
    "mse = 1/9750 * sum(both_nonzero_budgets[\"Squared Difference\"])**.5\n",
    "\n",
    "\n",
    "print(mse)\n",
    "\n",
    "\n",
    "\n"
   ]
  },
  {
   "cell_type": "code",
   "execution_count": null,
   "id": "05031f67-fe72-4ad7-a854-62c78a049898",
   "metadata": {},
   "outputs": [],
   "source": [
    "\n",
    "release_years = []\n",
    "for year in release_dates:\n",
    "    date = datetime.strptime(year, '%m/%d/%y')\n",
    "    year = date.year\n",
    "    release_years.append(year)\n",
    "\n",
    "df['Release Year'] = release_years\n",
    "df.to_csv(\"merged_data_with_revenues_with_release_years.csv\")\n",
    "\n",
    "    "
   ]
  }
 ],
 "metadata": {
  "kernelspec": {
   "display_name": "Python 3 (ipykernel)",
   "language": "python",
   "name": "python3"
  },
  "language_info": {
   "codemirror_mode": {
    "name": "ipython",
    "version": 3
   },
   "file_extension": ".py",
   "mimetype": "text/x-python",
   "name": "python",
   "nbconvert_exporter": "python",
   "pygments_lexer": "ipython3",
   "version": "3.10.9"
  }
 },
 "nbformat": 4,
 "nbformat_minor": 5
}
