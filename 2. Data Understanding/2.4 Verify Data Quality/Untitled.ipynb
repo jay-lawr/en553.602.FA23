{
 "cells": [
  {
   "cell_type": "markdown",
   "id": "31559381-d868-4b52-9fd5-8d1051947f94",
   "metadata": {},
   "source": [
    "Test missing IDs"
   ]
  },
  {
   "cell_type": "code",
   "execution_count": 15,
   "id": "e23c101a-67db-4eea-99f9-b212691db525",
   "metadata": {},
   "outputs": [
    {
     "name": "stdout",
     "output_type": "stream",
     "text": [
      "False\n",
      "tt1453405\n",
      "en\n",
      "{62211}\n"
     ]
    }
   ],
   "source": [
    "from tmdbv3api import TMDb\n",
    "from tmdbv3api import Movie\n",
    "from tmdbv3api.exceptions import TMDbException\n",
    "import random\n",
    "import pandas as pd\n",
    "import matplotlib.pyplot as plt\n",
    "tmdb=TMDb()\n",
    "tmdb.api_key='9cf68f4c97c8f0cc6bb9646da389a808'\n",
    "\n",
    "\n",
    "movie=Movie()\n",
    "tmdb.language='en'\n",
    "movie=Movie()\n",
    "movie_data=[]\n",
    "num_mov=0\n",
    "target=1\n",
    "#Make a set of IDs to check against\n",
    "written_movie_ids=set()\n",
    "while num_mov<target:\n",
    "    try:\n",
    "        test_id = 62211\n",
    "        movie_info=movie.details(test_id)\n",
    "        adult = movie_info.adult\n",
    "        print(adult)\n",
    "        imdb_id = movie_info.imdb_id\n",
    "        print(imdb_id)\n",
    "        print(movie_info.original_language)\n",
    "        num_mov+=1\n",
    "        if movie_info:\n",
    "            release_dates=movie_info.get('release_dates',{})\n",
    "            results=release_dates.get('results',[])\n",
    "            for result in results:\n",
    "                for release_date in result.get('release_dates',[]):\n",
    "                    if release_date.get('type')==3:\n",
    "                        #Write the movie ID to the list\n",
    "                        if test_id not in written_movie_ids:\n",
    "                            movie_data.append(test_id)\n",
    "                            written_movie_ids.add(test_id)  #Add the movie ID to the set\n",
    "    except TMDbException as e:\n",
    "        print(f\"Skipped {test_id}; {e}\")\n",
    "print(written_movie_ids)\n",
    "df=pd.DataFrame(movie_data)"
   ]
  },
  {
   "cell_type": "code",
   "execution_count": null,
   "id": "d311c59b-d4e3-4dbd-9cb6-35eff9776cef",
   "metadata": {},
   "outputs": [],
   "source": [
    "from tmdbv3api import TMDb, Movie\n",
    "import pandas as pd\n",
    "tmdb=TMDb()\n",
    "tmdb.language='en'\n",
    "movie=Movie()\n",
    "num_movies=0\n",
    "i=1\n",
    "csv_file_path='ids_list_2000_2023.csv'\n",
    "#Create a list to store movie IDs\n",
    "movie_data=[]\n",
    "#Make a set of IDs to check against\n",
    "written_movie_ids=set()\n",
    "with open(csv_file_path,'r') as csv_file:\n",
    "    csv_reader=csv.reader(csv_file)\n",
    "    next(csv_reader)  #Skip the header row\n",
    "    #Loop until the end of the CSV\n",
    "    while True:\n",
    "        try:\n",
    "            row=next(csv_reader)\n",
    "            movie_id=int(row[1])\n",
    "            #Query movie details by ID\n",
    "            movie_info=movie.details(movie_id)\n",
    "            if movie_info:\n",
    "                release_dates=movie_info.get('release_dates',{})\n",
    "                results=release_dates.get('results',[])\n",
    "\n",
    "                for result in results:\n",
    "                    for release_date in result.get('release_dates',[]):\n",
    "                        if release_date.get('type')==3:\n",
    "                            #Write the movie ID to the list\n",
    "                            if movie_id not in written_movie_ids:\n",
    "                                movie_data.append(movie_id)\n",
    "                                written_movie_ids.add(movie_id)  #Add the movie ID to the set\n",
    "                                num_movies+=1\n",
    "                                print(num_movies)\n",
    "        except StopIteration:\n",
    "            break\n",
    "        except Exception as e:\n",
    "            #Handle any exceptions\n",
    "            print(f\"Error processing movie ID {movie_id}:{e}\")\n",
    "#Create a DataFrame from the movie_data list\n",
    "df=pd.DataFrame({'ID': movie_data})\n",
    "#Add an index column\n",
    "df.insert(0,'Index',range(1, len(df) + 1))\n",
    "#Save \n",
    "file_name='movie_release_date_ids.csv'\n",
    "df.to_csv(file_name,index=False)\n",
    "print(f\"Operation Complete\")"
   ]
  }
 ],
 "metadata": {
  "kernelspec": {
   "display_name": "Python 3 (ipykernel)",
   "language": "python",
   "name": "python3"
  },
  "language_info": {
   "codemirror_mode": {
    "name": "ipython",
    "version": 3
   },
   "file_extension": ".py",
   "mimetype": "text/x-python",
   "name": "python",
   "nbconvert_exporter": "python",
   "pygments_lexer": "ipython3",
   "version": "3.10.9"
  }
 },
 "nbformat": 4,
 "nbformat_minor": 5
}
