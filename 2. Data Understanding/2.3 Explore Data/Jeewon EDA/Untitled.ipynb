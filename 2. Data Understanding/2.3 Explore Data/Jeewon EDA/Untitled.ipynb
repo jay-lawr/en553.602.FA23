{
 "cells": [
  {
   "cell_type": "code",
   "execution_count": 9,
   "id": "584d69d3-ea64-490d-8bc0-3eebf0f649f5",
   "metadata": {},
   "outputs": [
    {
     "name": "stdout",
     "output_type": "stream",
     "text": [
      "Plots saved in: eda_plots/\n"
     ]
    }
   ],
   "source": [
    "import pandas as pd\n",
    "import matplotlib.pyplot as plt\n",
    "import seaborn as sns\n",
    "\n",
    "# Load your dataset\n",
    "data = pd.read_csv('../../../3. Data Preparation/3.3 Construct Data/merged_data_mod_scores.csv')\n",
    "\n",
    "# Set up a directory to save the plots\n",
    "output_directory = 'eda_plots/'\n",
    "\n",
    "# Create pair plots for numeric columns\n",
    "sns.pairplot(data, diag_kind='kde')\n",
    "plt.suptitle('Pair Plots of Numeric Variables')\n",
    "plt.savefig(output_directory + 'pair_plots.png')\n",
    "plt.close()\n",
    "\n",
    "# Create a heatmap to visualize correlation between numeric variables\n",
    "correlation_matrix = data.corr()\n",
    "plt.figure(figsize=(12, 10))\n",
    "sns.heatmap(correlation_matrix, annot=True, cmap='coolwarm')\n",
    "plt.title('Correlation Heatmap')\n",
    "plt.savefig(output_directory + 'correlation_heatmap.png')\n",
    "plt.close()\n",
    "\n",
    "# Create a histogram of 'IMDB Domestic Revenue'\n",
    "plt.figure(figsize=(8, 6))\n",
    "sns.histplot(data['IMDB Domestic Revenue'], bins=20, kde=True)\n",
    "plt.title('Distribution of IMDB Domestic Revenue')\n",
    "plt.xlabel('IMDB Domestic Revenue')\n",
    "plt.savefig(output_directory + 'revenue_distribution.png')\n",
    "plt.close()\n",
    "\n",
    "# Create boxplots for categorical variables\n",
    "categorical_columns = ['Genres', 'MPAA', 'Domestic Distributor', 'Genre Name']\n",
    "for column in categorical_columns:\n",
    "    plt.figure(figsize=(10, 6))\n",
    "    sns.boxplot(x=column, y='IMDB Domestic Revenue', data=data)\n",
    "    plt.title(f'Boxplot of IMDB Domestic Revenue by {column}')\n",
    "    plt.xticks(rotation=45)\n",
    "    plt.savefig(output_directory + f'{column}_boxplot.png')\n",
    "    plt.close()\n",
    "\n",
    "# Create a countplot for Release Year\n",
    "plt.figure(figsize=(10, 6))\n",
    "sns.countplot(x='Release Year', data=data, order=sorted(data['Release Year'].unique()))\n",
    "plt.title('Count of Movies by Release Year')\n",
    "plt.xticks(rotation=45)\n",
    "plt.savefig(output_directory + 'release_year_countplot.png')\n",
    "plt.close()\n",
    "\n",
    "# You can add more plots based on your specific analysis needs\n",
    "\n",
    "# Save all the plots in the output directory\n",
    "print(\"Plots saved in:\", output_directory)\n"
   ]
  },
  {
   "cell_type": "code",
   "execution_count": null,
   "id": "5de5e714-8fc1-4994-91ec-60c6e2fef89e",
   "metadata": {},
   "outputs": [],
   "source": []
  }
 ],
 "metadata": {
  "kernelspec": {
   "display_name": "Python 3 (ipykernel)",
   "language": "python",
   "name": "python3"
  },
  "language_info": {
   "codemirror_mode": {
    "name": "ipython",
    "version": 3
   },
   "file_extension": ".py",
   "mimetype": "text/x-python",
   "name": "python",
   "nbconvert_exporter": "python",
   "pygments_lexer": "ipython3",
   "version": "3.9.7"
  }
 },
 "nbformat": 4,
 "nbformat_minor": 5
}
