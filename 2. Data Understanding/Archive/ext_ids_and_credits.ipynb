{
  "cells": [
    {
      "cell_type": "code",
      "execution_count": 2,
      "id": "e88163e4",
      "metadata": {
        "colab": {
          "base_uri": "https://localhost:8080/"
        },
        "id": "e88163e4",
        "outputId": "b142a787-620d-40ab-e20b-03ab597be1bb"
      },
      "outputs": [
        {
          "output_type": "stream",
          "name": "stdout",
          "text": [
            "Collecting tmdbv3api\n",
            "  Downloading tmdbv3api-1.9.0-py3-none-any.whl (25 kB)\n",
            "Requirement already satisfied: requests in /usr/local/lib/python3.10/dist-packages (from tmdbv3api) (2.31.0)\n",
            "Requirement already satisfied: charset-normalizer<4,>=2 in /usr/local/lib/python3.10/dist-packages (from requests->tmdbv3api) (3.2.0)\n",
            "Requirement already satisfied: idna<4,>=2.5 in /usr/local/lib/python3.10/dist-packages (from requests->tmdbv3api) (3.4)\n",
            "Requirement already satisfied: urllib3<3,>=1.21.1 in /usr/local/lib/python3.10/dist-packages (from requests->tmdbv3api) (2.0.4)\n",
            "Requirement already satisfied: certifi>=2017.4.17 in /usr/local/lib/python3.10/dist-packages (from requests->tmdbv3api) (2023.7.22)\n",
            "Installing collected packages: tmdbv3api\n",
            "Successfully installed tmdbv3api-1.9.0\n"
          ]
        }
      ],
      "source": [
        "!pip install tmdbv3api"
      ]
    },
    {
      "cell_type": "code",
      "execution_count": 3,
      "id": "4979ed9c",
      "metadata": {
        "id": "4979ed9c"
      },
      "outputs": [],
      "source": [
        "from tmdbv3api import TMDb\n",
        "from tmdbv3api import Movie\n",
        "from tmdbv3api.exceptions import TMDbException\n",
        "import random\n",
        "import pandas as pd\n",
        "import csv\n",
        "tmdb=TMDb()\n",
        "tmdb.api_key='9cf68f4c97c8f0cc6bb9646da389a808'"
      ]
    },
    {
      "cell_type": "code",
      "execution_count": null,
      "id": "38d28106",
      "metadata": {
        "id": "38d28106"
      },
      "outputs": [],
      "source": [
        "from tmdbv3api import TMDb, Movie\n",
        "import pandas as pd\n",
        "tmdb=TMDb()\n",
        "tmdb.language='en'\n",
        "movie=Movie()\n",
        "num_movies=0\n",
        "i=1\n",
        "csv_file_path='movie_release_date_revenue_nonzero_ids.csv'\n",
        "#Create a list to store movie IDs\n",
        "movie_data=[]\n",
        "imdb_ids = []\n",
        "wikidata_ids = []\n",
        "#facebook_ids = []\n",
        "#instagram_ids = []\n",
        "#twitter_ids = []\n",
        "#Make a set of IDs to check against\n",
        "written_movie_ids=set()\n",
        "with open(csv_file_path,'r') as csv_file:\n",
        "    csv_reader=csv.reader(csv_file)\n",
        "    next(csv_reader)  #Skip the header row\n",
        "    #Loop until the end of the CSV\n",
        "    while True:\n",
        "        try:\n",
        "            row=next(csv_reader)\n",
        "            movie_id=int(row[1])\n",
        "            #Query movie details by ID\n",
        "            ext_ids=movie.external_ids(movie_id)\n",
        "            if ext_ids:\n",
        "                #print(ext_ids)\n",
        "                movie_data.append(movie_id)\n",
        "                imdb_ids.append(ext_ids.get('imdb_id'))\n",
        "                wikidata_ids.append(ext_ids.get('wikidata_id'))\n",
        "                #facebook_ids.append(ext_ids.get('facebook_id'))\n",
        "                #instagram_ids.append(ext_ids.get('instagram_id'))\n",
        "                #twitter_ids.append(ext_ids.get('twitter_id'))\n",
        "                num_movies += 1\n",
        "                if num_movies%10 == 0:\n",
        "                    print(num_movies)\n",
        "\n",
        "        except StopIteration:\n",
        "            break\n",
        "        except Exception as e:\n",
        "            #Handle any exceptions\n",
        "            print(f\"Error processing movie ID {movie_id}:{e}\")\n",
        "ext_ids_df = pd.DataFrame({'ID':movie_data, 'imdb_id': imdb_ids, 'wikidata_id': wikidata_ids})\n",
        "#Create a DataFrame from the movie_data list\n",
        "#df=pd.DataFrame({'ID': movie_data})\n",
        "#Add an index column\n",
        "#ext_ids_df.insert(0,'Index',range(1, len(ext_ids_df) + 1))\n",
        "#Save\n",
        "file_name='movie_external_ids.csv'\n",
        "ext_ids_df.to_csv(file_name,index=False)\n",
        "print(f\"Operation Complete\")"
      ]
    },
    {
      "cell_type": "markdown",
      "source": [
        "Pull credits:\n",
        "1. go through all movies and get credits\n",
        "2. get ids for each actor in the movie\n",
        "3. if actor is not in actors list, add to actors list\n"
      ],
      "metadata": {
        "id": "R7TL3xUH5uUP"
      },
      "id": "R7TL3xUH5uUP"
    },
    {
      "cell_type": "code",
      "source": [
        "num_movies=0\n",
        "\n",
        "csv_file_path='movie_release_date_revenue_nonzero_ids.csv'\n",
        "people_info = pd.DataFrame(columns=['id', 'name', 'known_for_dept', 'popularity'])\n",
        "movie_credits_df = pd.DataFrame(columns=['movie_id', 'cast_ids', 'order', 'director_ids'])\n",
        "#movie_directors_df = pd.DataFrame(columns=['movie_id', 'directors_ids'])\n",
        "\n",
        "with open(csv_file_path,'r') as csv_file:\n",
        "    csv_reader=csv.reader(csv_file)\n",
        "    next(csv_reader)  #Skip the header row\n",
        "    #Loop until the end of the CSV\n",
        "    while True:\n",
        "        try:\n",
        "            row=next(csv_reader)\n",
        "            movie_id=int(row[1])\n",
        "            credits=movie.credits(movie_id)\n",
        "            if credits:\n",
        "                cast = credits.get('cast')\n",
        "                cast_ids = []\n",
        "                order = []\n",
        "                for person in cast:\n",
        "                    person_id = person.get('id')\n",
        "                    cast_ids.append(person_id)\n",
        "                    order.append(person.get('order'))\n",
        "                    # if person not in people dataframe, add them\n",
        "                    if person_id not in people_info.loc[:,'id'].values:\n",
        "                        person_name = person.get('name')\n",
        "                        person_known = person.get('known_for_department')\n",
        "                        person_pop = person.get('popularity')\n",
        "                        people_info = pd.concat([people_info, pd.DataFrame({'id': [person_id], 'name': [person_name], 'known_for_dept': [person_known], 'popularity': [person_pop]})], ignore_index=True)\n",
        "                crew = credits.get('crew')\n",
        "                director_ids = []\n",
        "                for person in crew:\n",
        "                    if person.get('job') == 'Director':\n",
        "                        person_id = person.get('id')\n",
        "                        director_ids.append(person_id)\n",
        "                        if person_id not in people_info.loc[:,'id'].values:\n",
        "                            person_name = person.get('name')\n",
        "                            person_known = person.get('known_for_department')\n",
        "                            person_pop = person.get('popularity')\n",
        "                            people_info = pd.concat([people_info, pd.DataFrame({'id': [person_id], 'name': [person_name], 'known_for_dept': [person_known], 'popularity': [person_pop]})], ignore_index=True)\n",
        "                movie_credits_df = pd.concat([movie_credits_df, pd.DataFrame({'movie_id': [movie_id], 'cast_ids': [cast_ids], 'order': [order], 'director_ids': [director_ids]})], ignore_index=True)\n",
        "            num_movies += 1\n",
        "            if num_movies%10==0:\n",
        "                print(num_movies)\n",
        "        except StopIteration:\n",
        "            break\n",
        "        except Exception as e:\n",
        "            #Handle any exceptions\n",
        "            print(f\"Error processing movie ID {movie_id}:{e}\")\n",
        "\n",
        "file_name='movie_credits.csv'\n",
        "movie_credits_df.to_csv(file_name,index=False)\n",
        "\n",
        "print(f\"Operation Complete\")"
      ],
      "metadata": {
        "id": "2qMV64hU5Wym"
      },
      "id": "2qMV64hU5Wym",
      "execution_count": null,
      "outputs": []
    },
    {
      "cell_type": "code",
      "source": [
        "people_info.to_csv('people_info.csv', index=False)"
      ],
      "metadata": {
        "id": "KzK8JfVrF3PU"
      },
      "id": "KzK8JfVrF3PU",
      "execution_count": 54,
      "outputs": []
    }
  ],
  "metadata": {
    "kernelspec": {
      "display_name": "Python 3 (ipykernel)",
      "language": "python",
      "name": "python3"
    },
    "language_info": {
      "codemirror_mode": {
        "name": "ipython",
        "version": 3
      },
      "file_extension": ".py",
      "mimetype": "text/x-python",
      "name": "python",
      "nbconvert_exporter": "python",
      "pygments_lexer": "ipython3",
      "version": "3.10.9"
    },
    "colab": {
      "provenance": []
    }
  },
  "nbformat": 4,
  "nbformat_minor": 5
}