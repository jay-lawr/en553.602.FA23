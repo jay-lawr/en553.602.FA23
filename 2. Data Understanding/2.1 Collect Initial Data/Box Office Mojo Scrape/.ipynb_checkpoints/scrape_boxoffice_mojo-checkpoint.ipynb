{
 "cells": [
  {
   "cell_type": "markdown",
   "metadata": {},
   "source": [
    "This is a webscraper for data from boxofficemojo\n",
    "get a dictionary of all the data we can get from the title page with \"get_data_by_id(<imdb id>)"
   ]
  },
  {
   "cell_type": "code",
   "execution_count": 47,
   "metadata": {},
   "outputs": [
    {
     "name": "stdout",
     "output_type": "stream",
     "text": [
      "Requirement already satisfied: beautifulsoup4 in c:\\users\\sam oberly\\appdata\\local\\programs\\python\\python310\\lib\\site-packages (4.12.2)\n",
      "Requirement already satisfied: soupsieve>1.2 in c:\\users\\sam oberly\\appdata\\roaming\\python\\python310\\site-packages (from beautifulsoup4) (2.3.1)\n"
     ]
    },
    {
     "name": "stderr",
     "output_type": "stream",
     "text": [
      "WARNING: Ignoring invalid distribution -nappy (c:\\users\\sam oberly\\appdata\\roaming\\python\\python310\\site-packages)\n",
      "WARNING: Ignoring invalid distribution -nappy (c:\\users\\sam oberly\\appdata\\roaming\\python\\python310\\site-packages)\n",
      "WARNING: Ignoring invalid distribution -nappy (c:\\users\\sam oberly\\appdata\\roaming\\python\\python310\\site-packages)\n",
      "WARNING: Ignoring invalid distribution -nappy (c:\\users\\sam oberly\\appdata\\roaming\\python\\python310\\site-packages)\n",
      "WARNING: Ignoring invalid distribution -nappy (c:\\users\\sam oberly\\appdata\\roaming\\python\\python310\\site-packages)\n",
      "WARNING: Ignoring invalid distribution -nappy (c:\\users\\sam oberly\\appdata\\roaming\\python\\python310\\site-packages)\n",
      "WARNING: There was an error checking the latest version of pip.\n"
     ]
    }
   ],
   "source": [
    "!pip install beautifulsoup4"
   ]
  },
  {
   "cell_type": "code",
   "execution_count": 48,
   "metadata": {},
   "outputs": [],
   "source": [
    "from bs4 import BeautifulSoup\n",
    "import requests\n",
    "import html5lib\n",
    "import numpy as np\n",
    "import re"
   ]
  },
  {
   "cell_type": "code",
   "execution_count": 49,
   "metadata": {},
   "outputs": [],
   "source": [
    "#This gets the worldwide revenues\n",
    "def get_worldwide_rev(sp):\n",
    "    rev = {}\n",
    "    table = sp.find(\"div\", attrs={\"class\": \"a-section a-spacing-none mojo-performance-summary-table\"})\n",
    "    revenues = []\n",
    "    for row in table.findAll(\"span\", attrs={\"class\" : \"a-size-medium a-text-bold\"}):\n",
    "        money = row.findAll(\"span\", attrs={\"class\":\"money\"})\n",
    "        for m in money:\n",
    "            dol = m.get_text().split(\"$\")\n",
    "            dol = \"\".join(dol[1].split(\",\"))\n",
    "            revenues.append(int(dol))\n",
    "\n",
    "    type_of_rev = []\n",
    "    for t in table.findAll(\"span\", attrs={\"class\":\"a-size-small\"}):\n",
    "        for line in list(set(t.get_text().split(\" \"))):\n",
    "            if line.isalpha() : type_of_rev.append(line)\n",
    "\n",
    "    for i in range(len(revenues)):\n",
    "        rev[type_of_rev[i]] = revenues[i]\n",
    "    return rev\n"
   ]
  },
  {
   "cell_type": "code",
   "execution_count": 50,
   "metadata": {},
   "outputs": [],
   "source": [
    "#gets all data available in the page\n",
    "def get_data(sp):\n",
    "    table = sp.find(\"div\", attrs={\"class\": \"a-section a-spacing-none mojo-summary-values mojo-hidden-from-mobile\"})\n",
    "    avail_data = []\n",
    "    for row in table.findAll(\"div\", attrs={\"class\":\"a-section a-spacing-none\"}):\n",
    "        if \"IMDbPro\" not in row.find(\"span\").get_text() : avail_data.append(row.find(\"span\").get_text())\n",
    "    print(avail_data)\n",
    "    table = sp.find(\"div\", attrs={\"class\": \"a-section a-spacing-none mojo-summary-values mojo-hidden-from-mobile\"})\n",
    "\n",
    "    data = []\n",
    "    store_next = False\n",
    "    for t in table.findAll(\"span\"):\n",
    "        if store_next == True:\n",
    "            data.append(t.getText().strip())\n",
    "            store_next = False\n",
    "        if t.getText().strip() in avail_data:\n",
    "            store_next = True\n",
    "\n",
    "    formatted_data = []\n",
    "    for d in data:\n",
    "        a = \" \".join(d.split(\"\\n\"))\n",
    "        a = \" \".join(a.split(\" \"))\n",
    "        a = re.sub(' +', ' ', a)\n",
    "        a = a.strip()\n",
    "        if \"See full\" in a:\n",
    "            a = a.split(\"See full\")[0]\n",
    "            formatted_data.append(a.strip())\n",
    "        elif \"$\" in a:\n",
    "            dol = a.split(\"$\")\n",
    "            dol = \"\".join(dol[1].split(\",\"))\n",
    "            formatted_data.append(int(dol))\n",
    "        else:\n",
    "            formatted_data.append(a.strip())\n",
    "        \n",
    "    data_dict = {}\n",
    "    for i in range(len(avail_data)):\n",
    "        data_dict[avail_data[i]] = formatted_data[i]\n",
    "\n",
    "    return data_dict"
   ]
  },
  {
   "cell_type": "code",
   "execution_count": 60,
   "metadata": {},
   "outputs": [],
   "source": [
    "def get_title(sp):\n",
    "    title = sp.find(\"h1\", attrs={\"class\":\"a-size-extra-large\"}).getText()\n",
    "    return title"
   ]
  },
  {
   "cell_type": "code",
   "execution_count": 61,
   "metadata": {},
   "outputs": [
    {
     "data": {
      "text/plain": [
       "'The Avengers (2012)'"
      ]
     },
     "execution_count": 61,
     "metadata": {},
     "output_type": "execute_result"
    }
   ],
   "source": [
    "URL = f\"https://www.boxofficemojo.com/title/tt0848228/?ref_=bo_se_r_2\"\n",
    "page = requests.get(URL)\n",
    "soup = BeautifulSoup(page.content, \"html5lib\")\n",
    "get_title(soup)"
   ]
  },
  {
   "cell_type": "code",
   "execution_count": 62,
   "metadata": {},
   "outputs": [],
   "source": [
    "def get_data_by_id(id):\n",
    "    URL = f\"https://www.boxofficemojo.com/title/{id}/?ref_=bo_se_r_2\"\n",
    "    page = requests.get(URL)\n",
    "    soup = BeautifulSoup(page.content, \"html5lib\")\n",
    "    title = get_title(soup)\n",
    "    revenue = get_worldwide_rev(soup)\n",
    "    data = get_data(soup)\n",
    "    data[\"Title\"] = title\n",
    "    data[\"Revenue\"] = revenue\n",
    "    return data\n"
   ]
  },
  {
   "cell_type": "code",
   "execution_count": 63,
   "metadata": {},
   "outputs": [
    {
     "name": "stdout",
     "output_type": "stream",
     "text": [
      "['Domestic Distributor', 'Domestic Opening', 'Budget', 'Earliest Release Date', 'MPAA', 'Running Time', 'Genres']\n",
      "{'Domestic Distributor': 'Walt Disney Studios Motion Pictures', 'Domestic Opening': 207438708, 'Budget': 220000000, 'Earliest Release Date': 'April 25, 2012 (APAC, EMEA)', 'MPAA': 'PG-13', 'Running Time': '2 hr 23 min', 'Genres': 'Action Sci-Fi', 'Title': 'The Avengers (2012)', 'Revenue': {'Domestic': 623357910, 'International': 897180626, 'Worldwide': 1520538536}}\n"
     ]
    }
   ],
   "source": [
    "print(get_data_by_id('tt0848228'))"
   ]
  },
  {
   "cell_type": "code",
   "execution_count": null,
   "metadata": {},
   "outputs": [],
   "source": []
  }
 ],
 "metadata": {
  "kernelspec": {
   "display_name": "Python 3",
   "language": "python",
   "name": "python3"
  },
  "language_info": {
   "codemirror_mode": {
    "name": "ipython",
    "version": 3
   },
   "file_extension": ".py",
   "mimetype": "text/x-python",
   "name": "python",
   "nbconvert_exporter": "python",
   "pygments_lexer": "ipython3",
   "version": "3.10.4"
  },
  "orig_nbformat": 4
 },
 "nbformat": 4,
 "nbformat_minor": 2
}
