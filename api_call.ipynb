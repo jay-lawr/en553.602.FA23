{
 "cells": [
  {
   "cell_type": "code",
   "execution_count": 1,
   "metadata": {},
   "outputs": [
    {
     "name": "stdout",
     "output_type": "stream",
     "text": [
      "Collecting tmdbv3api\n",
      "  Downloading tmdbv3api-1.9.0-py3-none-any.whl (25 kB)\n"
     ]
    },
    {
     "name": "stderr",
     "output_type": "stream",
     "text": [
      "WARNING: Ignoring invalid distribution -nappy (c:\\users\\sam oberly\\appdata\\roaming\\python\\python310\\site-packages)\n",
      "WARNING: Ignoring invalid distribution -nappy (c:\\users\\sam oberly\\appdata\\roaming\\python\\python310\\site-packages)\n",
      "WARNING: Ignoring invalid distribution -nappy (c:\\users\\sam oberly\\appdata\\roaming\\python\\python310\\site-packages)\n",
      "WARNING: Ignoring invalid distribution -nappy (c:\\users\\sam oberly\\appdata\\roaming\\python\\python310\\site-packages)\n",
      "WARNING: Ignoring invalid distribution -nappy (c:\\users\\sam oberly\\appdata\\roaming\\python\\python310\\site-packages)\n",
      "WARNING: Ignoring invalid distribution -nappy (c:\\users\\sam oberly\\appdata\\roaming\\python\\python310\\site-packages)\n",
      "WARNING: There was an error checking the latest version of pip.\n"
     ]
    },
    {
     "name": "stdout",
     "output_type": "stream",
     "text": [
      "Requirement already satisfied: requests in c:\\users\\sam oberly\\appdata\\local\\programs\\python\\python310\\lib\\site-packages (from tmdbv3api) (2.31.0)\n",
      "Requirement already satisfied: urllib3<3,>=1.21.1 in c:\\users\\sam oberly\\appdata\\local\\programs\\python\\python310\\lib\\site-packages (from requests->tmdbv3api) (1.26.9)\n",
      "Requirement already satisfied: charset-normalizer<4,>=2 in c:\\users\\sam oberly\\appdata\\local\\programs\\python\\python310\\lib\\site-packages (from requests->tmdbv3api) (2.0.12)\n",
      "Requirement already satisfied: idna<4,>=2.5 in c:\\users\\sam oberly\\appdata\\local\\programs\\python\\python310\\lib\\site-packages (from requests->tmdbv3api) (3.3)\n",
      "Requirement already satisfied: certifi>=2017.4.17 in c:\\users\\sam oberly\\appdata\\local\\programs\\python\\python310\\lib\\site-packages (from requests->tmdbv3api) (2022.5.18.1)\n",
      "Installing collected packages: tmdbv3api\n",
      "Successfully installed tmdbv3api-1.9.0\n"
     ]
    }
   ],
   "source": [
    "!pip install tmdbv3api"
   ]
  },
  {
   "cell_type": "code",
   "execution_count": 2,
   "metadata": {},
   "outputs": [],
   "source": [
    "from tmdbv3api import TMDb\n",
    "from tmdbv3api import Movie\n",
    "from tmdbv3api.exceptions import TMDbException\n",
    "import random\n",
    "import pandas as pd\n",
    "tmdb=TMDb()\n",
    "tmdb.api_key='9cf68f4c97c8f0cc6bb9646da389a808'"
   ]
  },
  {
   "cell_type": "code",
   "execution_count": 3,
   "metadata": {},
   "outputs": [
    {
     "name": "stdout",
     "output_type": "stream",
     "text": [
      "{'title': 'Space Cowboys', 'release_date': '2000-08-04', 'budget': 65000000, 'revenue': 128884132}\n",
      "{'title': 'Sohn ohne Heimat', 'release_date': '1955-10-26', 'budget': 0, 'revenue': 0}\n",
      "{'title': 'Königskinder', 'release_date': '1962-06-08', 'budget': 0, 'revenue': 0}\n",
      "Skipped 6338; The resource you requested could not be found.\n"
     ]
    }
   ],
   "source": [
    "movie=Movie()\n",
    "tmdb.language='en'\n",
    "movie=Movie()\n",
    "movie_data=[]\n",
    "num_mov=0\n",
    "target=100\n",
    "while num_mov<target:\n",
    "    try:\n",
    "        random_movie_id=random.randint(1,10000)\n",
    "        movie_info=movie.details(random_movie_id)\n",
    "        if movie_info:\n",
    "            data={\n",
    "            'title': movie_info['original_title'],\n",
    "            'release_date': movie_info['release_date'],\n",
    "            'budget': movie_info['budget'],\n",
    "            'revenue': movie_info['revenue']\n",
    "            }\n",
    "            movie_data.append(data)\n",
    "            num_mov+=1\n",
    "            print(data)\n",
    "    except TMDbException as e:\n",
    "        print(f\"Skipped {random_movie_id}; {e}\")\n",
    "df=pd.DataFrame(movie_data)\n",
    "excel_file_name='random_movies.xlsx'\n",
    "df.to_excel(excel_file_name,index=False)"
   ]
  }
 ],
 "metadata": {
  "kernelspec": {
   "display_name": "Python 3",
   "language": "python",
   "name": "python3"
  },
  "language_info": {
   "codemirror_mode": {
    "name": "ipython",
    "version": 3
   },
   "file_extension": ".py",
   "mimetype": "text/x-python",
   "name": "python",
   "nbconvert_exporter": "python",
   "pygments_lexer": "ipython3",
   "version": "3.10.4"
  },
  "orig_nbformat": 4
 },
 "nbformat": 4,
 "nbformat_minor": 2
}
